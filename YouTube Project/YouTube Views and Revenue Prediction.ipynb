{
 "cells": [
  {
   "cell_type": "markdown",
   "metadata": {},
   "source": [
    "___"
   ]
  },
  {
   "cell_type": "markdown",
   "metadata": {},
   "source": [
    "<center> <h1> YOUTUBE VIEWS AND REVENUE PREDICTION"
   ]
  },
  {
   "cell_type": "markdown",
   "metadata": {},
   "source": [
    "___"
   ]
  },
  {
   "cell_type": "markdown",
   "metadata": {},
   "source": [
    "### BUSINESS CONTEXT"
   ]
  },
  {
   "cell_type": "markdown",
   "metadata": {},
   "source": [
    "- Getting to know YouTube analytics is crucial if we want to make the most of our YouTube channel. By quantifying the successes and failures of our videos, we can zero in on opportunities to provide value to our subscribers and keep them engaged. <br><br>\n",
    "\n",
    "- So, I have monitored the performance of my channel and videos with up-to-date metrics and reports in YouTube Analytics for more than two years.<br><br>\n",
    "\n",
    "- The data has been taken from my own youtube channel i.e. Aditya Kumar. This is the channel link https://youtube.com/adityakumar"
   ]
  },
  {
   "cell_type": "markdown",
   "metadata": {},
   "source": [
    "## BUSINESS PROBLEM"
   ]
  },
  {
   "cell_type": "markdown",
   "metadata": {},
   "source": [
    ">I would like to understand what factors are driving views. I want to use these insights to to get more views and generate maximum revenue through my channel."
   ]
  },
  {
   "cell_type": "markdown",
   "metadata": {},
   "source": [
    "### DATA DICTIONARY"
   ]
  },
  {
   "cell_type": "markdown",
   "metadata": {},
   "source": [
    "The dataset contains information of 62 videos uploaded over the past two years. The explanation of every variables:\n",
    "\n",
    "- **date** : date of upload<br>\n",
    "- **title** : lenth of the title<br>\n",
    "- **desciption** : length of the description<br>\n",
    "- **tags** : length of the tags<br>\n",
    "- **duration** : duration of the video<br>\n",
    "- **playlist** : number of playlists featuring that video<br>\n",
    "- **copyright_claim** : whether there is a copyright strike on the video or not<br>\n",
    "- **comments** : number of comments on the video<br>\n",
    "- **watch_time** : watch time of the video in hours<br>\n",
    "- **audience_retention** : average percentage of a YouTube video that people watch in hours<br>\n",
    "- **likes_vs_dislikes** : likes vs dislikes<br>\n",
    "- **week_no** : in which week the video was uploaded<br>\n",
    "- **duration_sec** : duration of video in seconds<br>\n",
    "- **views** : total number of views on the video<br>\n",
    "- **revenue** : revenue on a video in dollars"
   ]
  },
  {
   "cell_type": "markdown",
   "metadata": {},
   "source": [
    "___"
   ]
  },
  {
   "cell_type": "markdown",
   "metadata": {},
   "source": [
    "#### IMPORTING REQUIRED LIBRARIES"
   ]
  },
  {
   "cell_type": "code",
   "execution_count": 23,
   "metadata": {},
   "outputs": [],
   "source": [
    "# linear algebra\n",
    "import numpy as np \n",
    "\n",
    "# data processing\n",
    "import pandas as pd \n",
    "\n",
    "# data visualization\n",
    "import seaborn as sns\n",
    "%matplotlib inline\n",
    "from matplotlib import pyplot as plt\n",
    "from matplotlib import style\n",
    "\n",
    "# parameters\n",
    "plt.rcParams['figure.figsize'] = 10, 7.5\n",
    "plt.rcParams['axes.grid'] = False\n",
    "\n",
    "# warnings\n",
    "import warnings\n",
    "warnings.filterwarnings('ignore')"
   ]
  },
  {
   "cell_type": "markdown",
   "metadata": {},
   "source": [
    "#### IMPORTING THE DATASET"
   ]
  },
  {
   "cell_type": "code",
   "execution_count": 24,
   "metadata": {},
   "outputs": [],
   "source": [
    "dataset = pd.read_excel('youtube_analytics.xlsx')"
   ]
  },
  {
   "cell_type": "markdown",
   "metadata": {},
   "source": [
    "___"
   ]
  },
  {
   "cell_type": "markdown",
   "metadata": {},
   "source": [
    "## DATA AUDIT"
   ]
  },
  {
   "cell_type": "code",
   "execution_count": 25,
   "metadata": {},
   "outputs": [
    {
     "data": {
      "text/html": [
       "<div>\n",
       "<style scoped>\n",
       "    .dataframe tbody tr th:only-of-type {\n",
       "        vertical-align: middle;\n",
       "    }\n",
       "\n",
       "    .dataframe tbody tr th {\n",
       "        vertical-align: top;\n",
       "    }\n",
       "\n",
       "    .dataframe thead th {\n",
       "        text-align: right;\n",
       "    }\n",
       "</style>\n",
       "<table border=\"1\" class=\"dataframe\">\n",
       "  <thead>\n",
       "    <tr style=\"text-align: right;\">\n",
       "      <th></th>\n",
       "      <th>date</th>\n",
       "      <th>title</th>\n",
       "      <th>description</th>\n",
       "      <th>tags</th>\n",
       "      <th>duration</th>\n",
       "      <th>playlist</th>\n",
       "      <th>copyright_claim</th>\n",
       "      <th>comments</th>\n",
       "      <th>watch_time</th>\n",
       "      <th>audience_retention</th>\n",
       "      <th>likes_vs_dislikes</th>\n",
       "      <th>week_no</th>\n",
       "      <th>duration_sec</th>\n",
       "      <th>views</th>\n",
       "      <th>revenue</th>\n",
       "    </tr>\n",
       "  </thead>\n",
       "  <tbody>\n",
       "    <tr>\n",
       "      <td>0</td>\n",
       "      <td>2020-01-05</td>\n",
       "      <td>77</td>\n",
       "      <td>488</td>\n",
       "      <td>443</td>\n",
       "      <td>14:08:00</td>\n",
       "      <td>2</td>\n",
       "      <td>1</td>\n",
       "      <td>103</td>\n",
       "      <td>788</td>\n",
       "      <td>0.300</td>\n",
       "      <td>0.993</td>\n",
       "      <td>2</td>\n",
       "      <td>848</td>\n",
       "      <td>11015</td>\n",
       "      <td>2.02</td>\n",
       "    </tr>\n",
       "    <tr>\n",
       "      <td>1</td>\n",
       "      <td>2019-12-25</td>\n",
       "      <td>62</td>\n",
       "      <td>569</td>\n",
       "      <td>434</td>\n",
       "      <td>03:27:00</td>\n",
       "      <td>1</td>\n",
       "      <td>0</td>\n",
       "      <td>64</td>\n",
       "      <td>141</td>\n",
       "      <td>0.496</td>\n",
       "      <td>0.972</td>\n",
       "      <td>52</td>\n",
       "      <td>207</td>\n",
       "      <td>4940</td>\n",
       "      <td>1.42</td>\n",
       "    </tr>\n",
       "    <tr>\n",
       "      <td>2</td>\n",
       "      <td>2019-12-22</td>\n",
       "      <td>53</td>\n",
       "      <td>161</td>\n",
       "      <td>234</td>\n",
       "      <td>02:36:00</td>\n",
       "      <td>1</td>\n",
       "      <td>0</td>\n",
       "      <td>220</td>\n",
       "      <td>245</td>\n",
       "      <td>0.630</td>\n",
       "      <td>0.997</td>\n",
       "      <td>52</td>\n",
       "      <td>156</td>\n",
       "      <td>8917</td>\n",
       "      <td>2.07</td>\n",
       "    </tr>\n",
       "    <tr>\n",
       "      <td>3</td>\n",
       "      <td>2019-06-29</td>\n",
       "      <td>58</td>\n",
       "      <td>1502</td>\n",
       "      <td>202</td>\n",
       "      <td>01:52:00</td>\n",
       "      <td>1</td>\n",
       "      <td>0</td>\n",
       "      <td>179</td>\n",
       "      <td>309</td>\n",
       "      <td>0.600</td>\n",
       "      <td>0.992</td>\n",
       "      <td>26</td>\n",
       "      <td>112</td>\n",
       "      <td>16436</td>\n",
       "      <td>2.69</td>\n",
       "    </tr>\n",
       "    <tr>\n",
       "      <td>4</td>\n",
       "      <td>2019-06-08</td>\n",
       "      <td>59</td>\n",
       "      <td>1502</td>\n",
       "      <td>245</td>\n",
       "      <td>02:07:00</td>\n",
       "      <td>1</td>\n",
       "      <td>0</td>\n",
       "      <td>177</td>\n",
       "      <td>562</td>\n",
       "      <td>0.605</td>\n",
       "      <td>0.992</td>\n",
       "      <td>23</td>\n",
       "      <td>127</td>\n",
       "      <td>26174</td>\n",
       "      <td>4.06</td>\n",
       "    </tr>\n",
       "  </tbody>\n",
       "</table>\n",
       "</div>"
      ],
      "text/plain": [
       "        date  title  description  tags  duration  playlist  copyright_claim  \\\n",
       "0 2020-01-05     77          488   443  14:08:00         2                1   \n",
       "1 2019-12-25     62          569   434  03:27:00         1                0   \n",
       "2 2019-12-22     53          161   234  02:36:00         1                0   \n",
       "3 2019-06-29     58         1502   202  01:52:00         1                0   \n",
       "4 2019-06-08     59         1502   245  02:07:00         1                0   \n",
       "\n",
       "   comments  watch_time  audience_retention  likes_vs_dislikes  week_no  \\\n",
       "0       103         788               0.300              0.993        2   \n",
       "1        64         141               0.496              0.972       52   \n",
       "2       220         245               0.630              0.997       52   \n",
       "3       179         309               0.600              0.992       26   \n",
       "4       177         562               0.605              0.992       23   \n",
       "\n",
       "   duration_sec  views  revenue  \n",
       "0           848  11015     2.02  \n",
       "1           207   4940     1.42  \n",
       "2           156   8917     2.07  \n",
       "3           112  16436     2.69  \n",
       "4           127  26174     4.06  "
      ]
     },
     "execution_count": 25,
     "metadata": {},
     "output_type": "execute_result"
    }
   ],
   "source": [
    "# first five rows of the dataset\n",
    "dataset.head()"
   ]
  },
  {
   "cell_type": "code",
   "execution_count": 26,
   "metadata": {},
   "outputs": [
    {
     "data": {
      "text/html": [
       "<div>\n",
       "<style scoped>\n",
       "    .dataframe tbody tr th:only-of-type {\n",
       "        vertical-align: middle;\n",
       "    }\n",
       "\n",
       "    .dataframe tbody tr th {\n",
       "        vertical-align: top;\n",
       "    }\n",
       "\n",
       "    .dataframe thead th {\n",
       "        text-align: right;\n",
       "    }\n",
       "</style>\n",
       "<table border=\"1\" class=\"dataframe\">\n",
       "  <thead>\n",
       "    <tr style=\"text-align: right;\">\n",
       "      <th></th>\n",
       "      <th>date</th>\n",
       "      <th>title</th>\n",
       "      <th>description</th>\n",
       "      <th>tags</th>\n",
       "      <th>duration</th>\n",
       "      <th>playlist</th>\n",
       "      <th>copyright_claim</th>\n",
       "      <th>comments</th>\n",
       "      <th>watch_time</th>\n",
       "      <th>audience_retention</th>\n",
       "      <th>likes_vs_dislikes</th>\n",
       "      <th>week_no</th>\n",
       "      <th>duration_sec</th>\n",
       "      <th>views</th>\n",
       "      <th>revenue</th>\n",
       "    </tr>\n",
       "  </thead>\n",
       "  <tbody>\n",
       "    <tr>\n",
       "      <td>57</td>\n",
       "      <td>2018-02-02</td>\n",
       "      <td>94</td>\n",
       "      <td>1812</td>\n",
       "      <td>434</td>\n",
       "      <td>03:02:00</td>\n",
       "      <td>1</td>\n",
       "      <td>1</td>\n",
       "      <td>127</td>\n",
       "      <td>825</td>\n",
       "      <td>0.542</td>\n",
       "      <td>0.982</td>\n",
       "      <td>5</td>\n",
       "      <td>182</td>\n",
       "      <td>29975</td>\n",
       "      <td>3.38</td>\n",
       "    </tr>\n",
       "    <tr>\n",
       "      <td>58</td>\n",
       "      <td>2018-01-30</td>\n",
       "      <td>86</td>\n",
       "      <td>1736</td>\n",
       "      <td>436</td>\n",
       "      <td>03:31:00</td>\n",
       "      <td>1</td>\n",
       "      <td>0</td>\n",
       "      <td>370</td>\n",
       "      <td>5900</td>\n",
       "      <td>0.484</td>\n",
       "      <td>0.981</td>\n",
       "      <td>5</td>\n",
       "      <td>211</td>\n",
       "      <td>208151</td>\n",
       "      <td>21.05</td>\n",
       "    </tr>\n",
       "    <tr>\n",
       "      <td>59</td>\n",
       "      <td>2018-01-27</td>\n",
       "      <td>84</td>\n",
       "      <td>1608</td>\n",
       "      <td>357</td>\n",
       "      <td>01:59:00</td>\n",
       "      <td>1</td>\n",
       "      <td>0</td>\n",
       "      <td>290</td>\n",
       "      <td>2400</td>\n",
       "      <td>0.600</td>\n",
       "      <td>0.988</td>\n",
       "      <td>4</td>\n",
       "      <td>119</td>\n",
       "      <td>117857</td>\n",
       "      <td>14.72</td>\n",
       "    </tr>\n",
       "    <tr>\n",
       "      <td>60</td>\n",
       "      <td>2018-01-24</td>\n",
       "      <td>92</td>\n",
       "      <td>1709</td>\n",
       "      <td>447</td>\n",
       "      <td>02:56:00</td>\n",
       "      <td>2</td>\n",
       "      <td>0</td>\n",
       "      <td>313</td>\n",
       "      <td>5500</td>\n",
       "      <td>0.544</td>\n",
       "      <td>0.986</td>\n",
       "      <td>4</td>\n",
       "      <td>176</td>\n",
       "      <td>205518</td>\n",
       "      <td>36.08</td>\n",
       "    </tr>\n",
       "    <tr>\n",
       "      <td>61</td>\n",
       "      <td>2018-01-07</td>\n",
       "      <td>85</td>\n",
       "      <td>1637</td>\n",
       "      <td>485</td>\n",
       "      <td>02:22:00</td>\n",
       "      <td>2</td>\n",
       "      <td>0</td>\n",
       "      <td>524</td>\n",
       "      <td>15500</td>\n",
       "      <td>0.579</td>\n",
       "      <td>0.982</td>\n",
       "      <td>2</td>\n",
       "      <td>142</td>\n",
       "      <td>672446</td>\n",
       "      <td>47.23</td>\n",
       "    </tr>\n",
       "  </tbody>\n",
       "</table>\n",
       "</div>"
      ],
      "text/plain": [
       "         date  title  description  tags  duration  playlist  copyright_claim  \\\n",
       "57 2018-02-02     94         1812   434  03:02:00         1                1   \n",
       "58 2018-01-30     86         1736   436  03:31:00         1                0   \n",
       "59 2018-01-27     84         1608   357  01:59:00         1                0   \n",
       "60 2018-01-24     92         1709   447  02:56:00         2                0   \n",
       "61 2018-01-07     85         1637   485  02:22:00         2                0   \n",
       "\n",
       "    comments  watch_time  audience_retention  likes_vs_dislikes  week_no  \\\n",
       "57       127         825               0.542              0.982        5   \n",
       "58       370        5900               0.484              0.981        5   \n",
       "59       290        2400               0.600              0.988        4   \n",
       "60       313        5500               0.544              0.986        4   \n",
       "61       524       15500               0.579              0.982        2   \n",
       "\n",
       "    duration_sec   views  revenue  \n",
       "57           182   29975     3.38  \n",
       "58           211  208151    21.05  \n",
       "59           119  117857    14.72  \n",
       "60           176  205518    36.08  \n",
       "61           142  672446    47.23  "
      ]
     },
     "execution_count": 26,
     "metadata": {},
     "output_type": "execute_result"
    }
   ],
   "source": [
    "# last five rows of the dataset\n",
    "dataset.tail() "
   ]
  },
  {
   "cell_type": "code",
   "execution_count": 27,
   "metadata": {},
   "outputs": [
    {
     "data": {
      "text/plain": [
       "(62, 15)"
      ]
     },
     "execution_count": 27,
     "metadata": {},
     "output_type": "execute_result"
    }
   ],
   "source": [
    "# shape of the dataset\n",
    "dataset.shape  "
   ]
  },
  {
   "cell_type": "code",
   "execution_count": 28,
   "metadata": {},
   "outputs": [
    {
     "data": {
      "text/plain": [
       "Index(['date', 'title', 'description', 'tags', 'duration', 'playlist',\n",
       "       'copyright_claim', 'comments', 'watch_time', 'audience_retention',\n",
       "       'likes_vs_dislikes', 'week_no', 'duration_sec', 'views', 'revenue'],\n",
       "      dtype='object')"
      ]
     },
     "execution_count": 28,
     "metadata": {},
     "output_type": "execute_result"
    }
   ],
   "source": [
    "# columns present in the dataset\n",
    "dataset.columns"
   ]
  },
  {
   "cell_type": "code",
   "execution_count": 29,
   "metadata": {},
   "outputs": [
    {
     "name": "stdout",
     "output_type": "stream",
     "text": [
      "<class 'pandas.core.frame.DataFrame'>\n",
      "RangeIndex: 62 entries, 0 to 61\n",
      "Data columns (total 15 columns):\n",
      "date                  datetime64[ns]\n",
      "title                 int64\n",
      "description           int64\n",
      "tags                  int64\n",
      "duration              object\n",
      "playlist              int64\n",
      "copyright_claim       int64\n",
      "comments              int64\n",
      "watch_time            int64\n",
      "audience_retention    float64\n",
      "likes_vs_dislikes     float64\n",
      "week_no               int64\n",
      "duration_sec          int64\n",
      "views                 int64\n",
      "revenue               float64\n",
      "dtypes: datetime64[ns](1), float64(3), int64(10), object(1)\n",
      "memory usage: 7.4+ KB\n"
     ]
    }
   ],
   "source": [
    "# a concise summary of the dataset\n",
    "dataset.info(null_counts=False)"
   ]
  },
  {
   "cell_type": "markdown",
   "metadata": {},
   "source": [
    "> The dataset has total **62 observation and 15 variable**s."
   ]
  },
  {
   "cell_type": "code",
   "execution_count": 30,
   "metadata": {},
   "outputs": [
    {
     "data": {
      "text/plain": [
       "date                  0\n",
       "title                 0\n",
       "description           0\n",
       "tags                  0\n",
       "duration              0\n",
       "playlist              0\n",
       "copyright_claim       0\n",
       "comments              0\n",
       "watch_time            0\n",
       "audience_retention    0\n",
       "likes_vs_dislikes     0\n",
       "week_no               0\n",
       "duration_sec          0\n",
       "views                 0\n",
       "revenue               0\n",
       "dtype: int64"
      ]
     },
     "execution_count": 30,
     "metadata": {},
     "output_type": "execute_result"
    }
   ],
   "source": [
    "# number of missing values present in the dataset\n",
    "dataset.isna().sum()"
   ]
  },
  {
   "cell_type": "markdown",
   "metadata": {},
   "source": [
    "> There are **no missing values** in the dataset."
   ]
  },
  {
   "cell_type": "code",
   "execution_count": 31,
   "metadata": {},
   "outputs": [],
   "source": [
    "# getting continous variables to get better clarity of the dataset.\n",
    "dataset_conti_vars = dataset.loc[:, (dataset.dtypes == 'float64') | (dataset.dtypes == 'int64')]"
   ]
  },
  {
   "cell_type": "code",
   "execution_count": 32,
   "metadata": {},
   "outputs": [
    {
     "data": {
      "text/html": [
       "<div>\n",
       "<style scoped>\n",
       "    .dataframe tbody tr th:only-of-type {\n",
       "        vertical-align: middle;\n",
       "    }\n",
       "\n",
       "    .dataframe tbody tr th {\n",
       "        vertical-align: top;\n",
       "    }\n",
       "\n",
       "    .dataframe thead th {\n",
       "        text-align: right;\n",
       "    }\n",
       "</style>\n",
       "<table border=\"1\" class=\"dataframe\">\n",
       "  <thead>\n",
       "    <tr style=\"text-align: right;\">\n",
       "      <th></th>\n",
       "      <th>title</th>\n",
       "      <th>description</th>\n",
       "      <th>tags</th>\n",
       "      <th>playlist</th>\n",
       "      <th>copyright_claim</th>\n",
       "      <th>comments</th>\n",
       "      <th>watch_time</th>\n",
       "      <th>audience_retention</th>\n",
       "      <th>likes_vs_dislikes</th>\n",
       "      <th>week_no</th>\n",
       "      <th>duration_sec</th>\n",
       "      <th>views</th>\n",
       "      <th>revenue</th>\n",
       "    </tr>\n",
       "  </thead>\n",
       "  <tbody>\n",
       "    <tr>\n",
       "      <td>0</td>\n",
       "      <td>77</td>\n",
       "      <td>488</td>\n",
       "      <td>443</td>\n",
       "      <td>2</td>\n",
       "      <td>1</td>\n",
       "      <td>103</td>\n",
       "      <td>788</td>\n",
       "      <td>0.300</td>\n",
       "      <td>0.993</td>\n",
       "      <td>2</td>\n",
       "      <td>848</td>\n",
       "      <td>11015</td>\n",
       "      <td>2.02</td>\n",
       "    </tr>\n",
       "    <tr>\n",
       "      <td>1</td>\n",
       "      <td>62</td>\n",
       "      <td>569</td>\n",
       "      <td>434</td>\n",
       "      <td>1</td>\n",
       "      <td>0</td>\n",
       "      <td>64</td>\n",
       "      <td>141</td>\n",
       "      <td>0.496</td>\n",
       "      <td>0.972</td>\n",
       "      <td>52</td>\n",
       "      <td>207</td>\n",
       "      <td>4940</td>\n",
       "      <td>1.42</td>\n",
       "    </tr>\n",
       "    <tr>\n",
       "      <td>2</td>\n",
       "      <td>53</td>\n",
       "      <td>161</td>\n",
       "      <td>234</td>\n",
       "      <td>1</td>\n",
       "      <td>0</td>\n",
       "      <td>220</td>\n",
       "      <td>245</td>\n",
       "      <td>0.630</td>\n",
       "      <td>0.997</td>\n",
       "      <td>52</td>\n",
       "      <td>156</td>\n",
       "      <td>8917</td>\n",
       "      <td>2.07</td>\n",
       "    </tr>\n",
       "    <tr>\n",
       "      <td>3</td>\n",
       "      <td>58</td>\n",
       "      <td>1502</td>\n",
       "      <td>202</td>\n",
       "      <td>1</td>\n",
       "      <td>0</td>\n",
       "      <td>179</td>\n",
       "      <td>309</td>\n",
       "      <td>0.600</td>\n",
       "      <td>0.992</td>\n",
       "      <td>26</td>\n",
       "      <td>112</td>\n",
       "      <td>16436</td>\n",
       "      <td>2.69</td>\n",
       "    </tr>\n",
       "    <tr>\n",
       "      <td>4</td>\n",
       "      <td>59</td>\n",
       "      <td>1502</td>\n",
       "      <td>245</td>\n",
       "      <td>1</td>\n",
       "      <td>0</td>\n",
       "      <td>177</td>\n",
       "      <td>562</td>\n",
       "      <td>0.605</td>\n",
       "      <td>0.992</td>\n",
       "      <td>23</td>\n",
       "      <td>127</td>\n",
       "      <td>26174</td>\n",
       "      <td>4.06</td>\n",
       "    </tr>\n",
       "  </tbody>\n",
       "</table>\n",
       "</div>"
      ],
      "text/plain": [
       "   title  description  tags  playlist  copyright_claim  comments  watch_time  \\\n",
       "0     77          488   443         2                1       103         788   \n",
       "1     62          569   434         1                0        64         141   \n",
       "2     53          161   234         1                0       220         245   \n",
       "3     58         1502   202         1                0       179         309   \n",
       "4     59         1502   245         1                0       177         562   \n",
       "\n",
       "   audience_retention  likes_vs_dislikes  week_no  duration_sec  views  \\\n",
       "0               0.300              0.993        2           848  11015   \n",
       "1               0.496              0.972       52           207   4940   \n",
       "2               0.630              0.997       52           156   8917   \n",
       "3               0.600              0.992       26           112  16436   \n",
       "4               0.605              0.992       23           127  26174   \n",
       "\n",
       "   revenue  \n",
       "0     2.02  \n",
       "1     1.42  \n",
       "2     2.07  \n",
       "3     2.69  \n",
       "4     4.06  "
      ]
     },
     "execution_count": 32,
     "metadata": {},
     "output_type": "execute_result"
    }
   ],
   "source": [
    "# first five rows of the continous variables of dataset\n",
    "dataset_conti_vars.head()  "
   ]
  },
  {
   "cell_type": "code",
   "execution_count": 33,
   "metadata": {},
   "outputs": [],
   "source": [
    "# Creating a UDF to get the summary of the continous variables for data exploration and analysis\n",
    "def continous_var_summary(x):\n",
    "    return pd.Series([x.count(), x.isnull().sum(), (x.isnull().sum()/x.isnull().count()*100), x.sum(), x.min(), \n",
    "                      x.mean(), x.median(), x.std(), x.var(), x.quantile(.01), x.quantile(.05), x.quantile(.10), \n",
    "                      x.quantile(.25), x.quantile(.50), x.quantile(.75), x.quantile(.90), x.quantile(.95), \n",
    "                      x.quantile(.99), x.max()], \n",
    "                      index = ['N', 'NMISS', '%MISS', 'SUM', 'MIN', 'MEAN', 'MEDIAN', 'STD', 'VAR', 'P1', 'P5', \n",
    "                               'P10', 'P25', 'P50', 'P75', 'P90', 'P95', 'P99', 'MAX'])"
   ]
  },
  {
   "cell_type": "code",
   "execution_count": 34,
   "metadata": {},
   "outputs": [
    {
     "data": {
      "text/html": [
       "<div>\n",
       "<style scoped>\n",
       "    .dataframe tbody tr th:only-of-type {\n",
       "        vertical-align: middle;\n",
       "    }\n",
       "\n",
       "    .dataframe tbody tr th {\n",
       "        vertical-align: top;\n",
       "    }\n",
       "\n",
       "    .dataframe thead th {\n",
       "        text-align: right;\n",
       "    }\n",
       "</style>\n",
       "<table border=\"1\" class=\"dataframe\">\n",
       "  <thead>\n",
       "    <tr style=\"text-align: right;\">\n",
       "      <th></th>\n",
       "      <th>N</th>\n",
       "      <th>NMISS</th>\n",
       "      <th>%MISS</th>\n",
       "      <th>SUM</th>\n",
       "      <th>MIN</th>\n",
       "      <th>MEAN</th>\n",
       "      <th>MEDIAN</th>\n",
       "      <th>STD</th>\n",
       "      <th>VAR</th>\n",
       "      <th>P1</th>\n",
       "      <th>P5</th>\n",
       "      <th>P10</th>\n",
       "      <th>P25</th>\n",
       "      <th>P50</th>\n",
       "      <th>P75</th>\n",
       "      <th>P90</th>\n",
       "      <th>P95</th>\n",
       "      <th>P99</th>\n",
       "      <th>MAX</th>\n",
       "    </tr>\n",
       "  </thead>\n",
       "  <tbody>\n",
       "    <tr>\n",
       "      <td>title</td>\n",
       "      <td>62.0</td>\n",
       "      <td>0.0</td>\n",
       "      <td>0.0</td>\n",
       "      <td>5195.0</td>\n",
       "      <td>50.0</td>\n",
       "      <td>84.0</td>\n",
       "      <td>89.0</td>\n",
       "      <td>14.0</td>\n",
       "      <td>2.070000e+02</td>\n",
       "      <td>52.0</td>\n",
       "      <td>58.0</td>\n",
       "      <td>60.0</td>\n",
       "      <td>74.0</td>\n",
       "      <td>89.0</td>\n",
       "      <td>95.0</td>\n",
       "      <td>99.0</td>\n",
       "      <td>100.0</td>\n",
       "      <td>100.0</td>\n",
       "      <td>100.0</td>\n",
       "    </tr>\n",
       "    <tr>\n",
       "      <td>description</td>\n",
       "      <td>62.0</td>\n",
       "      <td>0.0</td>\n",
       "      <td>0.0</td>\n",
       "      <td>95976.0</td>\n",
       "      <td>161.0</td>\n",
       "      <td>1548.0</td>\n",
       "      <td>1562.0</td>\n",
       "      <td>286.0</td>\n",
       "      <td>8.173700e+04</td>\n",
       "      <td>360.0</td>\n",
       "      <td>1491.0</td>\n",
       "      <td>1502.0</td>\n",
       "      <td>1508.0</td>\n",
       "      <td>1562.0</td>\n",
       "      <td>1654.0</td>\n",
       "      <td>1788.0</td>\n",
       "      <td>1812.0</td>\n",
       "      <td>1918.0</td>\n",
       "      <td>1928.0</td>\n",
       "    </tr>\n",
       "    <tr>\n",
       "      <td>tags</td>\n",
       "      <td>62.0</td>\n",
       "      <td>0.0</td>\n",
       "      <td>0.0</td>\n",
       "      <td>25200.0</td>\n",
       "      <td>201.0</td>\n",
       "      <td>406.0</td>\n",
       "      <td>435.0</td>\n",
       "      <td>93.0</td>\n",
       "      <td>8.642000e+03</td>\n",
       "      <td>202.0</td>\n",
       "      <td>245.0</td>\n",
       "      <td>273.0</td>\n",
       "      <td>326.0</td>\n",
       "      <td>435.0</td>\n",
       "      <td>494.0</td>\n",
       "      <td>499.0</td>\n",
       "      <td>500.0</td>\n",
       "      <td>500.0</td>\n",
       "      <td>500.0</td>\n",
       "    </tr>\n",
       "    <tr>\n",
       "      <td>playlist</td>\n",
       "      <td>62.0</td>\n",
       "      <td>0.0</td>\n",
       "      <td>0.0</td>\n",
       "      <td>80.0</td>\n",
       "      <td>0.0</td>\n",
       "      <td>1.0</td>\n",
       "      <td>1.0</td>\n",
       "      <td>1.0</td>\n",
       "      <td>0.000000e+00</td>\n",
       "      <td>1.0</td>\n",
       "      <td>1.0</td>\n",
       "      <td>1.0</td>\n",
       "      <td>1.0</td>\n",
       "      <td>1.0</td>\n",
       "      <td>2.0</td>\n",
       "      <td>2.0</td>\n",
       "      <td>2.0</td>\n",
       "      <td>2.0</td>\n",
       "      <td>3.0</td>\n",
       "    </tr>\n",
       "    <tr>\n",
       "      <td>copyright_claim</td>\n",
       "      <td>62.0</td>\n",
       "      <td>0.0</td>\n",
       "      <td>0.0</td>\n",
       "      <td>6.0</td>\n",
       "      <td>0.0</td>\n",
       "      <td>0.0</td>\n",
       "      <td>0.0</td>\n",
       "      <td>0.0</td>\n",
       "      <td>0.000000e+00</td>\n",
       "      <td>0.0</td>\n",
       "      <td>0.0</td>\n",
       "      <td>0.0</td>\n",
       "      <td>0.0</td>\n",
       "      <td>0.0</td>\n",
       "      <td>0.0</td>\n",
       "      <td>0.0</td>\n",
       "      <td>1.0</td>\n",
       "      <td>1.0</td>\n",
       "      <td>1.0</td>\n",
       "    </tr>\n",
       "    <tr>\n",
       "      <td>comments</td>\n",
       "      <td>62.0</td>\n",
       "      <td>0.0</td>\n",
       "      <td>0.0</td>\n",
       "      <td>16811.0</td>\n",
       "      <td>50.0</td>\n",
       "      <td>271.0</td>\n",
       "      <td>229.0</td>\n",
       "      <td>185.0</td>\n",
       "      <td>3.417300e+04</td>\n",
       "      <td>59.0</td>\n",
       "      <td>80.0</td>\n",
       "      <td>126.0</td>\n",
       "      <td>177.0</td>\n",
       "      <td>229.0</td>\n",
       "      <td>321.0</td>\n",
       "      <td>426.0</td>\n",
       "      <td>526.0</td>\n",
       "      <td>1020.0</td>\n",
       "      <td>1119.0</td>\n",
       "    </tr>\n",
       "    <tr>\n",
       "      <td>watch_time</td>\n",
       "      <td>62.0</td>\n",
       "      <td>0.0</td>\n",
       "      <td>0.0</td>\n",
       "      <td>172193.0</td>\n",
       "      <td>141.0</td>\n",
       "      <td>2777.0</td>\n",
       "      <td>1100.0</td>\n",
       "      <td>5590.0</td>\n",
       "      <td>3.124722e+07</td>\n",
       "      <td>172.0</td>\n",
       "      <td>300.0</td>\n",
       "      <td>478.0</td>\n",
       "      <td>727.0</td>\n",
       "      <td>1100.0</td>\n",
       "      <td>2650.0</td>\n",
       "      <td>5860.0</td>\n",
       "      <td>7950.0</td>\n",
       "      <td>25406.0</td>\n",
       "      <td>40900.0</td>\n",
       "    </tr>\n",
       "    <tr>\n",
       "      <td>audience_retention</td>\n",
       "      <td>62.0</td>\n",
       "      <td>0.0</td>\n",
       "      <td>0.0</td>\n",
       "      <td>35.0</td>\n",
       "      <td>0.0</td>\n",
       "      <td>1.0</td>\n",
       "      <td>1.0</td>\n",
       "      <td>0.0</td>\n",
       "      <td>0.000000e+00</td>\n",
       "      <td>0.0</td>\n",
       "      <td>0.0</td>\n",
       "      <td>0.0</td>\n",
       "      <td>1.0</td>\n",
       "      <td>1.0</td>\n",
       "      <td>1.0</td>\n",
       "      <td>1.0</td>\n",
       "      <td>1.0</td>\n",
       "      <td>1.0</td>\n",
       "      <td>1.0</td>\n",
       "    </tr>\n",
       "    <tr>\n",
       "      <td>likes_vs_dislikes</td>\n",
       "      <td>62.0</td>\n",
       "      <td>0.0</td>\n",
       "      <td>0.0</td>\n",
       "      <td>61.0</td>\n",
       "      <td>1.0</td>\n",
       "      <td>1.0</td>\n",
       "      <td>1.0</td>\n",
       "      <td>0.0</td>\n",
       "      <td>0.000000e+00</td>\n",
       "      <td>1.0</td>\n",
       "      <td>1.0</td>\n",
       "      <td>1.0</td>\n",
       "      <td>1.0</td>\n",
       "      <td>1.0</td>\n",
       "      <td>1.0</td>\n",
       "      <td>1.0</td>\n",
       "      <td>1.0</td>\n",
       "      <td>1.0</td>\n",
       "      <td>1.0</td>\n",
       "    </tr>\n",
       "    <tr>\n",
       "      <td>week_no</td>\n",
       "      <td>62.0</td>\n",
       "      <td>0.0</td>\n",
       "      <td>0.0</td>\n",
       "      <td>1416.0</td>\n",
       "      <td>1.0</td>\n",
       "      <td>23.0</td>\n",
       "      <td>21.0</td>\n",
       "      <td>16.0</td>\n",
       "      <td>2.720000e+02</td>\n",
       "      <td>2.0</td>\n",
       "      <td>2.0</td>\n",
       "      <td>4.0</td>\n",
       "      <td>7.0</td>\n",
       "      <td>21.0</td>\n",
       "      <td>37.0</td>\n",
       "      <td>47.0</td>\n",
       "      <td>50.0</td>\n",
       "      <td>52.0</td>\n",
       "      <td>52.0</td>\n",
       "    </tr>\n",
       "    <tr>\n",
       "      <td>duration_sec</td>\n",
       "      <td>62.0</td>\n",
       "      <td>0.0</td>\n",
       "      <td>0.0</td>\n",
       "      <td>9970.0</td>\n",
       "      <td>30.0</td>\n",
       "      <td>161.0</td>\n",
       "      <td>142.0</td>\n",
       "      <td>100.0</td>\n",
       "      <td>1.001500e+04</td>\n",
       "      <td>36.0</td>\n",
       "      <td>76.0</td>\n",
       "      <td>106.0</td>\n",
       "      <td>123.0</td>\n",
       "      <td>142.0</td>\n",
       "      <td>181.0</td>\n",
       "      <td>219.0</td>\n",
       "      <td>230.0</td>\n",
       "      <td>492.0</td>\n",
       "      <td>848.0</td>\n",
       "    </tr>\n",
       "    <tr>\n",
       "      <td>views</td>\n",
       "      <td>62.0</td>\n",
       "      <td>0.0</td>\n",
       "      <td>0.0</td>\n",
       "      <td>7274670.0</td>\n",
       "      <td>4940.0</td>\n",
       "      <td>117333.0</td>\n",
       "      <td>48127.0</td>\n",
       "      <td>239782.0</td>\n",
       "      <td>5.749530e+10</td>\n",
       "      <td>7366.0</td>\n",
       "      <td>16524.0</td>\n",
       "      <td>21604.0</td>\n",
       "      <td>29886.0</td>\n",
       "      <td>48127.0</td>\n",
       "      <td>114125.0</td>\n",
       "      <td>207888.0</td>\n",
       "      <td>330013.0</td>\n",
       "      <td>1098705.0</td>\n",
       "      <td>1765419.0</td>\n",
       "    </tr>\n",
       "    <tr>\n",
       "      <td>revenue</td>\n",
       "      <td>62.0</td>\n",
       "      <td>0.0</td>\n",
       "      <td>0.0</td>\n",
       "      <td>777.0</td>\n",
       "      <td>0.0</td>\n",
       "      <td>13.0</td>\n",
       "      <td>6.0</td>\n",
       "      <td>23.0</td>\n",
       "      <td>5.270000e+02</td>\n",
       "      <td>0.0</td>\n",
       "      <td>1.0</td>\n",
       "      <td>2.0</td>\n",
       "      <td>4.0</td>\n",
       "      <td>6.0</td>\n",
       "      <td>13.0</td>\n",
       "      <td>28.0</td>\n",
       "      <td>36.0</td>\n",
       "      <td>96.0</td>\n",
       "      <td>170.0</td>\n",
       "    </tr>\n",
       "  </tbody>\n",
       "</table>\n",
       "</div>"
      ],
      "text/plain": [
       "                       N  NMISS  %MISS        SUM     MIN      MEAN   MEDIAN  \\\n",
       "title               62.0    0.0    0.0     5195.0    50.0      84.0     89.0   \n",
       "description         62.0    0.0    0.0    95976.0   161.0    1548.0   1562.0   \n",
       "tags                62.0    0.0    0.0    25200.0   201.0     406.0    435.0   \n",
       "playlist            62.0    0.0    0.0       80.0     0.0       1.0      1.0   \n",
       "copyright_claim     62.0    0.0    0.0        6.0     0.0       0.0      0.0   \n",
       "comments            62.0    0.0    0.0    16811.0    50.0     271.0    229.0   \n",
       "watch_time          62.0    0.0    0.0   172193.0   141.0    2777.0   1100.0   \n",
       "audience_retention  62.0    0.0    0.0       35.0     0.0       1.0      1.0   \n",
       "likes_vs_dislikes   62.0    0.0    0.0       61.0     1.0       1.0      1.0   \n",
       "week_no             62.0    0.0    0.0     1416.0     1.0      23.0     21.0   \n",
       "duration_sec        62.0    0.0    0.0     9970.0    30.0     161.0    142.0   \n",
       "views               62.0    0.0    0.0  7274670.0  4940.0  117333.0  48127.0   \n",
       "revenue             62.0    0.0    0.0      777.0     0.0      13.0      6.0   \n",
       "\n",
       "                         STD           VAR      P1       P5      P10      P25  \\\n",
       "title                   14.0  2.070000e+02    52.0     58.0     60.0     74.0   \n",
       "description            286.0  8.173700e+04   360.0   1491.0   1502.0   1508.0   \n",
       "tags                    93.0  8.642000e+03   202.0    245.0    273.0    326.0   \n",
       "playlist                 1.0  0.000000e+00     1.0      1.0      1.0      1.0   \n",
       "copyright_claim          0.0  0.000000e+00     0.0      0.0      0.0      0.0   \n",
       "comments               185.0  3.417300e+04    59.0     80.0    126.0    177.0   \n",
       "watch_time            5590.0  3.124722e+07   172.0    300.0    478.0    727.0   \n",
       "audience_retention       0.0  0.000000e+00     0.0      0.0      0.0      1.0   \n",
       "likes_vs_dislikes        0.0  0.000000e+00     1.0      1.0      1.0      1.0   \n",
       "week_no                 16.0  2.720000e+02     2.0      2.0      4.0      7.0   \n",
       "duration_sec           100.0  1.001500e+04    36.0     76.0    106.0    123.0   \n",
       "views               239782.0  5.749530e+10  7366.0  16524.0  21604.0  29886.0   \n",
       "revenue                 23.0  5.270000e+02     0.0      1.0      2.0      4.0   \n",
       "\n",
       "                        P50       P75       P90       P95        P99  \\\n",
       "title                  89.0      95.0      99.0     100.0      100.0   \n",
       "description          1562.0    1654.0    1788.0    1812.0     1918.0   \n",
       "tags                  435.0     494.0     499.0     500.0      500.0   \n",
       "playlist                1.0       2.0       2.0       2.0        2.0   \n",
       "copyright_claim         0.0       0.0       0.0       1.0        1.0   \n",
       "comments              229.0     321.0     426.0     526.0     1020.0   \n",
       "watch_time           1100.0    2650.0    5860.0    7950.0    25406.0   \n",
       "audience_retention      1.0       1.0       1.0       1.0        1.0   \n",
       "likes_vs_dislikes       1.0       1.0       1.0       1.0        1.0   \n",
       "week_no                21.0      37.0      47.0      50.0       52.0   \n",
       "duration_sec          142.0     181.0     219.0     230.0      492.0   \n",
       "views               48127.0  114125.0  207888.0  330013.0  1098705.0   \n",
       "revenue                 6.0      13.0      28.0      36.0       96.0   \n",
       "\n",
       "                          MAX  \n",
       "title                   100.0  \n",
       "description            1928.0  \n",
       "tags                    500.0  \n",
       "playlist                  3.0  \n",
       "copyright_claim           1.0  \n",
       "comments               1119.0  \n",
       "watch_time            40900.0  \n",
       "audience_retention        1.0  \n",
       "likes_vs_dislikes         1.0  \n",
       "week_no                  52.0  \n",
       "duration_sec            848.0  \n",
       "views               1765419.0  \n",
       "revenue                 170.0  "
      ]
     },
     "execution_count": 34,
     "metadata": {},
     "output_type": "execute_result"
    }
   ],
   "source": [
    "dataset_conti_vars.to_csv('dataset_conti_vars.csv', index=False)\n",
    "dataset_conti_vars.apply(continous_var_summary).T.round()  "
   ]
  },
  {
   "cell_type": "markdown",
   "metadata": {},
   "source": [
    ">From the table above, I noted a few things:<br> \n",
    "- Certainly, there are **outliers present** in the  dataset. we can spot them through high variance, and high standard deviation and the difference between p99 and Max. \n",
    "- We can also spot some more features, that dataset does not contain any **missing values**."
   ]
  },
  {
   "cell_type": "markdown",
   "metadata": {},
   "source": [
    "> - Through business accumen I came out to this conclusion that we **don't need date** variable in the dataset because as we can see most of the videos were uploaded on weekly basis and we already have a **week number** column. \n",
    "- Similarly duration variable, the duration of most of the video is **2 minutes** so for predicting views I need duration in seconds to be more precise and we already have a **duration in seconds** variables.\n",
    "- Hence, we will **drop date** and **duration** variable from the dataset."
   ]
  },
  {
   "cell_type": "markdown",
   "metadata": {},
   "source": [
    "___"
   ]
  },
  {
   "cell_type": "markdown",
   "metadata": {},
   "source": [
    "<h2> DATA PREPARATION"
   ]
  },
  {
   "cell_type": "markdown",
   "metadata": {},
   "source": [
    "#### DROPPING IRRELEVENT VARIABLES"
   ]
  },
  {
   "cell_type": "code",
   "execution_count": 35,
   "metadata": {},
   "outputs": [],
   "source": [
    "# dropping date and duration variable\n",
    "dataset = dataset.drop(columns=['date', 'duration'])"
   ]
  },
  {
   "cell_type": "markdown",
   "metadata": {},
   "source": [
    "#### TREATING OUTLIERS"
   ]
  },
  {
   "cell_type": "code",
   "execution_count": 36,
   "metadata": {},
   "outputs": [],
   "source": [
    "# Clipping Outliers with P2 and P98\n",
    "dataset = dataset.apply(lambda x: x.clip(lower=x.dropna().quantile(.2), upper=x.quantile(.98)))"
   ]
  },
  {
   "cell_type": "code",
   "execution_count": 37,
   "metadata": {},
   "outputs": [
    {
     "data": {
      "text/html": [
       "<div>\n",
       "<style scoped>\n",
       "    .dataframe tbody tr th:only-of-type {\n",
       "        vertical-align: middle;\n",
       "    }\n",
       "\n",
       "    .dataframe tbody tr th {\n",
       "        vertical-align: top;\n",
       "    }\n",
       "\n",
       "    .dataframe thead th {\n",
       "        text-align: right;\n",
       "    }\n",
       "</style>\n",
       "<table border=\"1\" class=\"dataframe\">\n",
       "  <thead>\n",
       "    <tr style=\"text-align: right;\">\n",
       "      <th></th>\n",
       "      <th>N</th>\n",
       "      <th>NMISS</th>\n",
       "      <th>%MISS</th>\n",
       "      <th>SUM</th>\n",
       "      <th>MIN</th>\n",
       "      <th>MEAN</th>\n",
       "      <th>MEDIAN</th>\n",
       "      <th>STD</th>\n",
       "      <th>VAR</th>\n",
       "      <th>P1</th>\n",
       "      <th>P5</th>\n",
       "      <th>P10</th>\n",
       "      <th>P25</th>\n",
       "      <th>P50</th>\n",
       "      <th>P75</th>\n",
       "      <th>P90</th>\n",
       "      <th>P95</th>\n",
       "      <th>P99</th>\n",
       "      <th>MAX</th>\n",
       "    </tr>\n",
       "  </thead>\n",
       "  <tbody>\n",
       "    <tr>\n",
       "      <td>title</td>\n",
       "      <td>62.0</td>\n",
       "      <td>0.0</td>\n",
       "      <td>0.0</td>\n",
       "      <td>5321.0</td>\n",
       "      <td>70.0</td>\n",
       "      <td>86.0</td>\n",
       "      <td>89.0</td>\n",
       "      <td>11.0</td>\n",
       "      <td>1.200000e+02</td>\n",
       "      <td>70.0</td>\n",
       "      <td>70.0</td>\n",
       "      <td>70.0</td>\n",
       "      <td>74.0</td>\n",
       "      <td>89.0</td>\n",
       "      <td>95.0</td>\n",
       "      <td>99.0</td>\n",
       "      <td>100.0</td>\n",
       "      <td>100.0</td>\n",
       "      <td>100.0</td>\n",
       "    </tr>\n",
       "    <tr>\n",
       "      <td>description</td>\n",
       "      <td>62.0</td>\n",
       "      <td>0.0</td>\n",
       "      <td>0.0</td>\n",
       "      <td>99224.0</td>\n",
       "      <td>1502.0</td>\n",
       "      <td>1600.0</td>\n",
       "      <td>1562.0</td>\n",
       "      <td>113.0</td>\n",
       "      <td>1.275100e+04</td>\n",
       "      <td>1502.0</td>\n",
       "      <td>1502.0</td>\n",
       "      <td>1502.0</td>\n",
       "      <td>1508.0</td>\n",
       "      <td>1562.0</td>\n",
       "      <td>1654.0</td>\n",
       "      <td>1788.0</td>\n",
       "      <td>1812.0</td>\n",
       "      <td>1894.0</td>\n",
       "      <td>1894.0</td>\n",
       "    </tr>\n",
       "    <tr>\n",
       "      <td>tags</td>\n",
       "      <td>62.0</td>\n",
       "      <td>0.0</td>\n",
       "      <td>0.0</td>\n",
       "      <td>25873.0</td>\n",
       "      <td>319.0</td>\n",
       "      <td>417.0</td>\n",
       "      <td>435.0</td>\n",
       "      <td>76.0</td>\n",
       "      <td>5.707000e+03</td>\n",
       "      <td>319.0</td>\n",
       "      <td>319.0</td>\n",
       "      <td>319.0</td>\n",
       "      <td>326.0</td>\n",
       "      <td>435.0</td>\n",
       "      <td>494.0</td>\n",
       "      <td>499.0</td>\n",
       "      <td>500.0</td>\n",
       "      <td>500.0</td>\n",
       "      <td>500.0</td>\n",
       "    </tr>\n",
       "    <tr>\n",
       "      <td>playlist</td>\n",
       "      <td>62.0</td>\n",
       "      <td>0.0</td>\n",
       "      <td>0.0</td>\n",
       "      <td>80.0</td>\n",
       "      <td>1.0</td>\n",
       "      <td>1.0</td>\n",
       "      <td>1.0</td>\n",
       "      <td>0.0</td>\n",
       "      <td>0.000000e+00</td>\n",
       "      <td>1.0</td>\n",
       "      <td>1.0</td>\n",
       "      <td>1.0</td>\n",
       "      <td>1.0</td>\n",
       "      <td>1.0</td>\n",
       "      <td>2.0</td>\n",
       "      <td>2.0</td>\n",
       "      <td>2.0</td>\n",
       "      <td>2.0</td>\n",
       "      <td>2.0</td>\n",
       "    </tr>\n",
       "    <tr>\n",
       "      <td>copyright_claim</td>\n",
       "      <td>62.0</td>\n",
       "      <td>0.0</td>\n",
       "      <td>0.0</td>\n",
       "      <td>6.0</td>\n",
       "      <td>0.0</td>\n",
       "      <td>0.0</td>\n",
       "      <td>0.0</td>\n",
       "      <td>0.0</td>\n",
       "      <td>0.000000e+00</td>\n",
       "      <td>0.0</td>\n",
       "      <td>0.0</td>\n",
       "      <td>0.0</td>\n",
       "      <td>0.0</td>\n",
       "      <td>0.0</td>\n",
       "      <td>0.0</td>\n",
       "      <td>0.0</td>\n",
       "      <td>1.0</td>\n",
       "      <td>1.0</td>\n",
       "      <td>1.0</td>\n",
       "    </tr>\n",
       "    <tr>\n",
       "      <td>comments</td>\n",
       "      <td>62.0</td>\n",
       "      <td>0.0</td>\n",
       "      <td>0.0</td>\n",
       "      <td>17008.0</td>\n",
       "      <td>147.0</td>\n",
       "      <td>274.0</td>\n",
       "      <td>229.0</td>\n",
       "      <td>157.0</td>\n",
       "      <td>2.474400e+04</td>\n",
       "      <td>147.0</td>\n",
       "      <td>147.0</td>\n",
       "      <td>147.0</td>\n",
       "      <td>177.0</td>\n",
       "      <td>229.0</td>\n",
       "      <td>321.0</td>\n",
       "      <td>426.0</td>\n",
       "      <td>526.0</td>\n",
       "      <td>891.0</td>\n",
       "      <td>891.0</td>\n",
       "    </tr>\n",
       "    <tr>\n",
       "      <td>watch_time</td>\n",
       "      <td>62.0</td>\n",
       "      <td>0.0</td>\n",
       "      <td>0.0</td>\n",
       "      <td>146229.0</td>\n",
       "      <td>564.0</td>\n",
       "      <td>2359.0</td>\n",
       "      <td>1100.0</td>\n",
       "      <td>2952.0</td>\n",
       "      <td>8.712570e+06</td>\n",
       "      <td>564.0</td>\n",
       "      <td>564.0</td>\n",
       "      <td>564.0</td>\n",
       "      <td>727.0</td>\n",
       "      <td>1100.0</td>\n",
       "      <td>2650.0</td>\n",
       "      <td>5860.0</td>\n",
       "      <td>7950.0</td>\n",
       "      <td>14202.0</td>\n",
       "      <td>14202.0</td>\n",
       "    </tr>\n",
       "    <tr>\n",
       "      <td>audience_retention</td>\n",
       "      <td>62.0</td>\n",
       "      <td>0.0</td>\n",
       "      <td>0.0</td>\n",
       "      <td>36.0</td>\n",
       "      <td>1.0</td>\n",
       "      <td>1.0</td>\n",
       "      <td>1.0</td>\n",
       "      <td>0.0</td>\n",
       "      <td>0.000000e+00</td>\n",
       "      <td>1.0</td>\n",
       "      <td>1.0</td>\n",
       "      <td>1.0</td>\n",
       "      <td>1.0</td>\n",
       "      <td>1.0</td>\n",
       "      <td>1.0</td>\n",
       "      <td>1.0</td>\n",
       "      <td>1.0</td>\n",
       "      <td>1.0</td>\n",
       "      <td>1.0</td>\n",
       "    </tr>\n",
       "    <tr>\n",
       "      <td>likes_vs_dislikes</td>\n",
       "      <td>62.0</td>\n",
       "      <td>0.0</td>\n",
       "      <td>0.0</td>\n",
       "      <td>61.0</td>\n",
       "      <td>1.0</td>\n",
       "      <td>1.0</td>\n",
       "      <td>1.0</td>\n",
       "      <td>0.0</td>\n",
       "      <td>0.000000e+00</td>\n",
       "      <td>1.0</td>\n",
       "      <td>1.0</td>\n",
       "      <td>1.0</td>\n",
       "      <td>1.0</td>\n",
       "      <td>1.0</td>\n",
       "      <td>1.0</td>\n",
       "      <td>1.0</td>\n",
       "      <td>1.0</td>\n",
       "      <td>1.0</td>\n",
       "      <td>1.0</td>\n",
       "    </tr>\n",
       "    <tr>\n",
       "      <td>week_no</td>\n",
       "      <td>62.0</td>\n",
       "      <td>0.0</td>\n",
       "      <td>0.0</td>\n",
       "      <td>1449.0</td>\n",
       "      <td>6.0</td>\n",
       "      <td>23.0</td>\n",
       "      <td>21.0</td>\n",
       "      <td>16.0</td>\n",
       "      <td>2.520000e+02</td>\n",
       "      <td>6.0</td>\n",
       "      <td>6.0</td>\n",
       "      <td>6.0</td>\n",
       "      <td>7.0</td>\n",
       "      <td>21.0</td>\n",
       "      <td>37.0</td>\n",
       "      <td>47.0</td>\n",
       "      <td>50.0</td>\n",
       "      <td>52.0</td>\n",
       "      <td>52.0</td>\n",
       "    </tr>\n",
       "    <tr>\n",
       "      <td>duration_sec</td>\n",
       "      <td>62.0</td>\n",
       "      <td>0.0</td>\n",
       "      <td>0.0</td>\n",
       "      <td>9744.0</td>\n",
       "      <td>120.0</td>\n",
       "      <td>157.0</td>\n",
       "      <td>142.0</td>\n",
       "      <td>39.0</td>\n",
       "      <td>1.526000e+03</td>\n",
       "      <td>120.0</td>\n",
       "      <td>120.0</td>\n",
       "      <td>120.0</td>\n",
       "      <td>123.0</td>\n",
       "      <td>142.0</td>\n",
       "      <td>181.0</td>\n",
       "      <td>219.0</td>\n",
       "      <td>230.0</td>\n",
       "      <td>257.0</td>\n",
       "      <td>257.0</td>\n",
       "    </tr>\n",
       "    <tr>\n",
       "      <td>views</td>\n",
       "      <td>62.0</td>\n",
       "      <td>0.0</td>\n",
       "      <td>0.0</td>\n",
       "      <td>6188157.0</td>\n",
       "      <td>28369.0</td>\n",
       "      <td>99809.0</td>\n",
       "      <td>48127.0</td>\n",
       "      <td>124358.0</td>\n",
       "      <td>1.546492e+10</td>\n",
       "      <td>28369.0</td>\n",
       "      <td>28369.0</td>\n",
       "      <td>28369.0</td>\n",
       "      <td>29886.0</td>\n",
       "      <td>48127.0</td>\n",
       "      <td>114125.0</td>\n",
       "      <td>207888.0</td>\n",
       "      <td>330013.0</td>\n",
       "      <td>618159.0</td>\n",
       "      <td>618159.0</td>\n",
       "    </tr>\n",
       "    <tr>\n",
       "      <td>revenue</td>\n",
       "      <td>62.0</td>\n",
       "      <td>0.0</td>\n",
       "      <td>0.0</td>\n",
       "      <td>673.0</td>\n",
       "      <td>3.0</td>\n",
       "      <td>11.0</td>\n",
       "      <td>6.0</td>\n",
       "      <td>12.0</td>\n",
       "      <td>1.330000e+02</td>\n",
       "      <td>3.0</td>\n",
       "      <td>3.0</td>\n",
       "      <td>3.0</td>\n",
       "      <td>4.0</td>\n",
       "      <td>6.0</td>\n",
       "      <td>13.0</td>\n",
       "      <td>28.0</td>\n",
       "      <td>36.0</td>\n",
       "      <td>49.0</td>\n",
       "      <td>49.0</td>\n",
       "    </tr>\n",
       "  </tbody>\n",
       "</table>\n",
       "</div>"
      ],
      "text/plain": [
       "                       N  NMISS  %MISS        SUM      MIN     MEAN   MEDIAN  \\\n",
       "title               62.0    0.0    0.0     5321.0     70.0     86.0     89.0   \n",
       "description         62.0    0.0    0.0    99224.0   1502.0   1600.0   1562.0   \n",
       "tags                62.0    0.0    0.0    25873.0    319.0    417.0    435.0   \n",
       "playlist            62.0    0.0    0.0       80.0      1.0      1.0      1.0   \n",
       "copyright_claim     62.0    0.0    0.0        6.0      0.0      0.0      0.0   \n",
       "comments            62.0    0.0    0.0    17008.0    147.0    274.0    229.0   \n",
       "watch_time          62.0    0.0    0.0   146229.0    564.0   2359.0   1100.0   \n",
       "audience_retention  62.0    0.0    0.0       36.0      1.0      1.0      1.0   \n",
       "likes_vs_dislikes   62.0    0.0    0.0       61.0      1.0      1.0      1.0   \n",
       "week_no             62.0    0.0    0.0     1449.0      6.0     23.0     21.0   \n",
       "duration_sec        62.0    0.0    0.0     9744.0    120.0    157.0    142.0   \n",
       "views               62.0    0.0    0.0  6188157.0  28369.0  99809.0  48127.0   \n",
       "revenue             62.0    0.0    0.0      673.0      3.0     11.0      6.0   \n",
       "\n",
       "                         STD           VAR       P1       P5      P10  \\\n",
       "title                   11.0  1.200000e+02     70.0     70.0     70.0   \n",
       "description            113.0  1.275100e+04   1502.0   1502.0   1502.0   \n",
       "tags                    76.0  5.707000e+03    319.0    319.0    319.0   \n",
       "playlist                 0.0  0.000000e+00      1.0      1.0      1.0   \n",
       "copyright_claim          0.0  0.000000e+00      0.0      0.0      0.0   \n",
       "comments               157.0  2.474400e+04    147.0    147.0    147.0   \n",
       "watch_time            2952.0  8.712570e+06    564.0    564.0    564.0   \n",
       "audience_retention       0.0  0.000000e+00      1.0      1.0      1.0   \n",
       "likes_vs_dislikes        0.0  0.000000e+00      1.0      1.0      1.0   \n",
       "week_no                 16.0  2.520000e+02      6.0      6.0      6.0   \n",
       "duration_sec            39.0  1.526000e+03    120.0    120.0    120.0   \n",
       "views               124358.0  1.546492e+10  28369.0  28369.0  28369.0   \n",
       "revenue                 12.0  1.330000e+02      3.0      3.0      3.0   \n",
       "\n",
       "                        P25      P50       P75       P90       P95       P99  \\\n",
       "title                  74.0     89.0      95.0      99.0     100.0     100.0   \n",
       "description          1508.0   1562.0    1654.0    1788.0    1812.0    1894.0   \n",
       "tags                  326.0    435.0     494.0     499.0     500.0     500.0   \n",
       "playlist                1.0      1.0       2.0       2.0       2.0       2.0   \n",
       "copyright_claim         0.0      0.0       0.0       0.0       1.0       1.0   \n",
       "comments              177.0    229.0     321.0     426.0     526.0     891.0   \n",
       "watch_time            727.0   1100.0    2650.0    5860.0    7950.0   14202.0   \n",
       "audience_retention      1.0      1.0       1.0       1.0       1.0       1.0   \n",
       "likes_vs_dislikes       1.0      1.0       1.0       1.0       1.0       1.0   \n",
       "week_no                 7.0     21.0      37.0      47.0      50.0      52.0   \n",
       "duration_sec          123.0    142.0     181.0     219.0     230.0     257.0   \n",
       "views               29886.0  48127.0  114125.0  207888.0  330013.0  618159.0   \n",
       "revenue                 4.0      6.0      13.0      28.0      36.0      49.0   \n",
       "\n",
       "                         MAX  \n",
       "title                  100.0  \n",
       "description           1894.0  \n",
       "tags                   500.0  \n",
       "playlist                 2.0  \n",
       "copyright_claim          1.0  \n",
       "comments               891.0  \n",
       "watch_time           14202.0  \n",
       "audience_retention       1.0  \n",
       "likes_vs_dislikes        1.0  \n",
       "week_no                 52.0  \n",
       "duration_sec           257.0  \n",
       "views               618159.0  \n",
       "revenue                 49.0  "
      ]
     },
     "execution_count": 37,
     "metadata": {},
     "output_type": "execute_result"
    }
   ],
   "source": [
    "dataset.apply(continous_var_summary).T.round()  "
   ]
  },
  {
   "cell_type": "markdown",
   "metadata": {},
   "source": [
    "#### CONVERTING FEATURES"
   ]
  },
  {
   "cell_type": "code",
   "execution_count": 38,
   "metadata": {},
   "outputs": [],
   "source": [
    "# coverting all the features to int data type\n",
    "for col in dataset:\n",
    "    dataset[col] = dataset[col].astype(float)"
   ]
  },
  {
   "cell_type": "markdown",
   "metadata": {},
   "source": [
    "___"
   ]
  },
  {
   "cell_type": "markdown",
   "metadata": {},
   "source": [
    "### DATA DISTRIBUTION"
   ]
  },
  {
   "cell_type": "code",
   "execution_count": 39,
   "metadata": {},
   "outputs": [
    {
     "data": {
      "text/plain": [
       "<matplotlib.axes._subplots.AxesSubplot at 0x1a24db5dd0>"
      ]
     },
     "execution_count": 39,
     "metadata": {},
     "output_type": "execute_result"
    },
    {
     "data": {
      "image/png": "[encoded data removed]",
      "text/plain": [
       "<Figure size 720x540 with 1 Axes>"
      ]
     },
     "metadata": {
      "needs_background": "light"
     },
     "output_type": "display_data"
    }
   ],
   "source": [
    "sns.barplot(x='playlist', y='views', data=dataset)"
   ]
  },
  {
   "cell_type": "markdown",
   "metadata": {},
   "source": [
    "> Videos which are in more than one list are surely getting more views."
   ]
  },
  {
   "cell_type": "code",
   "execution_count": 40,
   "metadata": {},
   "outputs": [
    {
     "data": {
      "text/plain": [
       "<matplotlib.axes._subplots.AxesSubplot at 0x1a24de1550>"
      ]
     },
     "execution_count": 40,
     "metadata": {},
     "output_type": "execute_result"
    },
    {
     "data": {
      "image/png": "[encoded data removed]",
      "text/plain": [
       "<Figure size 720x540 with 1 Axes>"
      ]
     },
     "metadata": {
      "needs_background": "light"
     },
     "output_type": "display_data"
    }
   ],
   "source": [
    "sns.barplot(x='copyright_claim', y='views', data=dataset)"
   ]
  },
  {
   "cell_type": "markdown",
   "metadata": {},
   "source": [
    "> Videos which do not have any kind of restrictions or copyright claim get more number of views."
   ]
  },
  {
   "cell_type": "code",
   "execution_count": 41,
   "metadata": {},
   "outputs": [
    {
     "data": {
      "text/plain": [
       "<matplotlib.axes._subplots.AxesSubplot at 0x1a2574fa90>"
      ]
     },
     "execution_count": 41,
     "metadata": {},
     "output_type": "execute_result"
    },
    {
     "data": {
      "image/png": "[encoded data removed]",
      "text/plain": [
       "<Figure size 720x540 with 1 Axes>"
      ]
     },
     "metadata": {
      "needs_background": "light"
     },
     "output_type": "display_data"
    }
   ],
   "source": [
    "sns.lineplot(x='views', y='revenue', data=dataset)"
   ]
  },
  {
   "cell_type": "markdown",
   "metadata": {},
   "source": [
    "> It is pretty clear from the above line chart that as number of views increases revenue increases. The dip are near the end might because of copyright claim on any video."
   ]
  },
  {
   "cell_type": "code",
   "execution_count": 42,
   "metadata": {},
   "outputs": [
    {
     "data": {
      "text/plain": [
       "<matplotlib.axes._subplots.AxesSubplot at 0x1a25905810>"
      ]
     },
     "execution_count": 42,
     "metadata": {},
     "output_type": "execute_result"
    },
    {
     "data": {
      "image/png": "[encoded data removed]",
      "text/plain": [
       "<Figure size 720x540 with 1 Axes>"
      ]
     },
     "metadata": {
      "needs_background": "light"
     },
     "output_type": "display_data"
    }
   ],
   "source": [
    "sns.lineplot(x='title', y='views', data=dataset)"
   ]
  },
  {
   "cell_type": "markdown",
   "metadata": {},
   "source": [
    "> Videos having title length near to 85 tends to get more number of views."
   ]
  },
  {
   "cell_type": "code",
   "execution_count": 43,
   "metadata": {},
   "outputs": [
    {
     "data": {
      "text/plain": [
       "<matplotlib.axes._subplots.AxesSubplot at 0x1a25a83ad0>"
      ]
     },
     "execution_count": 43,
     "metadata": {},
     "output_type": "execute_result"
    },
    {
     "data": {
      "image/png": "[encoded data removed]",
      "text/plain": [
       "<Figure size 720x540 with 1 Axes>"
      ]
     },
     "metadata": {
      "needs_background": "light"
     },
     "output_type": "display_data"
    }
   ],
   "source": [
    "sns.lineplot(x='tags', y='views', data=dataset)"
   ]
  },
  {
   "cell_type": "markdown",
   "metadata": {},
   "source": [
    "> Videos having length of tags near to 460 tends to get more number of views."
   ]
  },
  {
   "cell_type": "code",
   "execution_count": 44,
   "metadata": {},
   "outputs": [
    {
     "data": {
      "text/plain": [
       "<matplotlib.axes._subplots.AxesSubplot at 0x1a25c4c590>"
      ]
     },
     "execution_count": 44,
     "metadata": {},
     "output_type": "execute_result"
    },
    {
     "data": {
      "image/png": "[encoded data removed]",
      "text/plain": [
       "<Figure size 720x540 with 1 Axes>"
      ]
     },
     "metadata": {
      "needs_background": "light"
     },
     "output_type": "display_data"
    }
   ],
   "source": [
    "sns.lineplot(x='audience_retention', y='views', data=dataset)"
   ]
  },
  {
   "cell_type": "markdown",
   "metadata": {},
   "source": [
    "> Videos which gets more views tends to have more impressions which means it will alse reach to those people who are not interested in it. Hence, they leave the video early which leads in low audience retention."
   ]
  },
  {
   "cell_type": "code",
   "execution_count": 45,
   "metadata": {},
   "outputs": [
    {
     "data": {
      "text/plain": [
       "<matplotlib.axes._subplots.AxesSubplot at 0x1a25c46fd0>"
      ]
     },
     "execution_count": 45,
     "metadata": {},
     "output_type": "execute_result"
    },
    {
     "data": {
      "image/png": "[encoded data removed]",
      "text/plain": [
       "<Figure size 720x540 with 1 Axes>"
      ]
     },
     "metadata": {
      "needs_background": "light"
     },
     "output_type": "display_data"
    }
   ],
   "source": [
    "sns.lineplot(x='likes_vs_dislikes', y='views', data=dataset)"
   ]
  },
  {
   "cell_type": "markdown",
   "metadata": {},
   "source": [
    "> From this line graph we can see that as video reaches to more people their opinion changes and tends to dislike the video bit more. Hence, we should precisely stick to the interest of our subscribers."
   ]
  },
  {
   "cell_type": "code",
   "execution_count": 46,
   "metadata": {},
   "outputs": [
    {
     "data": {
      "text/html": [
       "<div>\n",
       "<style scoped>\n",
       "    .dataframe tbody tr th:only-of-type {\n",
       "        vertical-align: middle;\n",
       "    }\n",
       "\n",
       "    .dataframe tbody tr th {\n",
       "        vertical-align: top;\n",
       "    }\n",
       "\n",
       "    .dataframe thead th {\n",
       "        text-align: right;\n",
       "    }\n",
       "</style>\n",
       "<table border=\"1\" class=\"dataframe\">\n",
       "  <thead>\n",
       "    <tr style=\"text-align: right;\">\n",
       "      <th></th>\n",
       "      <th>title</th>\n",
       "      <th>description</th>\n",
       "      <th>tags</th>\n",
       "      <th>playlist</th>\n",
       "      <th>copyright_claim</th>\n",
       "      <th>comments</th>\n",
       "      <th>watch_time</th>\n",
       "      <th>audience_retention</th>\n",
       "      <th>likes_vs_dislikes</th>\n",
       "      <th>week_no</th>\n",
       "      <th>duration_sec</th>\n",
       "      <th>views</th>\n",
       "      <th>revenue</th>\n",
       "    </tr>\n",
       "  </thead>\n",
       "  <tbody>\n",
       "    <tr>\n",
       "      <td>title</td>\n",
       "      <td>1.000000</td>\n",
       "      <td>0.287248</td>\n",
       "      <td>0.478459</td>\n",
       "      <td>0.123495</td>\n",
       "      <td>0.146329</td>\n",
       "      <td>0.343040</td>\n",
       "      <td>0.334321</td>\n",
       "      <td>-0.256591</td>\n",
       "      <td>-0.263776</td>\n",
       "      <td>0.023818</td>\n",
       "      <td>0.324668</td>\n",
       "      <td>0.292553</td>\n",
       "      <td>0.341713</td>\n",
       "    </tr>\n",
       "    <tr>\n",
       "      <td>description</td>\n",
       "      <td>0.287248</td>\n",
       "      <td>1.000000</td>\n",
       "      <td>0.325080</td>\n",
       "      <td>0.148505</td>\n",
       "      <td>0.219581</td>\n",
       "      <td>0.353198</td>\n",
       "      <td>0.396933</td>\n",
       "      <td>-0.297100</td>\n",
       "      <td>-0.133610</td>\n",
       "      <td>-0.219522</td>\n",
       "      <td>0.342478</td>\n",
       "      <td>0.298413</td>\n",
       "      <td>0.415338</td>\n",
       "    </tr>\n",
       "    <tr>\n",
       "      <td>tags</td>\n",
       "      <td>0.478459</td>\n",
       "      <td>0.325080</td>\n",
       "      <td>1.000000</td>\n",
       "      <td>0.355400</td>\n",
       "      <td>0.233815</td>\n",
       "      <td>0.277874</td>\n",
       "      <td>0.437537</td>\n",
       "      <td>-0.380404</td>\n",
       "      <td>-0.412400</td>\n",
       "      <td>-0.317881</td>\n",
       "      <td>0.421467</td>\n",
       "      <td>0.379882</td>\n",
       "      <td>0.415765</td>\n",
       "    </tr>\n",
       "    <tr>\n",
       "      <td>playlist</td>\n",
       "      <td>0.123495</td>\n",
       "      <td>0.148505</td>\n",
       "      <td>0.355400</td>\n",
       "      <td>1.000000</td>\n",
       "      <td>0.151204</td>\n",
       "      <td>0.309887</td>\n",
       "      <td>0.451347</td>\n",
       "      <td>-0.257141</td>\n",
       "      <td>-0.125233</td>\n",
       "      <td>-0.139384</td>\n",
       "      <td>0.292013</td>\n",
       "      <td>0.360191</td>\n",
       "      <td>0.488829</td>\n",
       "    </tr>\n",
       "    <tr>\n",
       "      <td>copyright_claim</td>\n",
       "      <td>0.146329</td>\n",
       "      <td>0.219581</td>\n",
       "      <td>0.233815</td>\n",
       "      <td>0.151204</td>\n",
       "      <td>1.000000</td>\n",
       "      <td>-0.127393</td>\n",
       "      <td>-0.070333</td>\n",
       "      <td>-0.148077</td>\n",
       "      <td>-0.118642</td>\n",
       "      <td>-0.196762</td>\n",
       "      <td>0.161156</td>\n",
       "      <td>-0.086469</td>\n",
       "      <td>-0.069154</td>\n",
       "    </tr>\n",
       "    <tr>\n",
       "      <td>comments</td>\n",
       "      <td>0.343040</td>\n",
       "      <td>0.353198</td>\n",
       "      <td>0.277874</td>\n",
       "      <td>0.309887</td>\n",
       "      <td>-0.127393</td>\n",
       "      <td>1.000000</td>\n",
       "      <td>0.643615</td>\n",
       "      <td>-0.363077</td>\n",
       "      <td>-0.098910</td>\n",
       "      <td>-0.114840</td>\n",
       "      <td>0.351548</td>\n",
       "      <td>0.546685</td>\n",
       "      <td>0.608575</td>\n",
       "    </tr>\n",
       "    <tr>\n",
       "      <td>watch_time</td>\n",
       "      <td>0.334321</td>\n",
       "      <td>0.396933</td>\n",
       "      <td>0.437537</td>\n",
       "      <td>0.451347</td>\n",
       "      <td>-0.070333</td>\n",
       "      <td>0.643615</td>\n",
       "      <td>1.000000</td>\n",
       "      <td>-0.330584</td>\n",
       "      <td>-0.389072</td>\n",
       "      <td>-0.279523</td>\n",
       "      <td>0.300745</td>\n",
       "      <td>0.925562</td>\n",
       "      <td>0.918025</td>\n",
       "    </tr>\n",
       "    <tr>\n",
       "      <td>audience_retention</td>\n",
       "      <td>-0.256591</td>\n",
       "      <td>-0.297100</td>\n",
       "      <td>-0.380404</td>\n",
       "      <td>-0.257141</td>\n",
       "      <td>-0.148077</td>\n",
       "      <td>-0.363077</td>\n",
       "      <td>-0.330584</td>\n",
       "      <td>1.000000</td>\n",
       "      <td>0.259636</td>\n",
       "      <td>0.046251</td>\n",
       "      <td>-0.697194</td>\n",
       "      <td>-0.243927</td>\n",
       "      <td>-0.318611</td>\n",
       "    </tr>\n",
       "    <tr>\n",
       "      <td>likes_vs_dislikes</td>\n",
       "      <td>-0.263776</td>\n",
       "      <td>-0.133610</td>\n",
       "      <td>-0.412400</td>\n",
       "      <td>-0.125233</td>\n",
       "      <td>-0.118642</td>\n",
       "      <td>-0.098910</td>\n",
       "      <td>-0.389072</td>\n",
       "      <td>0.259636</td>\n",
       "      <td>1.000000</td>\n",
       "      <td>0.217500</td>\n",
       "      <td>-0.032067</td>\n",
       "      <td>-0.425580</td>\n",
       "      <td>-0.361261</td>\n",
       "    </tr>\n",
       "    <tr>\n",
       "      <td>week_no</td>\n",
       "      <td>0.023818</td>\n",
       "      <td>-0.219522</td>\n",
       "      <td>-0.317881</td>\n",
       "      <td>-0.139384</td>\n",
       "      <td>-0.196762</td>\n",
       "      <td>-0.114840</td>\n",
       "      <td>-0.279523</td>\n",
       "      <td>0.046251</td>\n",
       "      <td>0.217500</td>\n",
       "      <td>1.000000</td>\n",
       "      <td>-0.080242</td>\n",
       "      <td>-0.314185</td>\n",
       "      <td>-0.253167</td>\n",
       "    </tr>\n",
       "    <tr>\n",
       "      <td>duration_sec</td>\n",
       "      <td>0.324668</td>\n",
       "      <td>0.342478</td>\n",
       "      <td>0.421467</td>\n",
       "      <td>0.292013</td>\n",
       "      <td>0.161156</td>\n",
       "      <td>0.351548</td>\n",
       "      <td>0.300745</td>\n",
       "      <td>-0.697194</td>\n",
       "      <td>-0.032067</td>\n",
       "      <td>-0.080242</td>\n",
       "      <td>1.000000</td>\n",
       "      <td>0.107729</td>\n",
       "      <td>0.248479</td>\n",
       "    </tr>\n",
       "    <tr>\n",
       "      <td>views</td>\n",
       "      <td>0.292553</td>\n",
       "      <td>0.298413</td>\n",
       "      <td>0.379882</td>\n",
       "      <td>0.360191</td>\n",
       "      <td>-0.086469</td>\n",
       "      <td>0.546685</td>\n",
       "      <td>0.925562</td>\n",
       "      <td>-0.243927</td>\n",
       "      <td>-0.425580</td>\n",
       "      <td>-0.314185</td>\n",
       "      <td>0.107729</td>\n",
       "      <td>1.000000</td>\n",
       "      <td>0.827715</td>\n",
       "    </tr>\n",
       "    <tr>\n",
       "      <td>revenue</td>\n",
       "      <td>0.341713</td>\n",
       "      <td>0.415338</td>\n",
       "      <td>0.415765</td>\n",
       "      <td>0.488829</td>\n",
       "      <td>-0.069154</td>\n",
       "      <td>0.608575</td>\n",
       "      <td>0.918025</td>\n",
       "      <td>-0.318611</td>\n",
       "      <td>-0.361261</td>\n",
       "      <td>-0.253167</td>\n",
       "      <td>0.248479</td>\n",
       "      <td>0.827715</td>\n",
       "      <td>1.000000</td>\n",
       "    </tr>\n",
       "  </tbody>\n",
       "</table>\n",
       "</div>"
      ],
      "text/plain": [
       "                       title  description      tags  playlist  \\\n",
       "title               1.000000     0.287248  0.478459  0.123495   \n",
       "description         0.287248     1.000000  0.325080  0.148505   \n",
       "tags                0.478459     0.325080  1.000000  0.355400   \n",
       "playlist            0.123495     0.148505  0.355400  1.000000   \n",
       "copyright_claim     0.146329     0.219581  0.233815  0.151204   \n",
       "comments            0.343040     0.353198  0.277874  0.309887   \n",
       "watch_time          0.334321     0.396933  0.437537  0.451347   \n",
       "audience_retention -0.256591    -0.297100 -0.380404 -0.257141   \n",
       "likes_vs_dislikes  -0.263776    -0.133610 -0.412400 -0.125233   \n",
       "week_no             0.023818    -0.219522 -0.317881 -0.139384   \n",
       "duration_sec        0.324668     0.342478  0.421467  0.292013   \n",
       "views               0.292553     0.298413  0.379882  0.360191   \n",
       "revenue             0.341713     0.415338  0.415765  0.488829   \n",
       "\n",
       "                    copyright_claim  comments  watch_time  audience_retention  \\\n",
       "title                      0.146329  0.343040    0.334321           -0.256591   \n",
       "description                0.219581  0.353198    0.396933           -0.297100   \n",
       "tags                       0.233815  0.277874    0.437537           -0.380404   \n",
       "playlist                   0.151204  0.309887    0.451347           -0.257141   \n",
       "copyright_claim            1.000000 -0.127393   -0.070333           -0.148077   \n",
       "comments                  -0.127393  1.000000    0.643615           -0.363077   \n",
       "watch_time                -0.070333  0.643615    1.000000           -0.330584   \n",
       "audience_retention        -0.148077 -0.363077   -0.330584            1.000000   \n",
       "likes_vs_dislikes         -0.118642 -0.098910   -0.389072            0.259636   \n",
       "week_no                   -0.196762 -0.114840   -0.279523            0.046251   \n",
       "duration_sec               0.161156  0.351548    0.300745           -0.697194   \n",
       "views                     -0.086469  0.546685    0.925562           -0.243927   \n",
       "revenue                   -0.069154  0.608575    0.918025           -0.318611   \n",
       "\n",
       "                    likes_vs_dislikes   week_no  duration_sec     views  \\\n",
       "title                       -0.263776  0.023818      0.324668  0.292553   \n",
       "description                 -0.133610 -0.219522      0.342478  0.298413   \n",
       "tags                        -0.412400 -0.317881      0.421467  0.379882   \n",
       "playlist                    -0.125233 -0.139384      0.292013  0.360191   \n",
       "copyright_claim             -0.118642 -0.196762      0.161156 -0.086469   \n",
       "comments                    -0.098910 -0.114840      0.351548  0.546685   \n",
       "watch_time                  -0.389072 -0.279523      0.300745  0.925562   \n",
       "audience_retention           0.259636  0.046251     -0.697194 -0.243927   \n",
       "likes_vs_dislikes            1.000000  0.217500     -0.032067 -0.425580   \n",
       "week_no                      0.217500  1.000000     -0.080242 -0.314185   \n",
       "duration_sec                -0.032067 -0.080242      1.000000  0.107729   \n",
       "views                       -0.425580 -0.314185      0.107729  1.000000   \n",
       "revenue                     -0.361261 -0.253167      0.248479  0.827715   \n",
       "\n",
       "                     revenue  \n",
       "title               0.341713  \n",
       "description         0.415338  \n",
       "tags                0.415765  \n",
       "playlist            0.488829  \n",
       "copyright_claim    -0.069154  \n",
       "comments            0.608575  \n",
       "watch_time          0.918025  \n",
       "audience_retention -0.318611  \n",
       "likes_vs_dislikes  -0.361261  \n",
       "week_no            -0.253167  \n",
       "duration_sec        0.248479  \n",
       "views               0.827715  \n",
       "revenue             1.000000  "
      ]
     },
     "execution_count": 46,
     "metadata": {},
     "output_type": "execute_result"
    }
   ],
   "source": [
    "# computing pairwise correlation of columns\n",
    "corrm = dataset.corr(method='pearson')\n",
    "\n",
    "corrm.to_csv('corrm.csv', index=False)\n",
    "corrm"
   ]
  },
  {
   "cell_type": "code",
   "execution_count": 47,
   "metadata": {},
   "outputs": [
    {
     "data": {
      "text/plain": [
       "<matplotlib.axes._subplots.AxesSubplot at 0x1a25fd79d0>"
      ]
     },
     "execution_count": 47,
     "metadata": {},
     "output_type": "execute_result"
    },
    {
     "data": {
      "image/png": "[encoded data removed]",
      "text/plain": [
       "<Figure size 720x540 with 2 Axes>"
      ]
     },
     "metadata": {
      "needs_background": "light"
     },
     "output_type": "display_data"
    }
   ],
   "source": [
    "# graphical representation of correlation matrix using heatmap\n",
    "sns.heatmap(corrm)"
   ]
  },
  {
   "cell_type": "markdown",
   "metadata": {},
   "source": [
    "___"
   ]
  },
  {
   "cell_type": "markdown",
   "metadata": {},
   "source": [
    "## BUILDING MACHINE LEARNING MODELS"
   ]
  },
  {
   "cell_type": "markdown",
   "metadata": {},
   "source": [
    "- ### PREDICTICING VIEWS"
   ]
  },
  {
   "cell_type": "code",
   "execution_count": 48,
   "metadata": {},
   "outputs": [],
   "source": [
    "X = dataset.drop(columns=['views', 'revenue'])\n",
    "y = dataset.views"
   ]
  },
  {
   "cell_type": "markdown",
   "metadata": {},
   "source": [
    "### STANDARIZING THE DATA"
   ]
  },
  {
   "cell_type": "markdown",
   "metadata": {},
   "source": [
    "Standardization is performed to prevent features with wider ranges from dominating the distance metric."
   ]
  },
  {
   "cell_type": "code",
   "execution_count": 49,
   "metadata": {},
   "outputs": [],
   "source": [
    "# importing required library for standardization\n",
    "from sklearn.preprocessing import StandardScaler\n",
    "\n",
    "# standard scaling\n",
    "sc = StandardScaler()\n",
    "X = sc.fit_transform(X)"
   ]
  },
  {
   "cell_type": "markdown",
   "metadata": {},
   "source": [
    "- <h3> MODELS"
   ]
  },
  {
   "cell_type": "code",
   "execution_count": 50,
   "metadata": {},
   "outputs": [
    {
     "name": "stdout",
     "output_type": "stream",
     "text": [
      "96.29 %\n"
     ]
    }
   ],
   "source": [
    "from sklearn.ensemble import RandomForestRegressor\n",
    "\n",
    "# Random Forest\n",
    "random_forest = RandomForestRegressor(n_estimators=100)\n",
    "random_forest.fit(X, y)\n",
    "\n",
    "Y_prediction = random_forest.predict(X)\n",
    "\n",
    "random_forest.score(X, y)\n",
    "acc_random_forest = round(random_forest.score(X, y) * 100, 2)\n",
    "print(round(acc_random_forest,2,), \"%\")"
   ]
  },
  {
   "cell_type": "code",
   "execution_count": 51,
   "metadata": {},
   "outputs": [
    {
     "name": "stdout",
     "output_type": "stream",
     "text": [
      "90.31 %\n"
     ]
    }
   ],
   "source": [
    "from sklearn.linear_model import LinearRegression\n",
    "\n",
    "# Linear Regression\n",
    "linreg = LinearRegression()\n",
    "linreg.fit(X, y)\n",
    "\n",
    "Y_pred = linreg.predict(X)\n",
    "\n",
    "acc_lin = round(linreg.score(X, y) * 100, 2)\n",
    "print(round(acc_lin,2,), \"%\")"
   ]
  },
  {
   "cell_type": "code",
   "execution_count": 52,
   "metadata": {},
   "outputs": [
    {
     "name": "stdout",
     "output_type": "stream",
     "text": [
      "85.74 %\n"
     ]
    }
   ],
   "source": [
    "from sklearn.neighbors import KNeighborsRegressor\n",
    "\n",
    "# KNN\n",
    "knn = KNeighborsRegressor(n_neighbors = 3)\n",
    "knn.fit(X, y)\n",
    "\n",
    "Y_pred = knn.predict(X)\n",
    "\n",
    "acc_knn = round(knn.score(X, y) * 100, 2)\n",
    "print(round(acc_knn,2,), \"%\")"
   ]
  },
  {
   "cell_type": "code",
   "execution_count": 53,
   "metadata": {},
   "outputs": [
    {
     "name": "stdout",
     "output_type": "stream",
     "text": [
      "100.0 %\n"
     ]
    }
   ],
   "source": [
    "from sklearn.tree import DecisionTreeRegressor\n",
    "\n",
    "# Decision Tree\n",
    "decision_tree = DecisionTreeRegressor()\n",
    "decision_tree.fit(X, y)\n",
    "\n",
    "Y_pred = decision_tree.predict(X)\n",
    "\n",
    "acc_decision_tree = round(decision_tree.score(X, y) * 100, 2)\n",
    "print(round(acc_decision_tree,2,), \"%\")"
   ]
  },
  {
   "cell_type": "markdown",
   "metadata": {},
   "source": [
    "### Which is the best model ?"
   ]
  },
  {
   "cell_type": "code",
   "execution_count": 54,
   "metadata": {},
   "outputs": [
    {
     "data": {
      "text/html": [
       "<div>\n",
       "<style scoped>\n",
       "    .dataframe tbody tr th:only-of-type {\n",
       "        vertical-align: middle;\n",
       "    }\n",
       "\n",
       "    .dataframe tbody tr th {\n",
       "        vertical-align: top;\n",
       "    }\n",
       "\n",
       "    .dataframe thead th {\n",
       "        text-align: right;\n",
       "    }\n",
       "</style>\n",
       "<table border=\"1\" class=\"dataframe\">\n",
       "  <thead>\n",
       "    <tr style=\"text-align: right;\">\n",
       "      <th></th>\n",
       "      <th>Model</th>\n",
       "    </tr>\n",
       "    <tr>\n",
       "      <th>Score</th>\n",
       "      <th></th>\n",
       "    </tr>\n",
       "  </thead>\n",
       "  <tbody>\n",
       "    <tr>\n",
       "      <td>100.00</td>\n",
       "      <td>Decision Tree</td>\n",
       "    </tr>\n",
       "    <tr>\n",
       "      <td>96.29</td>\n",
       "      <td>Random Forest</td>\n",
       "    </tr>\n",
       "    <tr>\n",
       "      <td>90.31</td>\n",
       "      <td>Linear Regression</td>\n",
       "    </tr>\n",
       "    <tr>\n",
       "      <td>85.74</td>\n",
       "      <td>KNN</td>\n",
       "    </tr>\n",
       "  </tbody>\n",
       "</table>\n",
       "</div>"
      ],
      "text/plain": [
       "                    Model\n",
       "Score                    \n",
       "100.00      Decision Tree\n",
       "96.29       Random Forest\n",
       "90.31   Linear Regression\n",
       "85.74                 KNN"
      ]
     },
     "execution_count": 54,
     "metadata": {},
     "output_type": "execute_result"
    }
   ],
   "source": [
    "results = pd.DataFrame({'Model': ['KNN', 'Linear Regression', 'Random Forest', 'Decision Tree'],\n",
    "                        'Score': [acc_knn, acc_lin, acc_random_forest, acc_decision_tree]})\n",
    "result_df = results.sort_values(by='Score', ascending=False)\n",
    "result_df = result_df.set_index('Score')\n",
    "result_df"
   ]
  },
  {
   "cell_type": "markdown",
   "metadata": {},
   "source": [
    "As we can see, the Decision Tree goes on the first place. But there are high chances of overfitting in decision tree model. Hence, we will go with Random forest regressor."
   ]
  },
  {
   "cell_type": "markdown",
   "metadata": {},
   "source": [
    "### Random Forest"
   ]
  },
  {
   "cell_type": "markdown",
   "metadata": {},
   "source": [
    "#### What is Random Forest ?"
   ]
  },
  {
   "cell_type": "markdown",
   "metadata": {},
   "source": [
    "Random Forest is a supervised learning algorithm. Like you can already see from it’s name, it creates a forest and makes it somehow random. The „forest“ it builds, is an ensemble of Decision Trees, most of the time trained with the “bagging” method. The general idea of the bagging method is that a combination of learning models increases the overall result."
   ]
  },
  {
   "cell_type": "markdown",
   "metadata": {},
   "source": [
    "### Feature Importance"
   ]
  },
  {
   "cell_type": "markdown",
   "metadata": {},
   "source": [
    "Another great quality of random forest is that they make it very easy to measure the relative importance of each feature. Sklearn measure a features importance by looking at how much the treee nodes, that use that feature, reduce impurity on average (across all trees in the forest). It computes this score automaticall for each feature after training and scales the results so that the sum of all importances is equal to 1. We will acces this below:"
   ]
  },
  {
   "cell_type": "code",
   "execution_count": 55,
   "metadata": {},
   "outputs": [],
   "source": [
    "importances = pd.DataFrame({'feature':dataset.drop(columns=['views', 'revenue']).columns,'importance':np.round(random_forest.feature_importances_,3)})\n",
    "importances = importances.sort_values('importance',ascending=False).set_index('feature')"
   ]
  },
  {
   "cell_type": "code",
   "execution_count": 56,
   "metadata": {},
   "outputs": [
    {
     "data": {
      "text/html": [
       "<div>\n",
       "<style scoped>\n",
       "    .dataframe tbody tr th:only-of-type {\n",
       "        vertical-align: middle;\n",
       "    }\n",
       "\n",
       "    .dataframe tbody tr th {\n",
       "        vertical-align: top;\n",
       "    }\n",
       "\n",
       "    .dataframe thead th {\n",
       "        text-align: right;\n",
       "    }\n",
       "</style>\n",
       "<table border=\"1\" class=\"dataframe\">\n",
       "  <thead>\n",
       "    <tr style=\"text-align: right;\">\n",
       "      <th></th>\n",
       "      <th>importance</th>\n",
       "    </tr>\n",
       "    <tr>\n",
       "      <th>feature</th>\n",
       "      <th></th>\n",
       "    </tr>\n",
       "  </thead>\n",
       "  <tbody>\n",
       "    <tr>\n",
       "      <td>watch_time</td>\n",
       "      <td>0.829</td>\n",
       "    </tr>\n",
       "    <tr>\n",
       "      <td>duration_sec</td>\n",
       "      <td>0.045</td>\n",
       "    </tr>\n",
       "    <tr>\n",
       "      <td>comments</td>\n",
       "      <td>0.032</td>\n",
       "    </tr>\n",
       "    <tr>\n",
       "      <td>likes_vs_dislikes</td>\n",
       "      <td>0.025</td>\n",
       "    </tr>\n",
       "    <tr>\n",
       "      <td>audience_retention</td>\n",
       "      <td>0.019</td>\n",
       "    </tr>\n",
       "    <tr>\n",
       "      <td>title</td>\n",
       "      <td>0.017</td>\n",
       "    </tr>\n",
       "    <tr>\n",
       "      <td>description</td>\n",
       "      <td>0.013</td>\n",
       "    </tr>\n",
       "    <tr>\n",
       "      <td>week_no</td>\n",
       "      <td>0.012</td>\n",
       "    </tr>\n",
       "    <tr>\n",
       "      <td>tags</td>\n",
       "      <td>0.006</td>\n",
       "    </tr>\n",
       "    <tr>\n",
       "      <td>playlist</td>\n",
       "      <td>0.001</td>\n",
       "    </tr>\n",
       "    <tr>\n",
       "      <td>copyright_claim</td>\n",
       "      <td>0.001</td>\n",
       "    </tr>\n",
       "  </tbody>\n",
       "</table>\n",
       "</div>"
      ],
      "text/plain": [
       "                    importance\n",
       "feature                       \n",
       "watch_time               0.829\n",
       "duration_sec             0.045\n",
       "comments                 0.032\n",
       "likes_vs_dislikes        0.025\n",
       "audience_retention       0.019\n",
       "title                    0.017\n",
       "description              0.013\n",
       "week_no                  0.012\n",
       "tags                     0.006\n",
       "playlist                 0.001\n",
       "copyright_claim          0.001"
      ]
     },
     "execution_count": 56,
     "metadata": {},
     "output_type": "execute_result"
    }
   ],
   "source": [
    "importances"
   ]
  },
  {
   "cell_type": "code",
   "execution_count": 57,
   "metadata": {},
   "outputs": [
    {
     "data": {
      "text/plain": [
       "<matplotlib.axes._subplots.AxesSubplot at 0x1a2734c110>"
      ]
     },
     "execution_count": 57,
     "metadata": {},
     "output_type": "execute_result"
    },
    {
     "data": {
      "image/png": "[encoded data removed]",
      "text/plain": [
       "<Figure size 720x540 with 1 Axes>"
      ]
     },
     "metadata": {
      "needs_background": "light"
     },
     "output_type": "display_data"
    }
   ],
   "source": [
    "importances.plot.bar()"
   ]
  },
  {
   "cell_type": "markdown",
   "metadata": {},
   "source": [
    "#### Training random forest:"
   ]
  },
  {
   "cell_type": "code",
   "execution_count": 58,
   "metadata": {},
   "outputs": [
    {
     "name": "stdout",
     "output_type": "stream",
     "text": [
      "95.99 %\n"
     ]
    }
   ],
   "source": [
    "# Random Forest\n",
    "random_forest = RandomForestRegressor(n_estimators=100, oob_score = True)\n",
    "random_forest.fit(X, y)\n",
    "Y_prediction = random_forest.predict(X)\n",
    "\n",
    "random_forest.score(X, y)\n",
    "\n",
    "acc_random_forest = round(random_forest.score(X, y) * 100, 2)\n",
    "print(round(acc_random_forest,2,),\"%\")"
   ]
  },
  {
   "cell_type": "markdown",
   "metadata": {},
   "source": [
    "Our random forest model predicts as good as it did before. A general rule is that, the more features you have, the more likely your model will suffer from overfitting and vice versa. But I think our data looks fine for now and hasn't too much features.\n",
    "\n",
    "There is also another way to evaluate a random-forest regressor, which is probably much more accurate than the score we used before. What I am talking about is the out-of-bag samples to estimate the generalization accuracy. I will not go into details here about how it works. Just note that out-of-bag estimate is as accurate as using a test set of the same size as the training set. Therefore, using the out-of-bag error estimate removes the need for a set aside test set."
   ]
  },
  {
   "cell_type": "code",
   "execution_count": 59,
   "metadata": {},
   "outputs": [
    {
     "name": "stdout",
     "output_type": "stream",
     "text": [
      "oob score: 70.67 %\n"
     ]
    }
   ],
   "source": [
    "print(\"oob score:\", round(random_forest.oob_score_, 4)*100, \"%\")"
   ]
  },
  {
   "cell_type": "markdown",
   "metadata": {},
   "source": [
    "Now we can start tuning the hyperameters of random forest."
   ]
  },
  {
   "cell_type": "markdown",
   "metadata": {},
   "source": [
    "### Hyperparameter Tuning"
   ]
  },
  {
   "cell_type": "markdown",
   "metadata": {},
   "source": [
    "Below you can see the code of the hyperparamter tuning for the min_samples_leaf, min_samples_split and n_estimators."
   ]
  },
  {
   "cell_type": "code",
   "execution_count": 878,
   "metadata": {},
   "outputs": [
    {
     "data": {
      "text/plain": [
       "{'min_samples_leaf': 1, 'min_samples_split': 2, 'n_estimators': 300}"
      ]
     },
     "execution_count": 878,
     "metadata": {},
     "output_type": "execute_result"
    }
   ],
   "source": [
    "param_grid = {\"min_samples_leaf\" : [1, 5, 10], \n",
    "              \"min_samples_split\" : [2, 4, 10, 12], \n",
    "              \"n_estimators\": [100, 200, 300, 400, 500]}\n",
    "\n",
    "from sklearn.model_selection import GridSearchCV, cross_val_score\n",
    "\n",
    "rf = RandomForestRegressor(n_estimators=100, max_features='auto', oob_score=True, random_state=1, n_jobs=-1)\n",
    "\n",
    "reg = GridSearchCV(estimator=rf, param_grid=param_grid, n_jobs=-1)\n",
    "\n",
    "reg.fit(X, y)\n",
    "\n",
    "reg.best_params_"
   ]
  },
  {
   "cell_type": "markdown",
   "metadata": {},
   "source": [
    "#### Test new paramters:"
   ]
  },
  {
   "cell_type": "code",
   "execution_count": 61,
   "metadata": {},
   "outputs": [
    {
     "name": "stdout",
     "output_type": "stream",
     "text": [
      "oob score: 74.36 %\n",
      "score 96.51 %\n"
     ]
    }
   ],
   "source": [
    "# Random Forest\n",
    "random_forest = RandomForestRegressor(min_samples_leaf = 1, \n",
    "                                       min_samples_split = 2,   \n",
    "                                       n_estimators=300, \n",
    "                                       max_features='auto', \n",
    "                                       oob_score=True, \n",
    "                                       random_state=1, \n",
    "                                       n_jobs=-1)\n",
    "\n",
    "random_forest.fit(X, y)\n",
    "Y_prediction = random_forest.predict(X)\n",
    "\n",
    "random_forest.score(X, y)\n",
    "\n",
    "print(\"oob score:\", round(random_forest.oob_score_, 4)*100, \"%\")\n",
    "\n",
    "acc_random_forest = round(random_forest.score(X, y) * 100, 2)\n",
    "print('score', round(acc_random_forest,2,),\"%\")"
   ]
  },
  {
   "cell_type": "code",
   "execution_count": 62,
   "metadata": {},
   "outputs": [
    {
     "name": "stdout",
     "output_type": "stream",
     "text": [
      "RMSE_train: 23033.20480271183\n"
     ]
    }
   ],
   "source": [
    "from sklearn.metrics import mean_absolute_error, mean_squared_error, r2_score\n",
    "\n",
    "RMSE = np.sqrt(mean_squared_error(Y_prediction, y))\n",
    "print('RMSE_train:', RMSE)"
   ]
  },
  {
   "cell_type": "code",
   "execution_count": 63,
   "metadata": {},
   "outputs": [
    {
     "name": "stdout",
     "output_type": "stream",
     "text": [
      "MAPE_train: 9.571152717704116\n"
     ]
    }
   ],
   "source": [
    "# The mean absolute percentage error is a measure of prediction accuracy of a forecasting method in statistics.\n",
    "\n",
    "MAPE = np.mean(abs(y - Y_prediction)*100 / y)\n",
    "print('MAPE_train:', MAPE)"
   ]
  },
  {
   "cell_type": "code",
   "execution_count": 64,
   "metadata": {},
   "outputs": [],
   "source": [
    "dataset['predicted_views'] = Y_prediction.round()"
   ]
  },
  {
   "cell_type": "code",
   "execution_count": 65,
   "metadata": {},
   "outputs": [
    {
     "data": {
      "text/html": [
       "<div>\n",
       "<style scoped>\n",
       "    .dataframe tbody tr th:only-of-type {\n",
       "        vertical-align: middle;\n",
       "    }\n",
       "\n",
       "    .dataframe tbody tr th {\n",
       "        vertical-align: top;\n",
       "    }\n",
       "\n",
       "    .dataframe thead th {\n",
       "        text-align: right;\n",
       "    }\n",
       "</style>\n",
       "<table border=\"1\" class=\"dataframe\">\n",
       "  <thead>\n",
       "    <tr style=\"text-align: right;\">\n",
       "      <th></th>\n",
       "      <th>title</th>\n",
       "      <th>description</th>\n",
       "      <th>tags</th>\n",
       "      <th>playlist</th>\n",
       "      <th>copyright_claim</th>\n",
       "      <th>comments</th>\n",
       "      <th>watch_time</th>\n",
       "      <th>audience_retention</th>\n",
       "      <th>likes_vs_dislikes</th>\n",
       "      <th>week_no</th>\n",
       "      <th>duration_sec</th>\n",
       "      <th>views</th>\n",
       "      <th>revenue</th>\n",
       "      <th>predicted_views</th>\n",
       "    </tr>\n",
       "  </thead>\n",
       "  <tbody>\n",
       "    <tr>\n",
       "      <td>0</td>\n",
       "      <td>77.0</td>\n",
       "      <td>1502.0</td>\n",
       "      <td>443.0</td>\n",
       "      <td>2.0</td>\n",
       "      <td>1.0</td>\n",
       "      <td>147.4</td>\n",
       "      <td>788.0</td>\n",
       "      <td>0.5242</td>\n",
       "      <td>0.99300</td>\n",
       "      <td>6.2</td>\n",
       "      <td>256.74</td>\n",
       "      <td>28369.2</td>\n",
       "      <td>3.388</td>\n",
       "      <td>31132.0</td>\n",
       "    </tr>\n",
       "    <tr>\n",
       "      <td>1</td>\n",
       "      <td>70.2</td>\n",
       "      <td>1502.0</td>\n",
       "      <td>434.0</td>\n",
       "      <td>1.0</td>\n",
       "      <td>0.0</td>\n",
       "      <td>147.4</td>\n",
       "      <td>563.6</td>\n",
       "      <td>0.5242</td>\n",
       "      <td>0.98200</td>\n",
       "      <td>52.0</td>\n",
       "      <td>207.00</td>\n",
       "      <td>28369.2</td>\n",
       "      <td>3.388</td>\n",
       "      <td>28948.0</td>\n",
       "    </tr>\n",
       "    <tr>\n",
       "      <td>2</td>\n",
       "      <td>70.2</td>\n",
       "      <td>1502.0</td>\n",
       "      <td>319.0</td>\n",
       "      <td>1.0</td>\n",
       "      <td>0.0</td>\n",
       "      <td>220.0</td>\n",
       "      <td>563.6</td>\n",
       "      <td>0.6300</td>\n",
       "      <td>0.99478</td>\n",
       "      <td>52.0</td>\n",
       "      <td>156.00</td>\n",
       "      <td>28369.2</td>\n",
       "      <td>3.388</td>\n",
       "      <td>29621.0</td>\n",
       "    </tr>\n",
       "    <tr>\n",
       "      <td>3</td>\n",
       "      <td>70.2</td>\n",
       "      <td>1502.0</td>\n",
       "      <td>319.0</td>\n",
       "      <td>1.0</td>\n",
       "      <td>0.0</td>\n",
       "      <td>179.0</td>\n",
       "      <td>563.6</td>\n",
       "      <td>0.6000</td>\n",
       "      <td>0.99200</td>\n",
       "      <td>26.0</td>\n",
       "      <td>120.00</td>\n",
       "      <td>28369.2</td>\n",
       "      <td>3.388</td>\n",
       "      <td>28850.0</td>\n",
       "    </tr>\n",
       "    <tr>\n",
       "      <td>4</td>\n",
       "      <td>70.2</td>\n",
       "      <td>1502.0</td>\n",
       "      <td>319.0</td>\n",
       "      <td>1.0</td>\n",
       "      <td>0.0</td>\n",
       "      <td>177.0</td>\n",
       "      <td>563.6</td>\n",
       "      <td>0.6050</td>\n",
       "      <td>0.99200</td>\n",
       "      <td>23.0</td>\n",
       "      <td>127.00</td>\n",
       "      <td>28369.2</td>\n",
       "      <td>4.060</td>\n",
       "      <td>28860.0</td>\n",
       "    </tr>\n",
       "  </tbody>\n",
       "</table>\n",
       "</div>"
      ],
      "text/plain": [
       "   title  description   tags  playlist  copyright_claim  comments  watch_time  \\\n",
       "0   77.0       1502.0  443.0       2.0              1.0     147.4       788.0   \n",
       "1   70.2       1502.0  434.0       1.0              0.0     147.4       563.6   \n",
       "2   70.2       1502.0  319.0       1.0              0.0     220.0       563.6   \n",
       "3   70.2       1502.0  319.0       1.0              0.0     179.0       563.6   \n",
       "4   70.2       1502.0  319.0       1.0              0.0     177.0       563.6   \n",
       "\n",
       "   audience_retention  likes_vs_dislikes  week_no  duration_sec    views  \\\n",
       "0              0.5242            0.99300      6.2        256.74  28369.2   \n",
       "1              0.5242            0.98200     52.0        207.00  28369.2   \n",
       "2              0.6300            0.99478     52.0        156.00  28369.2   \n",
       "3              0.6000            0.99200     26.0        120.00  28369.2   \n",
       "4              0.6050            0.99200     23.0        127.00  28369.2   \n",
       "\n",
       "   revenue  predicted_views  \n",
       "0    3.388          31132.0  \n",
       "1    3.388          28948.0  \n",
       "2    3.388          29621.0  \n",
       "3    3.388          28850.0  \n",
       "4    4.060          28860.0  "
      ]
     },
     "execution_count": 65,
     "metadata": {},
     "output_type": "execute_result"
    }
   ],
   "source": [
    "dataset.head()"
   ]
  },
  {
   "cell_type": "markdown",
   "metadata": {},
   "source": [
    "## INSIGHTS"
   ]
  },
  {
   "cell_type": "markdown",
   "metadata": {},
   "source": [
    "Factors that are responsible for maximum number of views are:\n",
    "- **watch_time** - watch time of the video in hours\n",
    "- **duration_sec** -  duration of video in seconds\n",
    "- **likes_vs_dislikes** - likes vs dislikes\n",
    "- **comments** - number of comments on the video\n",
    "- **audience_retention** - average percentage of a YouTube video that people watch in hours"
   ]
  },
  {
   "cell_type": "markdown",
   "metadata": {},
   "source": [
    "## BUSINESS SOLUTION"
   ]
  },
  {
   "cell_type": "markdown",
   "metadata": {},
   "source": [
    "- Since, watch_time and audience_retention are important so I must ask my viewers to watch video till the end to increase watch_time and audience retention.<br> \n",
    "- Similarly, I must ask my viewers to like the video.\n",
    "- More the comments more the engagement. Hence, I must keep my viewers engaged through the comment section."
   ]
  },
  {
   "cell_type": "markdown",
   "metadata": {},
   "source": [
    "___"
   ]
  },
  {
   "cell_type": "markdown",
   "metadata": {},
   "source": [
    "- ### PREDICTING REVENUE"
   ]
  },
  {
   "cell_type": "code",
   "execution_count": 66,
   "metadata": {},
   "outputs": [],
   "source": [
    "X = dataset.drop(columns=['revenue', 'predicted_views'])\n",
    "y = dataset.revenue"
   ]
  },
  {
   "cell_type": "markdown",
   "metadata": {},
   "source": [
    "### STANDARIZING THE DATA"
   ]
  },
  {
   "cell_type": "markdown",
   "metadata": {},
   "source": [
    "Standardization is performed to prevent features with wider ranges from dominating the distance metric."
   ]
  },
  {
   "cell_type": "code",
   "execution_count": 67,
   "metadata": {},
   "outputs": [],
   "source": [
    "# importing required library for standardization\n",
    "from sklearn.preprocessing import StandardScaler\n",
    "\n",
    "# standard scaling\n",
    "sc = StandardScaler()\n",
    "X = sc.fit_transform(X)"
   ]
  },
  {
   "cell_type": "markdown",
   "metadata": {},
   "source": [
    "- <h3> MODELS"
   ]
  },
  {
   "cell_type": "code",
   "execution_count": 68,
   "metadata": {},
   "outputs": [
    {
     "name": "stdout",
     "output_type": "stream",
     "text": [
      "97.41 %\n"
     ]
    }
   ],
   "source": [
    "from sklearn.ensemble import RandomForestRegressor\n",
    "\n",
    "# Random Forest\n",
    "random_forest = RandomForestRegressor(n_estimators=100)\n",
    "random_forest.fit(X, y)\n",
    "\n",
    "Y_prediction = random_forest.predict(X)\n",
    "\n",
    "random_forest.score(X, y)\n",
    "acc_random_forest = round(random_forest.score(X, y) * 100, 2)\n",
    "print(round(acc_random_forest,2,), \"%\")"
   ]
  },
  {
   "cell_type": "code",
   "execution_count": 69,
   "metadata": {},
   "outputs": [
    {
     "name": "stdout",
     "output_type": "stream",
     "text": [
      "87.0 %\n"
     ]
    }
   ],
   "source": [
    "from sklearn.linear_model import LinearRegression\n",
    "\n",
    "# Linear Regression\n",
    "linreg = LinearRegression()\n",
    "linreg.fit(X, y)\n",
    "\n",
    "Y_pred = linreg.predict(X)\n",
    "\n",
    "acc_lin = round(linreg.score(X, y) * 100, 2)\n",
    "print(round(acc_lin,2,), \"%\")"
   ]
  },
  {
   "cell_type": "code",
   "execution_count": 70,
   "metadata": {},
   "outputs": [
    {
     "name": "stdout",
     "output_type": "stream",
     "text": [
      "87.65 %\n"
     ]
    }
   ],
   "source": [
    "from sklearn.neighbors import KNeighborsRegressor\n",
    "\n",
    "# KNN\n",
    "knn = KNeighborsRegressor(n_neighbors = 3)\n",
    "knn.fit(X, y)\n",
    "\n",
    "Y_pred = knn.predict(X)\n",
    "\n",
    "acc_knn = round(knn.score(X, y) * 100, 2)\n",
    "print(round(acc_knn,2,), \"%\")"
   ]
  },
  {
   "cell_type": "code",
   "execution_count": 71,
   "metadata": {},
   "outputs": [
    {
     "name": "stdout",
     "output_type": "stream",
     "text": [
      "100.0 %\n"
     ]
    }
   ],
   "source": [
    "from sklearn.tree import DecisionTreeRegressor\n",
    "\n",
    "# Decision Tree\n",
    "decision_tree = DecisionTreeRegressor()\n",
    "decision_tree.fit(X, y)\n",
    "\n",
    "Y_pred = decision_tree.predict(X)\n",
    "\n",
    "acc_decision_tree = round(decision_tree.score(X, y) * 100, 2)\n",
    "print(round(acc_decision_tree,2,), \"%\")"
   ]
  },
  {
   "cell_type": "markdown",
   "metadata": {},
   "source": [
    "### Which is the best model ?"
   ]
  },
  {
   "cell_type": "code",
   "execution_count": 72,
   "metadata": {},
   "outputs": [
    {
     "data": {
      "text/html": [
       "<div>\n",
       "<style scoped>\n",
       "    .dataframe tbody tr th:only-of-type {\n",
       "        vertical-align: middle;\n",
       "    }\n",
       "\n",
       "    .dataframe tbody tr th {\n",
       "        vertical-align: top;\n",
       "    }\n",
       "\n",
       "    .dataframe thead th {\n",
       "        text-align: right;\n",
       "    }\n",
       "</style>\n",
       "<table border=\"1\" class=\"dataframe\">\n",
       "  <thead>\n",
       "    <tr style=\"text-align: right;\">\n",
       "      <th></th>\n",
       "      <th>Model</th>\n",
       "    </tr>\n",
       "    <tr>\n",
       "      <th>Score</th>\n",
       "      <th></th>\n",
       "    </tr>\n",
       "  </thead>\n",
       "  <tbody>\n",
       "    <tr>\n",
       "      <td>100.00</td>\n",
       "      <td>Decision Tree</td>\n",
       "    </tr>\n",
       "    <tr>\n",
       "      <td>97.41</td>\n",
       "      <td>Random Forest</td>\n",
       "    </tr>\n",
       "    <tr>\n",
       "      <td>87.65</td>\n",
       "      <td>KNN</td>\n",
       "    </tr>\n",
       "    <tr>\n",
       "      <td>87.00</td>\n",
       "      <td>Linear Regression</td>\n",
       "    </tr>\n",
       "  </tbody>\n",
       "</table>\n",
       "</div>"
      ],
      "text/plain": [
       "                    Model\n",
       "Score                    \n",
       "100.00      Decision Tree\n",
       "97.41       Random Forest\n",
       "87.65                 KNN\n",
       "87.00   Linear Regression"
      ]
     },
     "execution_count": 72,
     "metadata": {},
     "output_type": "execute_result"
    }
   ],
   "source": [
    "results = pd.DataFrame({'Model': ['KNN', 'Linear Regression', 'Random Forest', 'Decision Tree'],\n",
    "                        'Score': [acc_knn, acc_lin, acc_random_forest, acc_decision_tree]})\n",
    "result_df = results.sort_values(by='Score', ascending=False)\n",
    "result_df = result_df.set_index('Score')\n",
    "result_df"
   ]
  },
  {
   "cell_type": "markdown",
   "metadata": {},
   "source": [
    "As we can see, the Decision Tree goes on the first place. But there are high chances of overfitting in decision tree model. Hence, we will go with Random forest regressor."
   ]
  },
  {
   "cell_type": "markdown",
   "metadata": {},
   "source": [
    "### Feature Importance"
   ]
  },
  {
   "cell_type": "code",
   "execution_count": 73,
   "metadata": {},
   "outputs": [],
   "source": [
    "importances = pd.DataFrame({'feature':dataset.drop(columns=['revenue', 'predicted_views']).columns,'importance':np.round(random_forest.feature_importances_,3)})\n",
    "importances = importances.sort_values('importance',ascending=False).set_index('feature')"
   ]
  },
  {
   "cell_type": "code",
   "execution_count": 74,
   "metadata": {},
   "outputs": [
    {
     "data": {
      "text/html": [
       "<div>\n",
       "<style scoped>\n",
       "    .dataframe tbody tr th:only-of-type {\n",
       "        vertical-align: middle;\n",
       "    }\n",
       "\n",
       "    .dataframe tbody tr th {\n",
       "        vertical-align: top;\n",
       "    }\n",
       "\n",
       "    .dataframe thead th {\n",
       "        text-align: right;\n",
       "    }\n",
       "</style>\n",
       "<table border=\"1\" class=\"dataframe\">\n",
       "  <thead>\n",
       "    <tr style=\"text-align: right;\">\n",
       "      <th></th>\n",
       "      <th>importance</th>\n",
       "    </tr>\n",
       "    <tr>\n",
       "      <th>feature</th>\n",
       "      <th></th>\n",
       "    </tr>\n",
       "  </thead>\n",
       "  <tbody>\n",
       "    <tr>\n",
       "      <td>watch_time</td>\n",
       "      <td>0.728</td>\n",
       "    </tr>\n",
       "    <tr>\n",
       "      <td>views</td>\n",
       "      <td>0.197</td>\n",
       "    </tr>\n",
       "    <tr>\n",
       "      <td>duration_sec</td>\n",
       "      <td>0.024</td>\n",
       "    </tr>\n",
       "    <tr>\n",
       "      <td>comments</td>\n",
       "      <td>0.012</td>\n",
       "    </tr>\n",
       "    <tr>\n",
       "      <td>title</td>\n",
       "      <td>0.009</td>\n",
       "    </tr>\n",
       "    <tr>\n",
       "      <td>description</td>\n",
       "      <td>0.009</td>\n",
       "    </tr>\n",
       "    <tr>\n",
       "      <td>audience_retention</td>\n",
       "      <td>0.008</td>\n",
       "    </tr>\n",
       "    <tr>\n",
       "      <td>tags</td>\n",
       "      <td>0.004</td>\n",
       "    </tr>\n",
       "    <tr>\n",
       "      <td>likes_vs_dislikes</td>\n",
       "      <td>0.004</td>\n",
       "    </tr>\n",
       "    <tr>\n",
       "      <td>week_no</td>\n",
       "      <td>0.003</td>\n",
       "    </tr>\n",
       "    <tr>\n",
       "      <td>playlist</td>\n",
       "      <td>0.001</td>\n",
       "    </tr>\n",
       "    <tr>\n",
       "      <td>copyright_claim</td>\n",
       "      <td>0.000</td>\n",
       "    </tr>\n",
       "  </tbody>\n",
       "</table>\n",
       "</div>"
      ],
      "text/plain": [
       "                    importance\n",
       "feature                       \n",
       "watch_time               0.728\n",
       "views                    0.197\n",
       "duration_sec             0.024\n",
       "comments                 0.012\n",
       "title                    0.009\n",
       "description              0.009\n",
       "audience_retention       0.008\n",
       "tags                     0.004\n",
       "likes_vs_dislikes        0.004\n",
       "week_no                  0.003\n",
       "playlist                 0.001\n",
       "copyright_claim          0.000"
      ]
     },
     "execution_count": 74,
     "metadata": {},
     "output_type": "execute_result"
    }
   ],
   "source": [
    "importances"
   ]
  },
  {
   "cell_type": "markdown",
   "metadata": {},
   "source": [
    "#### Training random forest:"
   ]
  },
  {
   "cell_type": "code",
   "execution_count": 75,
   "metadata": {},
   "outputs": [
    {
     "name": "stdout",
     "output_type": "stream",
     "text": [
      "97.38 %\n"
     ]
    }
   ],
   "source": [
    "# Random Forest\n",
    "random_forest = RandomForestRegressor(n_estimators=100, oob_score = True)\n",
    "random_forest.fit(X, y)\n",
    "Y_prediction = random_forest.predict(X)\n",
    "\n",
    "random_forest.score(X, y)\n",
    "\n",
    "acc_random_forest = round(random_forest.score(X, y) * 100, 2)\n",
    "print(round(acc_random_forest,2,),\"%\")"
   ]
  },
  {
   "cell_type": "code",
   "execution_count": 76,
   "metadata": {},
   "outputs": [
    {
     "name": "stdout",
     "output_type": "stream",
     "text": [
      "oob score: 81.78 %\n"
     ]
    }
   ],
   "source": [
    "print(\"oob score:\", round(random_forest.oob_score_, 4)*100, \"%\")"
   ]
  },
  {
   "cell_type": "markdown",
   "metadata": {},
   "source": [
    "Now we can start tuning the hyperameters of random forest."
   ]
  },
  {
   "cell_type": "markdown",
   "metadata": {},
   "source": [
    "### Hyperparameter Tuning"
   ]
  },
  {
   "cell_type": "markdown",
   "metadata": {},
   "source": [
    "Below you can see the code of the hyperparamter tuning for the min_samples_leaf, min_samples_split and n_estimators."
   ]
  },
  {
   "cell_type": "code",
   "execution_count": 895,
   "metadata": {},
   "outputs": [
    {
     "data": {
      "text/plain": [
       "{'min_samples_leaf': 1, 'min_samples_split': 2, 'n_estimators': 300}"
      ]
     },
     "execution_count": 895,
     "metadata": {},
     "output_type": "execute_result"
    }
   ],
   "source": [
    "param_grid = {\"min_samples_leaf\" : [1, 5, 10], \n",
    "              \"min_samples_split\" : [2, 4, 10, 12], \n",
    "              \"n_estimators\": [100, 200, 300, 400, 500]}\n",
    "\n",
    "from sklearn.model_selection import GridSearchCV, cross_val_score\n",
    "\n",
    "rf = RandomForestRegressor(n_estimators=100, max_features='auto', oob_score=True, random_state=1, n_jobs=-1)\n",
    "\n",
    "reg = GridSearchCV(estimator=rf, param_grid=param_grid, n_jobs=-1)\n",
    "\n",
    "reg.fit(X, y)\n",
    "\n",
    "reg.best_params_"
   ]
  },
  {
   "cell_type": "markdown",
   "metadata": {},
   "source": [
    "#### Test new paramters:"
   ]
  },
  {
   "cell_type": "code",
   "execution_count": 77,
   "metadata": {},
   "outputs": [
    {
     "name": "stdout",
     "output_type": "stream",
     "text": [
      "oob score: 82.49 %\n",
      "score 97.64 %\n"
     ]
    }
   ],
   "source": [
    "# Random Forest\n",
    "random_forest = RandomForestRegressor(min_samples_leaf = 1, \n",
    "                                       min_samples_split = 2,   \n",
    "                                       n_estimators=300, \n",
    "                                       max_features='auto', \n",
    "                                       oob_score=True, \n",
    "                                       random_state=1, \n",
    "                                       n_jobs=-1)\n",
    "\n",
    "random_forest.fit(X, y)\n",
    "Y_prediction = random_forest.predict(X)\n",
    "\n",
    "random_forest.score(X, y)\n",
    "\n",
    "print(\"oob score:\", round(random_forest.oob_score_, 4)*100, \"%\")\n",
    "\n",
    "acc_random_forest = round(random_forest.score(X, y) * 100, 2)\n",
    "print('score', round(acc_random_forest,2,),\"%\")"
   ]
  },
  {
   "cell_type": "code",
   "execution_count": 78,
   "metadata": {},
   "outputs": [
    {
     "name": "stdout",
     "output_type": "stream",
     "text": [
      "RMSE_train: 1.7571273741854072\n"
     ]
    }
   ],
   "source": [
    "from sklearn.metrics import mean_absolute_error, mean_squared_error, r2_score\n",
    "\n",
    "RMSE = np.sqrt(mean_squared_error(y, Y_prediction))\n",
    "print('RMSE_train:', RMSE)"
   ]
  },
  {
   "cell_type": "code",
   "execution_count": 79,
   "metadata": {},
   "outputs": [
    {
     "name": "stdout",
     "output_type": "stream",
     "text": [
      "MAPE_train: 12.481916014238022\n"
     ]
    }
   ],
   "source": [
    "# The mean absolute percentage error is a measure of prediction accuracy of a forecasting method in statistics.\n",
    "\n",
    "MAPE = np.mean(abs(y - Y_prediction)*100 / y)\n",
    "print('MAPE_train:', MAPE)"
   ]
  },
  {
   "cell_type": "code",
   "execution_count": 80,
   "metadata": {},
   "outputs": [],
   "source": [
    "dataset['predicted_revenue'] = Y_prediction.round()"
   ]
  },
  {
   "cell_type": "markdown",
   "metadata": {},
   "source": [
    "##### SUBMISSION"
   ]
  },
  {
   "cell_type": "code",
   "execution_count": 81,
   "metadata": {},
   "outputs": [],
   "source": [
    "dataset.to_csv('submission.csv', index=False)"
   ]
  },
  {
   "cell_type": "code",
   "execution_count": 82,
   "metadata": {},
   "outputs": [
    {
     "data": {
      "text/html": [
       "<div>\n",
       "<style scoped>\n",
       "    .dataframe tbody tr th:only-of-type {\n",
       "        vertical-align: middle;\n",
       "    }\n",
       "\n",
       "    .dataframe tbody tr th {\n",
       "        vertical-align: top;\n",
       "    }\n",
       "\n",
       "    .dataframe thead th {\n",
       "        text-align: right;\n",
       "    }\n",
       "</style>\n",
       "<table border=\"1\" class=\"dataframe\">\n",
       "  <thead>\n",
       "    <tr style=\"text-align: right;\">\n",
       "      <th></th>\n",
       "      <th>title</th>\n",
       "      <th>description</th>\n",
       "      <th>tags</th>\n",
       "      <th>playlist</th>\n",
       "      <th>copyright_claim</th>\n",
       "      <th>comments</th>\n",
       "      <th>watch_time</th>\n",
       "      <th>audience_retention</th>\n",
       "      <th>likes_vs_dislikes</th>\n",
       "      <th>week_no</th>\n",
       "      <th>duration_sec</th>\n",
       "      <th>views</th>\n",
       "      <th>revenue</th>\n",
       "      <th>predicted_views</th>\n",
       "      <th>predicted_revenue</th>\n",
       "    </tr>\n",
       "  </thead>\n",
       "  <tbody>\n",
       "    <tr>\n",
       "      <td>0</td>\n",
       "      <td>77.0</td>\n",
       "      <td>1502.0</td>\n",
       "      <td>443.0</td>\n",
       "      <td>2.0</td>\n",
       "      <td>1.0</td>\n",
       "      <td>147.4</td>\n",
       "      <td>788.0</td>\n",
       "      <td>0.5242</td>\n",
       "      <td>0.99300</td>\n",
       "      <td>6.2</td>\n",
       "      <td>256.74</td>\n",
       "      <td>28369.2</td>\n",
       "      <td>3.388</td>\n",
       "      <td>31132.0</td>\n",
       "      <td>4.0</td>\n",
       "    </tr>\n",
       "    <tr>\n",
       "      <td>1</td>\n",
       "      <td>70.2</td>\n",
       "      <td>1502.0</td>\n",
       "      <td>434.0</td>\n",
       "      <td>1.0</td>\n",
       "      <td>0.0</td>\n",
       "      <td>147.4</td>\n",
       "      <td>563.6</td>\n",
       "      <td>0.5242</td>\n",
       "      <td>0.98200</td>\n",
       "      <td>52.0</td>\n",
       "      <td>207.00</td>\n",
       "      <td>28369.2</td>\n",
       "      <td>3.388</td>\n",
       "      <td>28948.0</td>\n",
       "      <td>3.0</td>\n",
       "    </tr>\n",
       "    <tr>\n",
       "      <td>2</td>\n",
       "      <td>70.2</td>\n",
       "      <td>1502.0</td>\n",
       "      <td>319.0</td>\n",
       "      <td>1.0</td>\n",
       "      <td>0.0</td>\n",
       "      <td>220.0</td>\n",
       "      <td>563.6</td>\n",
       "      <td>0.6300</td>\n",
       "      <td>0.99478</td>\n",
       "      <td>52.0</td>\n",
       "      <td>156.00</td>\n",
       "      <td>28369.2</td>\n",
       "      <td>3.388</td>\n",
       "      <td>29621.0</td>\n",
       "      <td>4.0</td>\n",
       "    </tr>\n",
       "    <tr>\n",
       "      <td>3</td>\n",
       "      <td>70.2</td>\n",
       "      <td>1502.0</td>\n",
       "      <td>319.0</td>\n",
       "      <td>1.0</td>\n",
       "      <td>0.0</td>\n",
       "      <td>179.0</td>\n",
       "      <td>563.6</td>\n",
       "      <td>0.6000</td>\n",
       "      <td>0.99200</td>\n",
       "      <td>26.0</td>\n",
       "      <td>120.00</td>\n",
       "      <td>28369.2</td>\n",
       "      <td>3.388</td>\n",
       "      <td>28850.0</td>\n",
       "      <td>4.0</td>\n",
       "    </tr>\n",
       "    <tr>\n",
       "      <td>4</td>\n",
       "      <td>70.2</td>\n",
       "      <td>1502.0</td>\n",
       "      <td>319.0</td>\n",
       "      <td>1.0</td>\n",
       "      <td>0.0</td>\n",
       "      <td>177.0</td>\n",
       "      <td>563.6</td>\n",
       "      <td>0.6050</td>\n",
       "      <td>0.99200</td>\n",
       "      <td>23.0</td>\n",
       "      <td>127.00</td>\n",
       "      <td>28369.2</td>\n",
       "      <td>4.060</td>\n",
       "      <td>28860.0</td>\n",
       "      <td>4.0</td>\n",
       "    </tr>\n",
       "  </tbody>\n",
       "</table>\n",
       "</div>"
      ],
      "text/plain": [
       "   title  description   tags  playlist  copyright_claim  comments  watch_time  \\\n",
       "0   77.0       1502.0  443.0       2.0              1.0     147.4       788.0   \n",
       "1   70.2       1502.0  434.0       1.0              0.0     147.4       563.6   \n",
       "2   70.2       1502.0  319.0       1.0              0.0     220.0       563.6   \n",
       "3   70.2       1502.0  319.0       1.0              0.0     179.0       563.6   \n",
       "4   70.2       1502.0  319.0       1.0              0.0     177.0       563.6   \n",
       "\n",
       "   audience_retention  likes_vs_dislikes  week_no  duration_sec    views  \\\n",
       "0              0.5242            0.99300      6.2        256.74  28369.2   \n",
       "1              0.5242            0.98200     52.0        207.00  28369.2   \n",
       "2              0.6300            0.99478     52.0        156.00  28369.2   \n",
       "3              0.6000            0.99200     26.0        120.00  28369.2   \n",
       "4              0.6050            0.99200     23.0        127.00  28369.2   \n",
       "\n",
       "   revenue  predicted_views  predicted_revenue  \n",
       "0    3.388          31132.0                4.0  \n",
       "1    3.388          28948.0                3.0  \n",
       "2    3.388          29621.0                4.0  \n",
       "3    3.388          28850.0                4.0  \n",
       "4    4.060          28860.0                4.0  "
      ]
     },
     "execution_count": 82,
     "metadata": {},
     "output_type": "execute_result"
    }
   ],
   "source": [
    "dataset.head()"
   ]
  },
  {
   "cell_type": "markdown",
   "metadata": {},
   "source": [
    "## INSIGHTS"
   ]
  },
  {
   "cell_type": "markdown",
   "metadata": {},
   "source": [
    "Factors that are responsible for more revenue are:\n",
    "- **watch_time** - watch time of the video in hours\n",
    "- **views** - Number of views on a video\n",
    "- **duration_sec** -  duration of video in seconds"
   ]
  },
  {
   "cell_type": "markdown",
   "metadata": {},
   "source": [
    "## BUSINESS SOLUTION"
   ]
  },
  {
   "cell_type": "markdown",
   "metadata": {},
   "source": [
    "- I must focus on the facors derived in 'predicting views' model to increase views on my channel to increase revenue.\n",
    "- Since, watch_time and audience_retention are important so I must ask my viewers to watch video till the end to increase watch_time and audience retention.<br> \n",
    "- I can place more ads in longer videos and hence revenue will increase. So, I must make longer videos."
   ]
  },
  {
   "cell_type": "markdown",
   "metadata": {},
   "source": [
    "<center> <h1> END"
   ]
  },
  {
   "cell_type": "markdown",
   "metadata": {},
   "source": [
    "___"
   ]
  }
 ],
 "metadata": {
  "kernelspec": {
   "display_name": "Python 3",
   "language": "python",
   "name": "python3"
  },
  "language_info": {
   "codemirror_mode": {
    "name": "ipython",
    "version": 3
   },
   "file_extension": ".py",
   "mimetype": "text/x-python",
   "name": "python",
   "nbconvert_exporter": "python",
   "pygments_lexer": "ipython3",
   "version": "3.7.4"
  }
 },
 "nbformat": 4,
 "nbformat_minor": 2
}
