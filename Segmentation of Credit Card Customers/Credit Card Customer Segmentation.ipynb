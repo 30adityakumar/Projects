{
 "cells": [
  {
   "cell_type": "markdown",
   "metadata": {},
   "source": [
    "___"
   ]
  },
  {
   "cell_type": "markdown",
   "metadata": {},
   "source": [
    "<center> <h1> CREDIT CARD CUSTOMER SEGMENTATION"
   ]
  },
  {
   "cell_type": "markdown",
   "metadata": {},
   "source": [
    "___"
   ]
  },
  {
   "cell_type": "markdown",
   "metadata": {},
   "source": [
    "### BUSINESS CONTEXT"
   ]
  },
  {
   "cell_type": "markdown",
   "metadata": {},
   "source": [
    "- The draft prospectus puts out interesting data on the credit card industry. It says credit card dues are expected to grow at a compound annual growth rate (CAGR) of 23 per cent to reach Rs 3.3 trillion by FY 24. And, the credit card spends is expected to grow to Rs 15 trillion by FY24 from Rs 6 trillion in FY19. This will be supported by spending growth and increasing EMI-based payments using credit cards. Moreover, the number of credit cards outstanding is also projected to grow at fast pace of 23 per cent CAGR in the next five years, according to CRISIL Research.<br>\n",
    "<br>\n",
    "- Customer segmentation is one of the most fundamental building blocks in getting to know customers. It is essential for industries where customer interaction is frequent and varied, as each interaction provides insight into opportunities and risks for every individual. The credit card industry is on par with telecommunications, e-commerce, and retail from this perspective, and the industry gains significant ROI from segmentation initiatives. Surprisingly, all around the world, there are many banks still not taking advantage of this opportunity, frequently due to a lack of tools or in-house resources to process and digest big data sources, sitting on top of a gold mine that erodes each day when left untouched."
   ]
  },
  {
   "cell_type": "markdown",
   "metadata": {},
   "source": [
    "## BUSINESS PROBLEM"
   ]
  },
  {
   "cell_type": "markdown",
   "metadata": {},
   "source": [
    ">The goal is to discover the **Customer Segmentation** of a bank to define marketing strategy, by looking through their behavior/profile while using Credit Card."
   ]
  },
  {
   "cell_type": "markdown",
   "metadata": {},
   "source": [
    "### DATA DICTIONARY"
   ]
  },
  {
   "cell_type": "markdown",
   "metadata": {},
   "source": [
    "The sample dataset summarizes the usage behavior of about 9000 active credit card holders during the last 6 months. The file is at a customer level with 18 behavioral variables. The explanation of every variables:<br>\n",
    "- **CUST_ID** : Identification of Credit Card holder (Categorical)<br>\n",
    "- **BALANCE** : Balance amount left in their account to make purchases<br>\n",
    "- **BALANCE_FREQUENCY** : How frequently the Balance is updated, score between 0 and 1 (1 = frequently updated, 0 = not frequently updated)<br>\n",
    "- **PURCHASES** : Amount of purchases made from account<br>\n",
    "- **ONEOFF_PURCHASES** : Maximum purchase amount done in one-go<br>\n",
    "- **INSTALLMENTS_PURCHASES** : Amount of purchase done in installment<br>\n",
    "- **CASH_ADVANCE** : Cash in advance given by the user<br>\n",
    "- **PURCHASES_FREQUENCY** : How frequently the Purchases are being made, score between 0 and 1 (1 = frequently purchased, 0 = not frequently)<br>\n",
    "- **ONEOFF_PURCHASES_FREQUENCY** : How frequently Purchases are happening in one-go (1 = frequently purchased, 0 = not frequently purchased)<br>\n",
    "- **PURCHASES_INSTALLMENTS_FREQUENCY** : How frequently purchases in installments are being done (1 = frequently done, 0 = not frequently done)<br>\n",
    "- **CASH_ADVANCE_FREQUENCY** : How frequently the cash in advance being paid<br>\n",
    "- **CASH_ADVANCE_TRX** : Number of Transactions made with “Cash in Advanced”<br>\n",
    "- **PURCHASES_TRX** : Number of purchase transactions made<br>\n",
    "- **CREDIT_LIMIT** : Limit of Credit Card for user<br>\n",
    "- **PAYMENTS** : Amount of Payment done by user<br>\n",
    "- **MINIMUM_PAYMENTS** : Minimum amount of payments made by user<br>\n",
    "- **PRC_FULL_PAYMENT** : Percent of full payment paid by user<br>\n",
    "- **TENURE** : Tenure of credit card service for user<br>"
   ]
  },
  {
   "cell_type": "markdown",
   "metadata": {},
   "source": [
    "___"
   ]
  },
  {
   "cell_type": "markdown",
   "metadata": {},
   "source": [
    "<h4> IMPORTING REQUIRED LIBRARIES"
   ]
  },
  {
   "cell_type": "code",
   "execution_count": 14,
   "metadata": {},
   "outputs": [],
   "source": [
    "# linear algebra\n",
    "import numpy as np \n",
    "\n",
    "# data processing\n",
    "import pandas as pd \n",
    "\n",
    "# data visualization\n",
    "import seaborn as sns\n",
    "%matplotlib inline\n",
    "from matplotlib import pyplot as plt\n",
    "from matplotlib import style\n",
    "\n",
    "# parameters\n",
    "plt.rcParams['figure.figsize'] = 10, 7.5\n",
    "plt.rcParams['axes.grid'] = False\n",
    "\n",
    "# warnings\n",
    "import warnings\n",
    "warnings.filterwarnings('ignore')"
   ]
  },
  {
   "cell_type": "markdown",
   "metadata": {},
   "source": [
    "<h4> IMPORTING THE DATASET"
   ]
  },
  {
   "cell_type": "code",
   "execution_count": 2,
   "metadata": {},
   "outputs": [],
   "source": [
    "# reading the dataset\n",
    "credit = pd.read_csv('CC_GENERAL.csv')  "
   ]
  },
  {
   "cell_type": "markdown",
   "metadata": {},
   "source": [
    "___"
   ]
  },
  {
   "cell_type": "markdown",
   "metadata": {},
   "source": [
    "## DATA AUDIT"
   ]
  },
  {
   "cell_type": "code",
   "execution_count": 3,
   "metadata": {},
   "outputs": [
    {
     "data": {
      "text/html": [
       "<div>\n",
       "<style scoped>\n",
       "    .dataframe tbody tr th:only-of-type {\n",
       "        vertical-align: middle;\n",
       "    }\n",
       "\n",
       "    .dataframe tbody tr th {\n",
       "        vertical-align: top;\n",
       "    }\n",
       "\n",
       "    .dataframe thead th {\n",
       "        text-align: right;\n",
       "    }\n",
       "</style>\n",
       "<table border=\"1\" class=\"dataframe\">\n",
       "  <thead>\n",
       "    <tr style=\"text-align: right;\">\n",
       "      <th></th>\n",
       "      <th>CUST_ID</th>\n",
       "      <th>BALANCE</th>\n",
       "      <th>BALANCE_FREQUENCY</th>\n",
       "      <th>PURCHASES</th>\n",
       "      <th>ONEOFF_PURCHASES</th>\n",
       "      <th>INSTALLMENTS_PURCHASES</th>\n",
       "      <th>CASH_ADVANCE</th>\n",
       "      <th>PURCHASES_FREQUENCY</th>\n",
       "      <th>ONEOFF_PURCHASES_FREQUENCY</th>\n",
       "      <th>PURCHASES_INSTALLMENTS_FREQUENCY</th>\n",
       "      <th>CASH_ADVANCE_FREQUENCY</th>\n",
       "      <th>CASH_ADVANCE_TRX</th>\n",
       "      <th>PURCHASES_TRX</th>\n",
       "      <th>CREDIT_LIMIT</th>\n",
       "      <th>PAYMENTS</th>\n",
       "      <th>MINIMUM_PAYMENTS</th>\n",
       "      <th>PRC_FULL_PAYMENT</th>\n",
       "      <th>TENURE</th>\n",
       "    </tr>\n",
       "  </thead>\n",
       "  <tbody>\n",
       "    <tr>\n",
       "      <td>0</td>\n",
       "      <td>C10001</td>\n",
       "      <td>40.900749</td>\n",
       "      <td>0.818182</td>\n",
       "      <td>95.40</td>\n",
       "      <td>0.00</td>\n",
       "      <td>95.4</td>\n",
       "      <td>0.000000</td>\n",
       "      <td>0.166667</td>\n",
       "      <td>0.000000</td>\n",
       "      <td>0.083333</td>\n",
       "      <td>0.000000</td>\n",
       "      <td>0</td>\n",
       "      <td>2</td>\n",
       "      <td>1000.0</td>\n",
       "      <td>201.802084</td>\n",
       "      <td>139.509787</td>\n",
       "      <td>0.000000</td>\n",
       "      <td>12</td>\n",
       "    </tr>\n",
       "    <tr>\n",
       "      <td>1</td>\n",
       "      <td>C10002</td>\n",
       "      <td>3202.467416</td>\n",
       "      <td>0.909091</td>\n",
       "      <td>0.00</td>\n",
       "      <td>0.00</td>\n",
       "      <td>0.0</td>\n",
       "      <td>6442.945483</td>\n",
       "      <td>0.000000</td>\n",
       "      <td>0.000000</td>\n",
       "      <td>0.000000</td>\n",
       "      <td>0.250000</td>\n",
       "      <td>4</td>\n",
       "      <td>0</td>\n",
       "      <td>7000.0</td>\n",
       "      <td>4103.032597</td>\n",
       "      <td>1072.340217</td>\n",
       "      <td>0.222222</td>\n",
       "      <td>12</td>\n",
       "    </tr>\n",
       "    <tr>\n",
       "      <td>2</td>\n",
       "      <td>C10003</td>\n",
       "      <td>2495.148862</td>\n",
       "      <td>1.000000</td>\n",
       "      <td>773.17</td>\n",
       "      <td>773.17</td>\n",
       "      <td>0.0</td>\n",
       "      <td>0.000000</td>\n",
       "      <td>1.000000</td>\n",
       "      <td>1.000000</td>\n",
       "      <td>0.000000</td>\n",
       "      <td>0.000000</td>\n",
       "      <td>0</td>\n",
       "      <td>12</td>\n",
       "      <td>7500.0</td>\n",
       "      <td>622.066742</td>\n",
       "      <td>627.284787</td>\n",
       "      <td>0.000000</td>\n",
       "      <td>12</td>\n",
       "    </tr>\n",
       "    <tr>\n",
       "      <td>3</td>\n",
       "      <td>C10004</td>\n",
       "      <td>1666.670542</td>\n",
       "      <td>0.636364</td>\n",
       "      <td>1499.00</td>\n",
       "      <td>1499.00</td>\n",
       "      <td>0.0</td>\n",
       "      <td>205.788017</td>\n",
       "      <td>0.083333</td>\n",
       "      <td>0.083333</td>\n",
       "      <td>0.000000</td>\n",
       "      <td>0.083333</td>\n",
       "      <td>1</td>\n",
       "      <td>1</td>\n",
       "      <td>7500.0</td>\n",
       "      <td>0.000000</td>\n",
       "      <td>NaN</td>\n",
       "      <td>0.000000</td>\n",
       "      <td>12</td>\n",
       "    </tr>\n",
       "    <tr>\n",
       "      <td>4</td>\n",
       "      <td>C10005</td>\n",
       "      <td>817.714335</td>\n",
       "      <td>1.000000</td>\n",
       "      <td>16.00</td>\n",
       "      <td>16.00</td>\n",
       "      <td>0.0</td>\n",
       "      <td>0.000000</td>\n",
       "      <td>0.083333</td>\n",
       "      <td>0.083333</td>\n",
       "      <td>0.000000</td>\n",
       "      <td>0.000000</td>\n",
       "      <td>0</td>\n",
       "      <td>1</td>\n",
       "      <td>1200.0</td>\n",
       "      <td>678.334763</td>\n",
       "      <td>244.791237</td>\n",
       "      <td>0.000000</td>\n",
       "      <td>12</td>\n",
       "    </tr>\n",
       "  </tbody>\n",
       "</table>\n",
       "</div>"
      ],
      "text/plain": [
       "  CUST_ID      BALANCE  BALANCE_FREQUENCY  PURCHASES  ONEOFF_PURCHASES  \\\n",
       "0  C10001    40.900749           0.818182      95.40              0.00   \n",
       "1  C10002  3202.467416           0.909091       0.00              0.00   \n",
       "2  C10003  2495.148862           1.000000     773.17            773.17   \n",
       "3  C10004  1666.670542           0.636364    1499.00           1499.00   \n",
       "4  C10005   817.714335           1.000000      16.00             16.00   \n",
       "\n",
       "   INSTALLMENTS_PURCHASES  CASH_ADVANCE  PURCHASES_FREQUENCY  \\\n",
       "0                    95.4      0.000000             0.166667   \n",
       "1                     0.0   6442.945483             0.000000   \n",
       "2                     0.0      0.000000             1.000000   \n",
       "3                     0.0    205.788017             0.083333   \n",
       "4                     0.0      0.000000             0.083333   \n",
       "\n",
       "   ONEOFF_PURCHASES_FREQUENCY  PURCHASES_INSTALLMENTS_FREQUENCY  \\\n",
       "0                    0.000000                          0.083333   \n",
       "1                    0.000000                          0.000000   \n",
       "2                    1.000000                          0.000000   \n",
       "3                    0.083333                          0.000000   \n",
       "4                    0.083333                          0.000000   \n",
       "\n",
       "   CASH_ADVANCE_FREQUENCY  CASH_ADVANCE_TRX  PURCHASES_TRX  CREDIT_LIMIT  \\\n",
       "0                0.000000                 0              2        1000.0   \n",
       "1                0.250000                 4              0        7000.0   \n",
       "2                0.000000                 0             12        7500.0   \n",
       "3                0.083333                 1              1        7500.0   \n",
       "4                0.000000                 0              1        1200.0   \n",
       "\n",
       "      PAYMENTS  MINIMUM_PAYMENTS  PRC_FULL_PAYMENT  TENURE  \n",
       "0   201.802084        139.509787          0.000000      12  \n",
       "1  4103.032597       1072.340217          0.222222      12  \n",
       "2   622.066742        627.284787          0.000000      12  \n",
       "3     0.000000               NaN          0.000000      12  \n",
       "4   678.334763        244.791237          0.000000      12  "
      ]
     },
     "execution_count": 3,
     "metadata": {},
     "output_type": "execute_result"
    }
   ],
   "source": [
    "# first five rows of the dataset\n",
    "credit.head()"
   ]
  },
  {
   "cell_type": "code",
   "execution_count": 4,
   "metadata": {},
   "outputs": [
    {
     "data": {
      "text/html": [
       "<div>\n",
       "<style scoped>\n",
       "    .dataframe tbody tr th:only-of-type {\n",
       "        vertical-align: middle;\n",
       "    }\n",
       "\n",
       "    .dataframe tbody tr th {\n",
       "        vertical-align: top;\n",
       "    }\n",
       "\n",
       "    .dataframe thead th {\n",
       "        text-align: right;\n",
       "    }\n",
       "</style>\n",
       "<table border=\"1\" class=\"dataframe\">\n",
       "  <thead>\n",
       "    <tr style=\"text-align: right;\">\n",
       "      <th></th>\n",
       "      <th>CUST_ID</th>\n",
       "      <th>BALANCE</th>\n",
       "      <th>BALANCE_FREQUENCY</th>\n",
       "      <th>PURCHASES</th>\n",
       "      <th>ONEOFF_PURCHASES</th>\n",
       "      <th>INSTALLMENTS_PURCHASES</th>\n",
       "      <th>CASH_ADVANCE</th>\n",
       "      <th>PURCHASES_FREQUENCY</th>\n",
       "      <th>ONEOFF_PURCHASES_FREQUENCY</th>\n",
       "      <th>PURCHASES_INSTALLMENTS_FREQUENCY</th>\n",
       "      <th>CASH_ADVANCE_FREQUENCY</th>\n",
       "      <th>CASH_ADVANCE_TRX</th>\n",
       "      <th>PURCHASES_TRX</th>\n",
       "      <th>CREDIT_LIMIT</th>\n",
       "      <th>PAYMENTS</th>\n",
       "      <th>MINIMUM_PAYMENTS</th>\n",
       "      <th>PRC_FULL_PAYMENT</th>\n",
       "      <th>TENURE</th>\n",
       "    </tr>\n",
       "  </thead>\n",
       "  <tbody>\n",
       "    <tr>\n",
       "      <td>8945</td>\n",
       "      <td>C19186</td>\n",
       "      <td>28.493517</td>\n",
       "      <td>1.000000</td>\n",
       "      <td>291.12</td>\n",
       "      <td>0.00</td>\n",
       "      <td>291.12</td>\n",
       "      <td>0.000000</td>\n",
       "      <td>1.000000</td>\n",
       "      <td>0.000000</td>\n",
       "      <td>0.833333</td>\n",
       "      <td>0.000000</td>\n",
       "      <td>0</td>\n",
       "      <td>6</td>\n",
       "      <td>1000.0</td>\n",
       "      <td>325.594462</td>\n",
       "      <td>48.886365</td>\n",
       "      <td>0.50</td>\n",
       "      <td>6</td>\n",
       "    </tr>\n",
       "    <tr>\n",
       "      <td>8946</td>\n",
       "      <td>C19187</td>\n",
       "      <td>19.183215</td>\n",
       "      <td>1.000000</td>\n",
       "      <td>300.00</td>\n",
       "      <td>0.00</td>\n",
       "      <td>300.00</td>\n",
       "      <td>0.000000</td>\n",
       "      <td>1.000000</td>\n",
       "      <td>0.000000</td>\n",
       "      <td>0.833333</td>\n",
       "      <td>0.000000</td>\n",
       "      <td>0</td>\n",
       "      <td>6</td>\n",
       "      <td>1000.0</td>\n",
       "      <td>275.861322</td>\n",
       "      <td>NaN</td>\n",
       "      <td>0.00</td>\n",
       "      <td>6</td>\n",
       "    </tr>\n",
       "    <tr>\n",
       "      <td>8947</td>\n",
       "      <td>C19188</td>\n",
       "      <td>23.398673</td>\n",
       "      <td>0.833333</td>\n",
       "      <td>144.40</td>\n",
       "      <td>0.00</td>\n",
       "      <td>144.40</td>\n",
       "      <td>0.000000</td>\n",
       "      <td>0.833333</td>\n",
       "      <td>0.000000</td>\n",
       "      <td>0.666667</td>\n",
       "      <td>0.000000</td>\n",
       "      <td>0</td>\n",
       "      <td>5</td>\n",
       "      <td>1000.0</td>\n",
       "      <td>81.270775</td>\n",
       "      <td>82.418369</td>\n",
       "      <td>0.25</td>\n",
       "      <td>6</td>\n",
       "    </tr>\n",
       "    <tr>\n",
       "      <td>8948</td>\n",
       "      <td>C19189</td>\n",
       "      <td>13.457564</td>\n",
       "      <td>0.833333</td>\n",
       "      <td>0.00</td>\n",
       "      <td>0.00</td>\n",
       "      <td>0.00</td>\n",
       "      <td>36.558778</td>\n",
       "      <td>0.000000</td>\n",
       "      <td>0.000000</td>\n",
       "      <td>0.000000</td>\n",
       "      <td>0.166667</td>\n",
       "      <td>2</td>\n",
       "      <td>0</td>\n",
       "      <td>500.0</td>\n",
       "      <td>52.549959</td>\n",
       "      <td>55.755628</td>\n",
       "      <td>0.25</td>\n",
       "      <td>6</td>\n",
       "    </tr>\n",
       "    <tr>\n",
       "      <td>8949</td>\n",
       "      <td>C19190</td>\n",
       "      <td>372.708075</td>\n",
       "      <td>0.666667</td>\n",
       "      <td>1093.25</td>\n",
       "      <td>1093.25</td>\n",
       "      <td>0.00</td>\n",
       "      <td>127.040008</td>\n",
       "      <td>0.666667</td>\n",
       "      <td>0.666667</td>\n",
       "      <td>0.000000</td>\n",
       "      <td>0.333333</td>\n",
       "      <td>2</td>\n",
       "      <td>23</td>\n",
       "      <td>1200.0</td>\n",
       "      <td>63.165404</td>\n",
       "      <td>88.288956</td>\n",
       "      <td>0.00</td>\n",
       "      <td>6</td>\n",
       "    </tr>\n",
       "  </tbody>\n",
       "</table>\n",
       "</div>"
      ],
      "text/plain": [
       "     CUST_ID     BALANCE  BALANCE_FREQUENCY  PURCHASES  ONEOFF_PURCHASES  \\\n",
       "8945  C19186   28.493517           1.000000     291.12              0.00   \n",
       "8946  C19187   19.183215           1.000000     300.00              0.00   \n",
       "8947  C19188   23.398673           0.833333     144.40              0.00   \n",
       "8948  C19189   13.457564           0.833333       0.00              0.00   \n",
       "8949  C19190  372.708075           0.666667    1093.25           1093.25   \n",
       "\n",
       "      INSTALLMENTS_PURCHASES  CASH_ADVANCE  PURCHASES_FREQUENCY  \\\n",
       "8945                  291.12      0.000000             1.000000   \n",
       "8946                  300.00      0.000000             1.000000   \n",
       "8947                  144.40      0.000000             0.833333   \n",
       "8948                    0.00     36.558778             0.000000   \n",
       "8949                    0.00    127.040008             0.666667   \n",
       "\n",
       "      ONEOFF_PURCHASES_FREQUENCY  PURCHASES_INSTALLMENTS_FREQUENCY  \\\n",
       "8945                    0.000000                          0.833333   \n",
       "8946                    0.000000                          0.833333   \n",
       "8947                    0.000000                          0.666667   \n",
       "8948                    0.000000                          0.000000   \n",
       "8949                    0.666667                          0.000000   \n",
       "\n",
       "      CASH_ADVANCE_FREQUENCY  CASH_ADVANCE_TRX  PURCHASES_TRX  CREDIT_LIMIT  \\\n",
       "8945                0.000000                 0              6        1000.0   \n",
       "8946                0.000000                 0              6        1000.0   \n",
       "8947                0.000000                 0              5        1000.0   \n",
       "8948                0.166667                 2              0         500.0   \n",
       "8949                0.333333                 2             23        1200.0   \n",
       "\n",
       "        PAYMENTS  MINIMUM_PAYMENTS  PRC_FULL_PAYMENT  TENURE  \n",
       "8945  325.594462         48.886365              0.50       6  \n",
       "8946  275.861322               NaN              0.00       6  \n",
       "8947   81.270775         82.418369              0.25       6  \n",
       "8948   52.549959         55.755628              0.25       6  \n",
       "8949   63.165404         88.288956              0.00       6  "
      ]
     },
     "execution_count": 4,
     "metadata": {},
     "output_type": "execute_result"
    }
   ],
   "source": [
    "# last five rows of the dataset\n",
    "credit.tail()"
   ]
  },
  {
   "cell_type": "code",
   "execution_count": 5,
   "metadata": {},
   "outputs": [
    {
     "data": {
      "text/plain": [
       "(8950, 18)"
      ]
     },
     "execution_count": 5,
     "metadata": {},
     "output_type": "execute_result"
    }
   ],
   "source": [
    "# shape of the dataset\n",
    "credit.shape"
   ]
  },
  {
   "cell_type": "code",
   "execution_count": 6,
   "metadata": {},
   "outputs": [
    {
     "data": {
      "text/plain": [
       "Index(['CUST_ID', 'BALANCE', 'BALANCE_FREQUENCY', 'PURCHASES',\n",
       "       'ONEOFF_PURCHASES', 'INSTALLMENTS_PURCHASES', 'CASH_ADVANCE',\n",
       "       'PURCHASES_FREQUENCY', 'ONEOFF_PURCHASES_FREQUENCY',\n",
       "       'PURCHASES_INSTALLMENTS_FREQUENCY', 'CASH_ADVANCE_FREQUENCY',\n",
       "       'CASH_ADVANCE_TRX', 'PURCHASES_TRX', 'CREDIT_LIMIT', 'PAYMENTS',\n",
       "       'MINIMUM_PAYMENTS', 'PRC_FULL_PAYMENT', 'TENURE'],\n",
       "      dtype='object')"
      ]
     },
     "execution_count": 6,
     "metadata": {},
     "output_type": "execute_result"
    }
   ],
   "source": [
    "# columns present in the dataset\n",
    "credit.columns"
   ]
  },
  {
   "cell_type": "code",
   "execution_count": 7,
   "metadata": {},
   "outputs": [
    {
     "name": "stdout",
     "output_type": "stream",
     "text": [
      "<class 'pandas.core.frame.DataFrame'>\n",
      "RangeIndex: 8950 entries, 0 to 8949\n",
      "Data columns (total 18 columns):\n",
      "CUST_ID                             object\n",
      "BALANCE                             float64\n",
      "BALANCE_FREQUENCY                   float64\n",
      "PURCHASES                           float64\n",
      "ONEOFF_PURCHASES                    float64\n",
      "INSTALLMENTS_PURCHASES              float64\n",
      "CASH_ADVANCE                        float64\n",
      "PURCHASES_FREQUENCY                 float64\n",
      "ONEOFF_PURCHASES_FREQUENCY          float64\n",
      "PURCHASES_INSTALLMENTS_FREQUENCY    float64\n",
      "CASH_ADVANCE_FREQUENCY              float64\n",
      "CASH_ADVANCE_TRX                    int64\n",
      "PURCHASES_TRX                       int64\n",
      "CREDIT_LIMIT                        float64\n",
      "PAYMENTS                            float64\n",
      "MINIMUM_PAYMENTS                    float64\n",
      "PRC_FULL_PAYMENT                    float64\n",
      "TENURE                              int64\n",
      "dtypes: float64(14), int64(3), object(1)\n",
      "memory usage: 1.2+ MB\n"
     ]
    }
   ],
   "source": [
    "# a concise summary of the dataset\n",
    "credit.info(null_counts=False)"
   ]
  },
  {
   "cell_type": "markdown",
   "metadata": {},
   "source": [
    ">- All variables are in the **correct structure**, no need to re-adjust their structure. And eventually, all the variables are numerics except CUST_ID.\n",
    "- We will take out the **CUST_ID** since it is a unique variable and we can’t get further information from it."
   ]
  },
  {
   "cell_type": "code",
   "execution_count": 8,
   "metadata": {},
   "outputs": [],
   "source": [
    "# dropping CUST_ID because it won't play any role in customer segmentation\n",
    "credit = credit.drop(columns=['CUST_ID'])"
   ]
  },
  {
   "cell_type": "code",
   "execution_count": 9,
   "metadata": {},
   "outputs": [
    {
     "data": {
      "text/plain": [
       "BALANCE                               0\n",
       "BALANCE_FREQUENCY                     0\n",
       "PURCHASES                             0\n",
       "ONEOFF_PURCHASES                      0\n",
       "INSTALLMENTS_PURCHASES                0\n",
       "CASH_ADVANCE                          0\n",
       "PURCHASES_FREQUENCY                   0\n",
       "ONEOFF_PURCHASES_FREQUENCY            0\n",
       "PURCHASES_INSTALLMENTS_FREQUENCY      0\n",
       "CASH_ADVANCE_FREQUENCY                0\n",
       "CASH_ADVANCE_TRX                      0\n",
       "PURCHASES_TRX                         0\n",
       "CREDIT_LIMIT                          1\n",
       "PAYMENTS                              0\n",
       "MINIMUM_PAYMENTS                    313\n",
       "PRC_FULL_PAYMENT                      0\n",
       "TENURE                                0\n",
       "dtype: int64"
      ]
     },
     "execution_count": 9,
     "metadata": {},
     "output_type": "execute_result"
    }
   ],
   "source": [
    "# number of missing values in the dataset\n",
    "credit.isna().sum()"
   ]
  },
  {
   "cell_type": "markdown",
   "metadata": {},
   "source": [
    "> Surely, there are some **missing values** in the dataset, **313 in MINIMUM_PAYMENTS and 1 in CREDIT_LIMIT**. We will treat them in the data preparation part."
   ]
  },
  {
   "cell_type": "code",
   "execution_count": 10,
   "metadata": {},
   "outputs": [],
   "source": [
    "# Creating a UDF to get the summary of the continous variables for data exploration and analysis\n",
    "def continous_var_summary(x):\n",
    "    return pd.Series([x.count(), x.isnull().sum(), x.isnull().sum()/x.isnull().count()*100, x.sum(), x.min(), \n",
    "                      x.mean(), x.median(), x.std(), x.var(), x.quantile(.01), x.quantile(.05), x.quantile(.10), \n",
    "                      x.quantile(.25), x.quantile(.50), x.quantile(.75), x.quantile(.90), x.quantile(.95), \n",
    "                      x.quantile(.99), x.max()], \n",
    "                      index = ['N', 'NMISS', '%MISS', 'SUM', 'MIN', 'MEAN', 'MEDIAN', 'STD', 'VAR', 'P1', 'P5', \n",
    "                               'P10', 'P25', 'P50', 'P75', 'P90', 'P95', 'P99', 'MAX'])"
   ]
  },
  {
   "cell_type": "code",
   "execution_count": 11,
   "metadata": {},
   "outputs": [
    {
     "data": {
      "text/html": [
       "<div>\n",
       "<style scoped>\n",
       "    .dataframe tbody tr th:only-of-type {\n",
       "        vertical-align: middle;\n",
       "    }\n",
       "\n",
       "    .dataframe tbody tr th {\n",
       "        vertical-align: top;\n",
       "    }\n",
       "\n",
       "    .dataframe thead th {\n",
       "        text-align: right;\n",
       "    }\n",
       "</style>\n",
       "<table border=\"1\" class=\"dataframe\">\n",
       "  <thead>\n",
       "    <tr style=\"text-align: right;\">\n",
       "      <th></th>\n",
       "      <th>N</th>\n",
       "      <th>NMISS</th>\n",
       "      <th>%MISS</th>\n",
       "      <th>SUM</th>\n",
       "      <th>MIN</th>\n",
       "      <th>MEAN</th>\n",
       "      <th>MEDIAN</th>\n",
       "      <th>STD</th>\n",
       "      <th>VAR</th>\n",
       "      <th>P1</th>\n",
       "      <th>P5</th>\n",
       "      <th>P10</th>\n",
       "      <th>P25</th>\n",
       "      <th>P50</th>\n",
       "      <th>P75</th>\n",
       "      <th>P90</th>\n",
       "      <th>P95</th>\n",
       "      <th>P99</th>\n",
       "      <th>MAX</th>\n",
       "    </tr>\n",
       "  </thead>\n",
       "  <tbody>\n",
       "    <tr>\n",
       "      <td>BALANCE</td>\n",
       "      <td>8950.0</td>\n",
       "      <td>0.0</td>\n",
       "      <td>0.00</td>\n",
       "      <td>14002049.71</td>\n",
       "      <td>0.00</td>\n",
       "      <td>1564.47</td>\n",
       "      <td>873.39</td>\n",
       "      <td>2081.53</td>\n",
       "      <td>4332774.97</td>\n",
       "      <td>0.07</td>\n",
       "      <td>8.81</td>\n",
       "      <td>23.58</td>\n",
       "      <td>128.28</td>\n",
       "      <td>873.39</td>\n",
       "      <td>2054.14</td>\n",
       "      <td>4338.56</td>\n",
       "      <td>5909.11</td>\n",
       "      <td>9338.80</td>\n",
       "      <td>19043.14</td>\n",
       "    </tr>\n",
       "    <tr>\n",
       "      <td>BALANCE_FREQUENCY</td>\n",
       "      <td>8950.0</td>\n",
       "      <td>0.0</td>\n",
       "      <td>0.00</td>\n",
       "      <td>7851.57</td>\n",
       "      <td>0.00</td>\n",
       "      <td>0.88</td>\n",
       "      <td>1.00</td>\n",
       "      <td>0.24</td>\n",
       "      <td>0.06</td>\n",
       "      <td>0.09</td>\n",
       "      <td>0.27</td>\n",
       "      <td>0.45</td>\n",
       "      <td>0.89</td>\n",
       "      <td>1.00</td>\n",
       "      <td>1.00</td>\n",
       "      <td>1.00</td>\n",
       "      <td>1.00</td>\n",
       "      <td>1.00</td>\n",
       "      <td>1.00</td>\n",
       "    </tr>\n",
       "    <tr>\n",
       "      <td>PURCHASES</td>\n",
       "      <td>8950.0</td>\n",
       "      <td>0.0</td>\n",
       "      <td>0.00</td>\n",
       "      <td>8978683.26</td>\n",
       "      <td>0.00</td>\n",
       "      <td>1003.20</td>\n",
       "      <td>361.28</td>\n",
       "      <td>2136.63</td>\n",
       "      <td>4565208.19</td>\n",
       "      <td>0.00</td>\n",
       "      <td>0.00</td>\n",
       "      <td>0.00</td>\n",
       "      <td>39.64</td>\n",
       "      <td>361.28</td>\n",
       "      <td>1110.13</td>\n",
       "      <td>2542.62</td>\n",
       "      <td>3998.62</td>\n",
       "      <td>8977.29</td>\n",
       "      <td>49039.57</td>\n",
       "    </tr>\n",
       "    <tr>\n",
       "      <td>ONEOFF_PURCHASES</td>\n",
       "      <td>8950.0</td>\n",
       "      <td>0.0</td>\n",
       "      <td>0.00</td>\n",
       "      <td>5302314.47</td>\n",
       "      <td>0.00</td>\n",
       "      <td>592.44</td>\n",
       "      <td>38.00</td>\n",
       "      <td>1659.89</td>\n",
       "      <td>2755227.90</td>\n",
       "      <td>0.00</td>\n",
       "      <td>0.00</td>\n",
       "      <td>0.00</td>\n",
       "      <td>0.00</td>\n",
       "      <td>38.00</td>\n",
       "      <td>577.41</td>\n",
       "      <td>1600.10</td>\n",
       "      <td>2671.09</td>\n",
       "      <td>6689.90</td>\n",
       "      <td>40761.25</td>\n",
       "    </tr>\n",
       "    <tr>\n",
       "      <td>INSTALLMENTS_PURCHASES</td>\n",
       "      <td>8950.0</td>\n",
       "      <td>0.0</td>\n",
       "      <td>0.00</td>\n",
       "      <td>3679055.42</td>\n",
       "      <td>0.00</td>\n",
       "      <td>411.07</td>\n",
       "      <td>89.00</td>\n",
       "      <td>904.34</td>\n",
       "      <td>817827.43</td>\n",
       "      <td>0.00</td>\n",
       "      <td>0.00</td>\n",
       "      <td>0.00</td>\n",
       "      <td>0.00</td>\n",
       "      <td>89.00</td>\n",
       "      <td>468.64</td>\n",
       "      <td>1140.07</td>\n",
       "      <td>1750.09</td>\n",
       "      <td>3886.24</td>\n",
       "      <td>22500.00</td>\n",
       "    </tr>\n",
       "    <tr>\n",
       "      <td>CASH_ADVANCE</td>\n",
       "      <td>8950.0</td>\n",
       "      <td>0.0</td>\n",
       "      <td>0.00</td>\n",
       "      <td>8760896.46</td>\n",
       "      <td>0.00</td>\n",
       "      <td>978.87</td>\n",
       "      <td>0.00</td>\n",
       "      <td>2097.16</td>\n",
       "      <td>4398096.33</td>\n",
       "      <td>0.00</td>\n",
       "      <td>0.00</td>\n",
       "      <td>0.00</td>\n",
       "      <td>0.00</td>\n",
       "      <td>0.00</td>\n",
       "      <td>1113.82</td>\n",
       "      <td>3065.53</td>\n",
       "      <td>4647.17</td>\n",
       "      <td>9588.16</td>\n",
       "      <td>47137.21</td>\n",
       "    </tr>\n",
       "    <tr>\n",
       "      <td>PURCHASES_FREQUENCY</td>\n",
       "      <td>8950.0</td>\n",
       "      <td>0.0</td>\n",
       "      <td>0.00</td>\n",
       "      <td>4388.64</td>\n",
       "      <td>0.00</td>\n",
       "      <td>0.49</td>\n",
       "      <td>0.50</td>\n",
       "      <td>0.40</td>\n",
       "      <td>0.16</td>\n",
       "      <td>0.00</td>\n",
       "      <td>0.00</td>\n",
       "      <td>0.00</td>\n",
       "      <td>0.08</td>\n",
       "      <td>0.50</td>\n",
       "      <td>0.92</td>\n",
       "      <td>1.00</td>\n",
       "      <td>1.00</td>\n",
       "      <td>1.00</td>\n",
       "      <td>1.00</td>\n",
       "    </tr>\n",
       "    <tr>\n",
       "      <td>ONEOFF_PURCHASES_FREQUENCY</td>\n",
       "      <td>8950.0</td>\n",
       "      <td>0.0</td>\n",
       "      <td>0.00</td>\n",
       "      <td>1812.00</td>\n",
       "      <td>0.00</td>\n",
       "      <td>0.20</td>\n",
       "      <td>0.08</td>\n",
       "      <td>0.30</td>\n",
       "      <td>0.09</td>\n",
       "      <td>0.00</td>\n",
       "      <td>0.00</td>\n",
       "      <td>0.00</td>\n",
       "      <td>0.00</td>\n",
       "      <td>0.08</td>\n",
       "      <td>0.30</td>\n",
       "      <td>0.75</td>\n",
       "      <td>1.00</td>\n",
       "      <td>1.00</td>\n",
       "      <td>1.00</td>\n",
       "    </tr>\n",
       "    <tr>\n",
       "      <td>PURCHASES_INSTALLMENTS_FREQUENCY</td>\n",
       "      <td>8950.0</td>\n",
       "      <td>0.0</td>\n",
       "      <td>0.00</td>\n",
       "      <td>3261.71</td>\n",
       "      <td>0.00</td>\n",
       "      <td>0.36</td>\n",
       "      <td>0.17</td>\n",
       "      <td>0.40</td>\n",
       "      <td>0.16</td>\n",
       "      <td>0.00</td>\n",
       "      <td>0.00</td>\n",
       "      <td>0.00</td>\n",
       "      <td>0.00</td>\n",
       "      <td>0.17</td>\n",
       "      <td>0.75</td>\n",
       "      <td>1.00</td>\n",
       "      <td>1.00</td>\n",
       "      <td>1.00</td>\n",
       "      <td>1.00</td>\n",
       "    </tr>\n",
       "    <tr>\n",
       "      <td>CASH_ADVANCE_FREQUENCY</td>\n",
       "      <td>8950.0</td>\n",
       "      <td>0.0</td>\n",
       "      <td>0.00</td>\n",
       "      <td>1209.54</td>\n",
       "      <td>0.00</td>\n",
       "      <td>0.14</td>\n",
       "      <td>0.00</td>\n",
       "      <td>0.20</td>\n",
       "      <td>0.04</td>\n",
       "      <td>0.00</td>\n",
       "      <td>0.00</td>\n",
       "      <td>0.00</td>\n",
       "      <td>0.00</td>\n",
       "      <td>0.00</td>\n",
       "      <td>0.22</td>\n",
       "      <td>0.42</td>\n",
       "      <td>0.58</td>\n",
       "      <td>0.83</td>\n",
       "      <td>1.50</td>\n",
       "    </tr>\n",
       "    <tr>\n",
       "      <td>CASH_ADVANCE_TRX</td>\n",
       "      <td>8950.0</td>\n",
       "      <td>0.0</td>\n",
       "      <td>0.00</td>\n",
       "      <td>29077.00</td>\n",
       "      <td>0.00</td>\n",
       "      <td>3.25</td>\n",
       "      <td>0.00</td>\n",
       "      <td>6.82</td>\n",
       "      <td>46.58</td>\n",
       "      <td>0.00</td>\n",
       "      <td>0.00</td>\n",
       "      <td>0.00</td>\n",
       "      <td>0.00</td>\n",
       "      <td>0.00</td>\n",
       "      <td>4.00</td>\n",
       "      <td>10.00</td>\n",
       "      <td>15.00</td>\n",
       "      <td>29.00</td>\n",
       "      <td>123.00</td>\n",
       "    </tr>\n",
       "    <tr>\n",
       "      <td>PURCHASES_TRX</td>\n",
       "      <td>8950.0</td>\n",
       "      <td>0.0</td>\n",
       "      <td>0.00</td>\n",
       "      <td>131653.00</td>\n",
       "      <td>0.00</td>\n",
       "      <td>14.71</td>\n",
       "      <td>7.00</td>\n",
       "      <td>24.86</td>\n",
       "      <td>617.90</td>\n",
       "      <td>0.00</td>\n",
       "      <td>0.00</td>\n",
       "      <td>0.00</td>\n",
       "      <td>1.00</td>\n",
       "      <td>7.00</td>\n",
       "      <td>17.00</td>\n",
       "      <td>37.00</td>\n",
       "      <td>57.00</td>\n",
       "      <td>116.51</td>\n",
       "      <td>358.00</td>\n",
       "    </tr>\n",
       "    <tr>\n",
       "      <td>CREDIT_LIMIT</td>\n",
       "      <td>8949.0</td>\n",
       "      <td>1.0</td>\n",
       "      <td>0.01</td>\n",
       "      <td>40220828.13</td>\n",
       "      <td>50.00</td>\n",
       "      <td>4494.45</td>\n",
       "      <td>3000.00</td>\n",
       "      <td>3638.82</td>\n",
       "      <td>13240979.88</td>\n",
       "      <td>500.00</td>\n",
       "      <td>1000.00</td>\n",
       "      <td>1200.00</td>\n",
       "      <td>1600.00</td>\n",
       "      <td>3000.00</td>\n",
       "      <td>6500.00</td>\n",
       "      <td>9500.00</td>\n",
       "      <td>12000.00</td>\n",
       "      <td>17000.00</td>\n",
       "      <td>30000.00</td>\n",
       "    </tr>\n",
       "    <tr>\n",
       "      <td>PAYMENTS</td>\n",
       "      <td>8950.0</td>\n",
       "      <td>0.0</td>\n",
       "      <td>0.00</td>\n",
       "      <td>15511637.48</td>\n",
       "      <td>0.00</td>\n",
       "      <td>1733.14</td>\n",
       "      <td>856.90</td>\n",
       "      <td>2895.06</td>\n",
       "      <td>8381394.16</td>\n",
       "      <td>0.00</td>\n",
       "      <td>89.99</td>\n",
       "      <td>179.62</td>\n",
       "      <td>383.28</td>\n",
       "      <td>856.90</td>\n",
       "      <td>1901.13</td>\n",
       "      <td>3923.91</td>\n",
       "      <td>6082.09</td>\n",
       "      <td>13608.72</td>\n",
       "      <td>50721.48</td>\n",
       "    </tr>\n",
       "    <tr>\n",
       "      <td>MINIMUM_PAYMENTS</td>\n",
       "      <td>8637.0</td>\n",
       "      <td>313.0</td>\n",
       "      <td>3.50</td>\n",
       "      <td>7464151.91</td>\n",
       "      <td>0.02</td>\n",
       "      <td>864.21</td>\n",
       "      <td>312.34</td>\n",
       "      <td>2372.45</td>\n",
       "      <td>5628502.90</td>\n",
       "      <td>19.52</td>\n",
       "      <td>73.28</td>\n",
       "      <td>106.03</td>\n",
       "      <td>169.12</td>\n",
       "      <td>312.34</td>\n",
       "      <td>825.49</td>\n",
       "      <td>1780.65</td>\n",
       "      <td>2766.56</td>\n",
       "      <td>9034.10</td>\n",
       "      <td>76406.21</td>\n",
       "    </tr>\n",
       "    <tr>\n",
       "      <td>PRC_FULL_PAYMENT</td>\n",
       "      <td>8950.0</td>\n",
       "      <td>0.0</td>\n",
       "      <td>0.00</td>\n",
       "      <td>1375.75</td>\n",
       "      <td>0.00</td>\n",
       "      <td>0.15</td>\n",
       "      <td>0.00</td>\n",
       "      <td>0.29</td>\n",
       "      <td>0.09</td>\n",
       "      <td>0.00</td>\n",
       "      <td>0.00</td>\n",
       "      <td>0.00</td>\n",
       "      <td>0.00</td>\n",
       "      <td>0.00</td>\n",
       "      <td>0.14</td>\n",
       "      <td>0.67</td>\n",
       "      <td>1.00</td>\n",
       "      <td>1.00</td>\n",
       "      <td>1.00</td>\n",
       "    </tr>\n",
       "    <tr>\n",
       "      <td>TENURE</td>\n",
       "      <td>8950.0</td>\n",
       "      <td>0.0</td>\n",
       "      <td>0.00</td>\n",
       "      <td>103080.00</td>\n",
       "      <td>6.00</td>\n",
       "      <td>11.52</td>\n",
       "      <td>12.00</td>\n",
       "      <td>1.34</td>\n",
       "      <td>1.79</td>\n",
       "      <td>6.00</td>\n",
       "      <td>8.00</td>\n",
       "      <td>10.00</td>\n",
       "      <td>12.00</td>\n",
       "      <td>12.00</td>\n",
       "      <td>12.00</td>\n",
       "      <td>12.00</td>\n",
       "      <td>12.00</td>\n",
       "      <td>12.00</td>\n",
       "      <td>12.00</td>\n",
       "    </tr>\n",
       "  </tbody>\n",
       "</table>\n",
       "</div>"
      ],
      "text/plain": [
       "                                       N  NMISS  %MISS          SUM    MIN  \\\n",
       "BALANCE                           8950.0    0.0   0.00  14002049.71   0.00   \n",
       "BALANCE_FREQUENCY                 8950.0    0.0   0.00      7851.57   0.00   \n",
       "PURCHASES                         8950.0    0.0   0.00   8978683.26   0.00   \n",
       "ONEOFF_PURCHASES                  8950.0    0.0   0.00   5302314.47   0.00   \n",
       "INSTALLMENTS_PURCHASES            8950.0    0.0   0.00   3679055.42   0.00   \n",
       "CASH_ADVANCE                      8950.0    0.0   0.00   8760896.46   0.00   \n",
       "PURCHASES_FREQUENCY               8950.0    0.0   0.00      4388.64   0.00   \n",
       "ONEOFF_PURCHASES_FREQUENCY        8950.0    0.0   0.00      1812.00   0.00   \n",
       "PURCHASES_INSTALLMENTS_FREQUENCY  8950.0    0.0   0.00      3261.71   0.00   \n",
       "CASH_ADVANCE_FREQUENCY            8950.0    0.0   0.00      1209.54   0.00   \n",
       "CASH_ADVANCE_TRX                  8950.0    0.0   0.00     29077.00   0.00   \n",
       "PURCHASES_TRX                     8950.0    0.0   0.00    131653.00   0.00   \n",
       "CREDIT_LIMIT                      8949.0    1.0   0.01  40220828.13  50.00   \n",
       "PAYMENTS                          8950.0    0.0   0.00  15511637.48   0.00   \n",
       "MINIMUM_PAYMENTS                  8637.0  313.0   3.50   7464151.91   0.02   \n",
       "PRC_FULL_PAYMENT                  8950.0    0.0   0.00      1375.75   0.00   \n",
       "TENURE                            8950.0    0.0   0.00    103080.00   6.00   \n",
       "\n",
       "                                     MEAN   MEDIAN      STD          VAR  \\\n",
       "BALANCE                           1564.47   873.39  2081.53   4332774.97   \n",
       "BALANCE_FREQUENCY                    0.88     1.00     0.24         0.06   \n",
       "PURCHASES                         1003.20   361.28  2136.63   4565208.19   \n",
       "ONEOFF_PURCHASES                   592.44    38.00  1659.89   2755227.90   \n",
       "INSTALLMENTS_PURCHASES             411.07    89.00   904.34    817827.43   \n",
       "CASH_ADVANCE                       978.87     0.00  2097.16   4398096.33   \n",
       "PURCHASES_FREQUENCY                  0.49     0.50     0.40         0.16   \n",
       "ONEOFF_PURCHASES_FREQUENCY           0.20     0.08     0.30         0.09   \n",
       "PURCHASES_INSTALLMENTS_FREQUENCY     0.36     0.17     0.40         0.16   \n",
       "CASH_ADVANCE_FREQUENCY               0.14     0.00     0.20         0.04   \n",
       "CASH_ADVANCE_TRX                     3.25     0.00     6.82        46.58   \n",
       "PURCHASES_TRX                       14.71     7.00    24.86       617.90   \n",
       "CREDIT_LIMIT                      4494.45  3000.00  3638.82  13240979.88   \n",
       "PAYMENTS                          1733.14   856.90  2895.06   8381394.16   \n",
       "MINIMUM_PAYMENTS                   864.21   312.34  2372.45   5628502.90   \n",
       "PRC_FULL_PAYMENT                     0.15     0.00     0.29         0.09   \n",
       "TENURE                              11.52    12.00     1.34         1.79   \n",
       "\n",
       "                                      P1       P5      P10      P25      P50  \\\n",
       "BALANCE                             0.07     8.81    23.58   128.28   873.39   \n",
       "BALANCE_FREQUENCY                   0.09     0.27     0.45     0.89     1.00   \n",
       "PURCHASES                           0.00     0.00     0.00    39.64   361.28   \n",
       "ONEOFF_PURCHASES                    0.00     0.00     0.00     0.00    38.00   \n",
       "INSTALLMENTS_PURCHASES              0.00     0.00     0.00     0.00    89.00   \n",
       "CASH_ADVANCE                        0.00     0.00     0.00     0.00     0.00   \n",
       "PURCHASES_FREQUENCY                 0.00     0.00     0.00     0.08     0.50   \n",
       "ONEOFF_PURCHASES_FREQUENCY          0.00     0.00     0.00     0.00     0.08   \n",
       "PURCHASES_INSTALLMENTS_FREQUENCY    0.00     0.00     0.00     0.00     0.17   \n",
       "CASH_ADVANCE_FREQUENCY              0.00     0.00     0.00     0.00     0.00   \n",
       "CASH_ADVANCE_TRX                    0.00     0.00     0.00     0.00     0.00   \n",
       "PURCHASES_TRX                       0.00     0.00     0.00     1.00     7.00   \n",
       "CREDIT_LIMIT                      500.00  1000.00  1200.00  1600.00  3000.00   \n",
       "PAYMENTS                            0.00    89.99   179.62   383.28   856.90   \n",
       "MINIMUM_PAYMENTS                   19.52    73.28   106.03   169.12   312.34   \n",
       "PRC_FULL_PAYMENT                    0.00     0.00     0.00     0.00     0.00   \n",
       "TENURE                              6.00     8.00    10.00    12.00    12.00   \n",
       "\n",
       "                                      P75      P90       P95       P99  \\\n",
       "BALANCE                           2054.14  4338.56   5909.11   9338.80   \n",
       "BALANCE_FREQUENCY                    1.00     1.00      1.00      1.00   \n",
       "PURCHASES                         1110.13  2542.62   3998.62   8977.29   \n",
       "ONEOFF_PURCHASES                   577.41  1600.10   2671.09   6689.90   \n",
       "INSTALLMENTS_PURCHASES             468.64  1140.07   1750.09   3886.24   \n",
       "CASH_ADVANCE                      1113.82  3065.53   4647.17   9588.16   \n",
       "PURCHASES_FREQUENCY                  0.92     1.00      1.00      1.00   \n",
       "ONEOFF_PURCHASES_FREQUENCY           0.30     0.75      1.00      1.00   \n",
       "PURCHASES_INSTALLMENTS_FREQUENCY     0.75     1.00      1.00      1.00   \n",
       "CASH_ADVANCE_FREQUENCY               0.22     0.42      0.58      0.83   \n",
       "CASH_ADVANCE_TRX                     4.00    10.00     15.00     29.00   \n",
       "PURCHASES_TRX                       17.00    37.00     57.00    116.51   \n",
       "CREDIT_LIMIT                      6500.00  9500.00  12000.00  17000.00   \n",
       "PAYMENTS                          1901.13  3923.91   6082.09  13608.72   \n",
       "MINIMUM_PAYMENTS                   825.49  1780.65   2766.56   9034.10   \n",
       "PRC_FULL_PAYMENT                     0.14     0.67      1.00      1.00   \n",
       "TENURE                              12.00    12.00     12.00     12.00   \n",
       "\n",
       "                                       MAX  \n",
       "BALANCE                           19043.14  \n",
       "BALANCE_FREQUENCY                     1.00  \n",
       "PURCHASES                         49039.57  \n",
       "ONEOFF_PURCHASES                  40761.25  \n",
       "INSTALLMENTS_PURCHASES            22500.00  \n",
       "CASH_ADVANCE                      47137.21  \n",
       "PURCHASES_FREQUENCY                   1.00  \n",
       "ONEOFF_PURCHASES_FREQUENCY            1.00  \n",
       "PURCHASES_INSTALLMENTS_FREQUENCY      1.00  \n",
       "CASH_ADVANCE_FREQUENCY                1.50  \n",
       "CASH_ADVANCE_TRX                    123.00  \n",
       "PURCHASES_TRX                       358.00  \n",
       "CREDIT_LIMIT                      30000.00  \n",
       "PAYMENTS                          50721.48  \n",
       "MINIMUM_PAYMENTS                  76406.21  \n",
       "PRC_FULL_PAYMENT                      1.00  \n",
       "TENURE                               12.00  "
      ]
     },
     "execution_count": 11,
     "metadata": {},
     "output_type": "execute_result"
    }
   ],
   "source": [
    "# a brief summary of the continous variables\n",
    "credit.apply(continous_var_summary).T.round(2)"
   ]
  },
  {
   "cell_type": "code",
   "execution_count": 12,
   "metadata": {},
   "outputs": [
    {
     "data": {
      "text/html": [
       "<div>\n",
       "<style scoped>\n",
       "    .dataframe tbody tr th:only-of-type {\n",
       "        vertical-align: middle;\n",
       "    }\n",
       "\n",
       "    .dataframe tbody tr th {\n",
       "        vertical-align: top;\n",
       "    }\n",
       "\n",
       "    .dataframe thead th {\n",
       "        text-align: right;\n",
       "    }\n",
       "</style>\n",
       "<table border=\"1\" class=\"dataframe\">\n",
       "  <thead>\n",
       "    <tr style=\"text-align: right;\">\n",
       "      <th></th>\n",
       "      <th>BALANCE</th>\n",
       "      <th>BALANCE_FREQUENCY</th>\n",
       "      <th>PURCHASES</th>\n",
       "      <th>ONEOFF_PURCHASES</th>\n",
       "      <th>INSTALLMENTS_PURCHASES</th>\n",
       "      <th>CASH_ADVANCE</th>\n",
       "      <th>PURCHASES_FREQUENCY</th>\n",
       "      <th>ONEOFF_PURCHASES_FREQUENCY</th>\n",
       "      <th>PURCHASES_INSTALLMENTS_FREQUENCY</th>\n",
       "      <th>CASH_ADVANCE_FREQUENCY</th>\n",
       "      <th>CASH_ADVANCE_TRX</th>\n",
       "      <th>PURCHASES_TRX</th>\n",
       "      <th>CREDIT_LIMIT</th>\n",
       "      <th>PAYMENTS</th>\n",
       "      <th>MINIMUM_PAYMENTS</th>\n",
       "      <th>PRC_FULL_PAYMENT</th>\n",
       "      <th>TENURE</th>\n",
       "    </tr>\n",
       "  </thead>\n",
       "  <tbody>\n",
       "    <tr>\n",
       "      <td>BALANCE</td>\n",
       "      <td>1.000000</td>\n",
       "      <td>0.322412</td>\n",
       "      <td>0.181261</td>\n",
       "      <td>0.164350</td>\n",
       "      <td>0.126469</td>\n",
       "      <td>0.496692</td>\n",
       "      <td>-0.077944</td>\n",
       "      <td>0.073166</td>\n",
       "      <td>-0.063186</td>\n",
       "      <td>0.449218</td>\n",
       "      <td>0.385152</td>\n",
       "      <td>0.154338</td>\n",
       "      <td>0.531283</td>\n",
       "      <td>0.322802</td>\n",
       "      <td>0.398684</td>\n",
       "      <td>-0.318959</td>\n",
       "      <td>0.072692</td>\n",
       "    </tr>\n",
       "    <tr>\n",
       "      <td>BALANCE_FREQUENCY</td>\n",
       "      <td>0.322412</td>\n",
       "      <td>1.000000</td>\n",
       "      <td>0.133674</td>\n",
       "      <td>0.104323</td>\n",
       "      <td>0.124292</td>\n",
       "      <td>0.099388</td>\n",
       "      <td>0.229715</td>\n",
       "      <td>0.202415</td>\n",
       "      <td>0.176079</td>\n",
       "      <td>0.191873</td>\n",
       "      <td>0.141555</td>\n",
       "      <td>0.189626</td>\n",
       "      <td>0.095843</td>\n",
       "      <td>0.065008</td>\n",
       "      <td>0.132569</td>\n",
       "      <td>-0.095082</td>\n",
       "      <td>0.119776</td>\n",
       "    </tr>\n",
       "    <tr>\n",
       "      <td>PURCHASES</td>\n",
       "      <td>0.181261</td>\n",
       "      <td>0.133674</td>\n",
       "      <td>1.000000</td>\n",
       "      <td>0.916845</td>\n",
       "      <td>0.679896</td>\n",
       "      <td>-0.051474</td>\n",
       "      <td>0.393017</td>\n",
       "      <td>0.498430</td>\n",
       "      <td>0.315567</td>\n",
       "      <td>-0.120143</td>\n",
       "      <td>-0.067175</td>\n",
       "      <td>0.689561</td>\n",
       "      <td>0.356963</td>\n",
       "      <td>0.603264</td>\n",
       "      <td>0.093860</td>\n",
       "      <td>0.180379</td>\n",
       "      <td>0.086288</td>\n",
       "    </tr>\n",
       "    <tr>\n",
       "      <td>ONEOFF_PURCHASES</td>\n",
       "      <td>0.164350</td>\n",
       "      <td>0.104323</td>\n",
       "      <td>0.916845</td>\n",
       "      <td>1.000000</td>\n",
       "      <td>0.330622</td>\n",
       "      <td>-0.031326</td>\n",
       "      <td>0.264937</td>\n",
       "      <td>0.524891</td>\n",
       "      <td>0.127729</td>\n",
       "      <td>-0.082628</td>\n",
       "      <td>-0.046212</td>\n",
       "      <td>0.545523</td>\n",
       "      <td>0.319724</td>\n",
       "      <td>0.567292</td>\n",
       "      <td>0.048755</td>\n",
       "      <td>0.132763</td>\n",
       "      <td>0.064150</td>\n",
       "    </tr>\n",
       "    <tr>\n",
       "      <td>INSTALLMENTS_PURCHASES</td>\n",
       "      <td>0.126469</td>\n",
       "      <td>0.124292</td>\n",
       "      <td>0.679896</td>\n",
       "      <td>0.330622</td>\n",
       "      <td>1.000000</td>\n",
       "      <td>-0.064244</td>\n",
       "      <td>0.442418</td>\n",
       "      <td>0.214042</td>\n",
       "      <td>0.511351</td>\n",
       "      <td>-0.132318</td>\n",
       "      <td>-0.073999</td>\n",
       "      <td>0.628108</td>\n",
       "      <td>0.256499</td>\n",
       "      <td>0.384084</td>\n",
       "      <td>0.132172</td>\n",
       "      <td>0.182569</td>\n",
       "      <td>0.086143</td>\n",
       "    </tr>\n",
       "    <tr>\n",
       "      <td>CASH_ADVANCE</td>\n",
       "      <td>0.496692</td>\n",
       "      <td>0.099388</td>\n",
       "      <td>-0.051474</td>\n",
       "      <td>-0.031326</td>\n",
       "      <td>-0.064244</td>\n",
       "      <td>1.000000</td>\n",
       "      <td>-0.215507</td>\n",
       "      <td>-0.086754</td>\n",
       "      <td>-0.177070</td>\n",
       "      <td>0.628522</td>\n",
       "      <td>0.656498</td>\n",
       "      <td>-0.075850</td>\n",
       "      <td>0.303985</td>\n",
       "      <td>0.453238</td>\n",
       "      <td>0.140107</td>\n",
       "      <td>-0.152935</td>\n",
       "      <td>-0.068312</td>\n",
       "    </tr>\n",
       "    <tr>\n",
       "      <td>PURCHASES_FREQUENCY</td>\n",
       "      <td>-0.077944</td>\n",
       "      <td>0.229715</td>\n",
       "      <td>0.393017</td>\n",
       "      <td>0.264937</td>\n",
       "      <td>0.442418</td>\n",
       "      <td>-0.215507</td>\n",
       "      <td>1.000000</td>\n",
       "      <td>0.501343</td>\n",
       "      <td>0.862934</td>\n",
       "      <td>-0.308478</td>\n",
       "      <td>-0.203478</td>\n",
       "      <td>0.568430</td>\n",
       "      <td>0.119788</td>\n",
       "      <td>0.103464</td>\n",
       "      <td>0.003030</td>\n",
       "      <td>0.305802</td>\n",
       "      <td>0.061506</td>\n",
       "    </tr>\n",
       "    <tr>\n",
       "      <td>ONEOFF_PURCHASES_FREQUENCY</td>\n",
       "      <td>0.073166</td>\n",
       "      <td>0.202415</td>\n",
       "      <td>0.498430</td>\n",
       "      <td>0.524891</td>\n",
       "      <td>0.214042</td>\n",
       "      <td>-0.086754</td>\n",
       "      <td>0.501343</td>\n",
       "      <td>1.000000</td>\n",
       "      <td>0.142329</td>\n",
       "      <td>-0.111716</td>\n",
       "      <td>-0.069088</td>\n",
       "      <td>0.544869</td>\n",
       "      <td>0.295038</td>\n",
       "      <td>0.243537</td>\n",
       "      <td>-0.030327</td>\n",
       "      <td>0.157531</td>\n",
       "      <td>0.082466</td>\n",
       "    </tr>\n",
       "    <tr>\n",
       "      <td>PURCHASES_INSTALLMENTS_FREQUENCY</td>\n",
       "      <td>-0.063186</td>\n",
       "      <td>0.176079</td>\n",
       "      <td>0.315567</td>\n",
       "      <td>0.127729</td>\n",
       "      <td>0.511351</td>\n",
       "      <td>-0.177070</td>\n",
       "      <td>0.862934</td>\n",
       "      <td>0.142329</td>\n",
       "      <td>1.000000</td>\n",
       "      <td>-0.262958</td>\n",
       "      <td>-0.169207</td>\n",
       "      <td>0.529975</td>\n",
       "      <td>0.060755</td>\n",
       "      <td>0.085551</td>\n",
       "      <td>0.030073</td>\n",
       "      <td>0.250087</td>\n",
       "      <td>0.073275</td>\n",
       "    </tr>\n",
       "    <tr>\n",
       "      <td>CASH_ADVANCE_FREQUENCY</td>\n",
       "      <td>0.449218</td>\n",
       "      <td>0.191873</td>\n",
       "      <td>-0.120143</td>\n",
       "      <td>-0.082628</td>\n",
       "      <td>-0.132318</td>\n",
       "      <td>0.628522</td>\n",
       "      <td>-0.308478</td>\n",
       "      <td>-0.111716</td>\n",
       "      <td>-0.262958</td>\n",
       "      <td>1.000000</td>\n",
       "      <td>0.799561</td>\n",
       "      <td>-0.131168</td>\n",
       "      <td>0.132616</td>\n",
       "      <td>0.183192</td>\n",
       "      <td>0.098838</td>\n",
       "      <td>-0.249773</td>\n",
       "      <td>-0.133372</td>\n",
       "    </tr>\n",
       "    <tr>\n",
       "      <td>CASH_ADVANCE_TRX</td>\n",
       "      <td>0.385152</td>\n",
       "      <td>0.141555</td>\n",
       "      <td>-0.067175</td>\n",
       "      <td>-0.046212</td>\n",
       "      <td>-0.073999</td>\n",
       "      <td>0.656498</td>\n",
       "      <td>-0.203478</td>\n",
       "      <td>-0.069088</td>\n",
       "      <td>-0.169207</td>\n",
       "      <td>0.799561</td>\n",
       "      <td>1.000000</td>\n",
       "      <td>-0.066157</td>\n",
       "      <td>0.149700</td>\n",
       "      <td>0.255278</td>\n",
       "      <td>0.109739</td>\n",
       "      <td>-0.169784</td>\n",
       "      <td>-0.043421</td>\n",
       "    </tr>\n",
       "    <tr>\n",
       "      <td>PURCHASES_TRX</td>\n",
       "      <td>0.154338</td>\n",
       "      <td>0.189626</td>\n",
       "      <td>0.689561</td>\n",
       "      <td>0.545523</td>\n",
       "      <td>0.628108</td>\n",
       "      <td>-0.075850</td>\n",
       "      <td>0.568430</td>\n",
       "      <td>0.544869</td>\n",
       "      <td>0.529975</td>\n",
       "      <td>-0.131168</td>\n",
       "      <td>-0.066157</td>\n",
       "      <td>1.000000</td>\n",
       "      <td>0.272882</td>\n",
       "      <td>0.370832</td>\n",
       "      <td>0.096333</td>\n",
       "      <td>0.162066</td>\n",
       "      <td>0.121874</td>\n",
       "    </tr>\n",
       "    <tr>\n",
       "      <td>CREDIT_LIMIT</td>\n",
       "      <td>0.531283</td>\n",
       "      <td>0.095843</td>\n",
       "      <td>0.356963</td>\n",
       "      <td>0.319724</td>\n",
       "      <td>0.256499</td>\n",
       "      <td>0.303985</td>\n",
       "      <td>0.119788</td>\n",
       "      <td>0.295038</td>\n",
       "      <td>0.060755</td>\n",
       "      <td>0.132616</td>\n",
       "      <td>0.149700</td>\n",
       "      <td>0.272882</td>\n",
       "      <td>1.000000</td>\n",
       "      <td>0.421861</td>\n",
       "      <td>0.126671</td>\n",
       "      <td>0.055672</td>\n",
       "      <td>0.139167</td>\n",
       "    </tr>\n",
       "    <tr>\n",
       "      <td>PAYMENTS</td>\n",
       "      <td>0.322802</td>\n",
       "      <td>0.065008</td>\n",
       "      <td>0.603264</td>\n",
       "      <td>0.567292</td>\n",
       "      <td>0.384084</td>\n",
       "      <td>0.453238</td>\n",
       "      <td>0.103464</td>\n",
       "      <td>0.243537</td>\n",
       "      <td>0.085551</td>\n",
       "      <td>0.183192</td>\n",
       "      <td>0.255278</td>\n",
       "      <td>0.370832</td>\n",
       "      <td>0.421861</td>\n",
       "      <td>1.000000</td>\n",
       "      <td>0.126651</td>\n",
       "      <td>0.112138</td>\n",
       "      <td>0.106136</td>\n",
       "    </tr>\n",
       "    <tr>\n",
       "      <td>MINIMUM_PAYMENTS</td>\n",
       "      <td>0.398684</td>\n",
       "      <td>0.132569</td>\n",
       "      <td>0.093860</td>\n",
       "      <td>0.048755</td>\n",
       "      <td>0.132172</td>\n",
       "      <td>0.140107</td>\n",
       "      <td>0.003030</td>\n",
       "      <td>-0.030327</td>\n",
       "      <td>0.030073</td>\n",
       "      <td>0.098838</td>\n",
       "      <td>0.109739</td>\n",
       "      <td>0.096333</td>\n",
       "      <td>0.126671</td>\n",
       "      <td>0.126651</td>\n",
       "      <td>1.000000</td>\n",
       "      <td>-0.140379</td>\n",
       "      <td>0.059444</td>\n",
       "    </tr>\n",
       "    <tr>\n",
       "      <td>PRC_FULL_PAYMENT</td>\n",
       "      <td>-0.318959</td>\n",
       "      <td>-0.095082</td>\n",
       "      <td>0.180379</td>\n",
       "      <td>0.132763</td>\n",
       "      <td>0.182569</td>\n",
       "      <td>-0.152935</td>\n",
       "      <td>0.305802</td>\n",
       "      <td>0.157531</td>\n",
       "      <td>0.250087</td>\n",
       "      <td>-0.249773</td>\n",
       "      <td>-0.169784</td>\n",
       "      <td>0.162066</td>\n",
       "      <td>0.055672</td>\n",
       "      <td>0.112138</td>\n",
       "      <td>-0.140379</td>\n",
       "      <td>1.000000</td>\n",
       "      <td>-0.016486</td>\n",
       "    </tr>\n",
       "    <tr>\n",
       "      <td>TENURE</td>\n",
       "      <td>0.072692</td>\n",
       "      <td>0.119776</td>\n",
       "      <td>0.086288</td>\n",
       "      <td>0.064150</td>\n",
       "      <td>0.086143</td>\n",
       "      <td>-0.068312</td>\n",
       "      <td>0.061506</td>\n",
       "      <td>0.082466</td>\n",
       "      <td>0.073275</td>\n",
       "      <td>-0.133372</td>\n",
       "      <td>-0.043421</td>\n",
       "      <td>0.121874</td>\n",
       "      <td>0.139167</td>\n",
       "      <td>0.106136</td>\n",
       "      <td>0.059444</td>\n",
       "      <td>-0.016486</td>\n",
       "      <td>1.000000</td>\n",
       "    </tr>\n",
       "  </tbody>\n",
       "</table>\n",
       "</div>"
      ],
      "text/plain": [
       "                                   BALANCE  BALANCE_FREQUENCY  PURCHASES  \\\n",
       "BALANCE                           1.000000           0.322412   0.181261   \n",
       "BALANCE_FREQUENCY                 0.322412           1.000000   0.133674   \n",
       "PURCHASES                         0.181261           0.133674   1.000000   \n",
       "ONEOFF_PURCHASES                  0.164350           0.104323   0.916845   \n",
       "INSTALLMENTS_PURCHASES            0.126469           0.124292   0.679896   \n",
       "CASH_ADVANCE                      0.496692           0.099388  -0.051474   \n",
       "PURCHASES_FREQUENCY              -0.077944           0.229715   0.393017   \n",
       "ONEOFF_PURCHASES_FREQUENCY        0.073166           0.202415   0.498430   \n",
       "PURCHASES_INSTALLMENTS_FREQUENCY -0.063186           0.176079   0.315567   \n",
       "CASH_ADVANCE_FREQUENCY            0.449218           0.191873  -0.120143   \n",
       "CASH_ADVANCE_TRX                  0.385152           0.141555  -0.067175   \n",
       "PURCHASES_TRX                     0.154338           0.189626   0.689561   \n",
       "CREDIT_LIMIT                      0.531283           0.095843   0.356963   \n",
       "PAYMENTS                          0.322802           0.065008   0.603264   \n",
       "MINIMUM_PAYMENTS                  0.398684           0.132569   0.093860   \n",
       "PRC_FULL_PAYMENT                 -0.318959          -0.095082   0.180379   \n",
       "TENURE                            0.072692           0.119776   0.086288   \n",
       "\n",
       "                                  ONEOFF_PURCHASES  INSTALLMENTS_PURCHASES  \\\n",
       "BALANCE                                   0.164350                0.126469   \n",
       "BALANCE_FREQUENCY                         0.104323                0.124292   \n",
       "PURCHASES                                 0.916845                0.679896   \n",
       "ONEOFF_PURCHASES                          1.000000                0.330622   \n",
       "INSTALLMENTS_PURCHASES                    0.330622                1.000000   \n",
       "CASH_ADVANCE                             -0.031326               -0.064244   \n",
       "PURCHASES_FREQUENCY                       0.264937                0.442418   \n",
       "ONEOFF_PURCHASES_FREQUENCY                0.524891                0.214042   \n",
       "PURCHASES_INSTALLMENTS_FREQUENCY          0.127729                0.511351   \n",
       "CASH_ADVANCE_FREQUENCY                   -0.082628               -0.132318   \n",
       "CASH_ADVANCE_TRX                         -0.046212               -0.073999   \n",
       "PURCHASES_TRX                             0.545523                0.628108   \n",
       "CREDIT_LIMIT                              0.319724                0.256499   \n",
       "PAYMENTS                                  0.567292                0.384084   \n",
       "MINIMUM_PAYMENTS                          0.048755                0.132172   \n",
       "PRC_FULL_PAYMENT                          0.132763                0.182569   \n",
       "TENURE                                    0.064150                0.086143   \n",
       "\n",
       "                                  CASH_ADVANCE  PURCHASES_FREQUENCY  \\\n",
       "BALANCE                               0.496692            -0.077944   \n",
       "BALANCE_FREQUENCY                     0.099388             0.229715   \n",
       "PURCHASES                            -0.051474             0.393017   \n",
       "ONEOFF_PURCHASES                     -0.031326             0.264937   \n",
       "INSTALLMENTS_PURCHASES               -0.064244             0.442418   \n",
       "CASH_ADVANCE                          1.000000            -0.215507   \n",
       "PURCHASES_FREQUENCY                  -0.215507             1.000000   \n",
       "ONEOFF_PURCHASES_FREQUENCY           -0.086754             0.501343   \n",
       "PURCHASES_INSTALLMENTS_FREQUENCY     -0.177070             0.862934   \n",
       "CASH_ADVANCE_FREQUENCY                0.628522            -0.308478   \n",
       "CASH_ADVANCE_TRX                      0.656498            -0.203478   \n",
       "PURCHASES_TRX                        -0.075850             0.568430   \n",
       "CREDIT_LIMIT                          0.303985             0.119788   \n",
       "PAYMENTS                              0.453238             0.103464   \n",
       "MINIMUM_PAYMENTS                      0.140107             0.003030   \n",
       "PRC_FULL_PAYMENT                     -0.152935             0.305802   \n",
       "TENURE                               -0.068312             0.061506   \n",
       "\n",
       "                                  ONEOFF_PURCHASES_FREQUENCY  \\\n",
       "BALANCE                                             0.073166   \n",
       "BALANCE_FREQUENCY                                   0.202415   \n",
       "PURCHASES                                           0.498430   \n",
       "ONEOFF_PURCHASES                                    0.524891   \n",
       "INSTALLMENTS_PURCHASES                              0.214042   \n",
       "CASH_ADVANCE                                       -0.086754   \n",
       "PURCHASES_FREQUENCY                                 0.501343   \n",
       "ONEOFF_PURCHASES_FREQUENCY                          1.000000   \n",
       "PURCHASES_INSTALLMENTS_FREQUENCY                    0.142329   \n",
       "CASH_ADVANCE_FREQUENCY                             -0.111716   \n",
       "CASH_ADVANCE_TRX                                   -0.069088   \n",
       "PURCHASES_TRX                                       0.544869   \n",
       "CREDIT_LIMIT                                        0.295038   \n",
       "PAYMENTS                                            0.243537   \n",
       "MINIMUM_PAYMENTS                                   -0.030327   \n",
       "PRC_FULL_PAYMENT                                    0.157531   \n",
       "TENURE                                              0.082466   \n",
       "\n",
       "                                  PURCHASES_INSTALLMENTS_FREQUENCY  \\\n",
       "BALANCE                                                  -0.063186   \n",
       "BALANCE_FREQUENCY                                         0.176079   \n",
       "PURCHASES                                                 0.315567   \n",
       "ONEOFF_PURCHASES                                          0.127729   \n",
       "INSTALLMENTS_PURCHASES                                    0.511351   \n",
       "CASH_ADVANCE                                             -0.177070   \n",
       "PURCHASES_FREQUENCY                                       0.862934   \n",
       "ONEOFF_PURCHASES_FREQUENCY                                0.142329   \n",
       "PURCHASES_INSTALLMENTS_FREQUENCY                          1.000000   \n",
       "CASH_ADVANCE_FREQUENCY                                   -0.262958   \n",
       "CASH_ADVANCE_TRX                                         -0.169207   \n",
       "PURCHASES_TRX                                             0.529975   \n",
       "CREDIT_LIMIT                                              0.060755   \n",
       "PAYMENTS                                                  0.085551   \n",
       "MINIMUM_PAYMENTS                                          0.030073   \n",
       "PRC_FULL_PAYMENT                                          0.250087   \n",
       "TENURE                                                    0.073275   \n",
       "\n",
       "                                  CASH_ADVANCE_FREQUENCY  CASH_ADVANCE_TRX  \\\n",
       "BALANCE                                         0.449218          0.385152   \n",
       "BALANCE_FREQUENCY                               0.191873          0.141555   \n",
       "PURCHASES                                      -0.120143         -0.067175   \n",
       "ONEOFF_PURCHASES                               -0.082628         -0.046212   \n",
       "INSTALLMENTS_PURCHASES                         -0.132318         -0.073999   \n",
       "CASH_ADVANCE                                    0.628522          0.656498   \n",
       "PURCHASES_FREQUENCY                            -0.308478         -0.203478   \n",
       "ONEOFF_PURCHASES_FREQUENCY                     -0.111716         -0.069088   \n",
       "PURCHASES_INSTALLMENTS_FREQUENCY               -0.262958         -0.169207   \n",
       "CASH_ADVANCE_FREQUENCY                          1.000000          0.799561   \n",
       "CASH_ADVANCE_TRX                                0.799561          1.000000   \n",
       "PURCHASES_TRX                                  -0.131168         -0.066157   \n",
       "CREDIT_LIMIT                                    0.132616          0.149700   \n",
       "PAYMENTS                                        0.183192          0.255278   \n",
       "MINIMUM_PAYMENTS                                0.098838          0.109739   \n",
       "PRC_FULL_PAYMENT                               -0.249773         -0.169784   \n",
       "TENURE                                         -0.133372         -0.043421   \n",
       "\n",
       "                                  PURCHASES_TRX  CREDIT_LIMIT  PAYMENTS  \\\n",
       "BALANCE                                0.154338      0.531283  0.322802   \n",
       "BALANCE_FREQUENCY                      0.189626      0.095843  0.065008   \n",
       "PURCHASES                              0.689561      0.356963  0.603264   \n",
       "ONEOFF_PURCHASES                       0.545523      0.319724  0.567292   \n",
       "INSTALLMENTS_PURCHASES                 0.628108      0.256499  0.384084   \n",
       "CASH_ADVANCE                          -0.075850      0.303985  0.453238   \n",
       "PURCHASES_FREQUENCY                    0.568430      0.119788  0.103464   \n",
       "ONEOFF_PURCHASES_FREQUENCY             0.544869      0.295038  0.243537   \n",
       "PURCHASES_INSTALLMENTS_FREQUENCY       0.529975      0.060755  0.085551   \n",
       "CASH_ADVANCE_FREQUENCY                -0.131168      0.132616  0.183192   \n",
       "CASH_ADVANCE_TRX                      -0.066157      0.149700  0.255278   \n",
       "PURCHASES_TRX                          1.000000      0.272882  0.370832   \n",
       "CREDIT_LIMIT                           0.272882      1.000000  0.421861   \n",
       "PAYMENTS                               0.370832      0.421861  1.000000   \n",
       "MINIMUM_PAYMENTS                       0.096333      0.126671  0.126651   \n",
       "PRC_FULL_PAYMENT                       0.162066      0.055672  0.112138   \n",
       "TENURE                                 0.121874      0.139167  0.106136   \n",
       "\n",
       "                                  MINIMUM_PAYMENTS  PRC_FULL_PAYMENT    TENURE  \n",
       "BALANCE                                   0.398684         -0.318959  0.072692  \n",
       "BALANCE_FREQUENCY                         0.132569         -0.095082  0.119776  \n",
       "PURCHASES                                 0.093860          0.180379  0.086288  \n",
       "ONEOFF_PURCHASES                          0.048755          0.132763  0.064150  \n",
       "INSTALLMENTS_PURCHASES                    0.132172          0.182569  0.086143  \n",
       "CASH_ADVANCE                              0.140107         -0.152935 -0.068312  \n",
       "PURCHASES_FREQUENCY                       0.003030          0.305802  0.061506  \n",
       "ONEOFF_PURCHASES_FREQUENCY               -0.030327          0.157531  0.082466  \n",
       "PURCHASES_INSTALLMENTS_FREQUENCY          0.030073          0.250087  0.073275  \n",
       "CASH_ADVANCE_FREQUENCY                    0.098838         -0.249773 -0.133372  \n",
       "CASH_ADVANCE_TRX                          0.109739         -0.169784 -0.043421  \n",
       "PURCHASES_TRX                             0.096333          0.162066  0.121874  \n",
       "CREDIT_LIMIT                              0.126671          0.055672  0.139167  \n",
       "PAYMENTS                                  0.126651          0.112138  0.106136  \n",
       "MINIMUM_PAYMENTS                          1.000000         -0.140379  0.059444  \n",
       "PRC_FULL_PAYMENT                         -0.140379          1.000000 -0.016486  \n",
       "TENURE                                    0.059444         -0.016486  1.000000  "
      ]
     },
     "execution_count": 12,
     "metadata": {},
     "output_type": "execute_result"
    }
   ],
   "source": [
    "# computing pairwise correlation of columns\n",
    "corrm = credit.corr(method='pearson')\n",
    "\n",
    "# exporting correaltion file\n",
    "corrm.to_csv('corrm.csv', index=False)\n",
    "corrm"
   ]
  },
  {
   "cell_type": "code",
   "execution_count": 15,
   "metadata": {},
   "outputs": [
    {
     "data": {
      "text/plain": [
       "<matplotlib.axes._subplots.AxesSubplot at 0x1a19fdf510>"
      ]
     },
     "execution_count": 15,
     "metadata": {},
     "output_type": "execute_result"
    },
    {
     "data": {
      "image/png": "[encoded data removed]",
      "text/plain": [
       "<Figure size 720x540 with 2 Axes>"
      ]
     },
     "metadata": {
      "needs_background": "light"
     },
     "output_type": "display_data"
    }
   ],
   "source": [
    "# graphical representation of correlation matrix using heatmap\n",
    "sns.heatmap(corrm)"
   ]
  },
  {
   "cell_type": "markdown",
   "metadata": {},
   "source": [
    "Since all of the variables are numerics, it is easier to see their correlation by using correlation matrix.<br>\n",
    ">- Most of the variables are having **positive correlation** rather than negative one.<br><br>\n",
    "- Some of them even **strongly correlated**, just like **PURCHASES and ONEOFF_PURCHASES** (0.91), indicating most customers spend their purchase in one-go, the same thing goes to **PURCHASES_FREQUENCY and PURCHASES_INSTALLMENTS_FREQUENCY** (0.86). It indicates that there some strong multicollinearity between them. But since we are not going regression model, it won’t be a problem.<br><br>\n",
    "- The **PURCHASES and PURCHASES_TRX** (0.68) has **strong correlation**, indicating that the amount of purchase comes along with the transaction numbers.<br><br>\n",
    "- Some interesting finding can be also found between **CASH_ADVANCE and the BALANCE** (0.49). It seems that customer who has **bigger balance** will tend to have payment with cash in advance.<br><br>\n",
    "- Customer with bigger **BALANCE** tends to has a **bigger CREDIT_LIMIT**, since their correlation is positive (0.53).<br><br>\n",
    "- **TENURE** seems has **weak correlation** with other variables, it seems TENURE did not affected by the customer’s behavior. We will check it again upon the PCA analysis."
   ]
  },
  {
   "cell_type": "markdown",
   "metadata": {},
   "source": [
    "<h3> DATA DISTRIBUTION"
   ]
  },
  {
   "cell_type": "markdown",
   "metadata": {},
   "source": [
    "- Let us see whether there is some interesting finding on the data distribution, especially on Balance, Purchase, Credit Limit, and Tenure."
   ]
  },
  {
   "cell_type": "code",
   "execution_count": 16,
   "metadata": {},
   "outputs": [
    {
     "data": {
      "image/png": "[encoded data removed]",
      "text/plain": [
       "<Figure size 720x540 with 1 Axes>"
      ]
     },
     "metadata": {
      "needs_background": "light"
     },
     "output_type": "display_data"
    }
   ],
   "source": [
    "# Customer Balance\n",
    "plt.hist(credit.BALANCE, bins=50)\n",
    "plt.xlabel('Balance')\n",
    "plt.ylabel('Frequency')\n",
    "plt.show()"
   ]
  },
  {
   "cell_type": "markdown",
   "metadata": {},
   "source": [
    "> It seems most of the customers who use their Credit Card would **maximize the usage** of their credit balance, **until it reach 0**."
   ]
  },
  {
   "cell_type": "code",
   "execution_count": 17,
   "metadata": {},
   "outputs": [
    {
     "data": {
      "image/png": "[encoded data removed]",
      "text/plain": [
       "<Figure size 720x540 with 1 Axes>"
      ]
     },
     "metadata": {
      "needs_background": "light"
     },
     "output_type": "display_data"
    }
   ],
   "source": [
    "# Customer Purchase\n",
    "plt.hist(credit.PURCHASES, bins=50)\n",
    "plt.xlabel('Purchases')\n",
    "plt.ylabel('Frequency')\n",
    "plt.show()"
   ]
  },
  {
   "cell_type": "markdown",
   "metadata": {},
   "source": [
    ">Suprisingly, most of the **customers don’t use their Credit Card to purchase** something. Only around 38% who ever use their Credit Card to purchase something (Purchase value > 0)."
   ]
  },
  {
   "cell_type": "code",
   "execution_count": 18,
   "metadata": {},
   "outputs": [
    {
     "data": {
      "image/png": "[encoded data removed]",
      "text/plain": [
       "<Figure size 720x540 with 1 Axes>"
      ]
     },
     "metadata": {
      "needs_background": "light"
     },
     "output_type": "display_data"
    }
   ],
   "source": [
    "# Credit Limit\n",
    "plt.hist(credit.CREDIT_LIMIT, bins=50)\n",
    "plt.xlabel('Credit Limit')\n",
    "plt.ylabel('Frequency')\n",
    "plt.show()"
   ]
  },
  {
   "cell_type": "markdown",
   "metadata": {},
   "source": [
    ">Most of the customers have Credit Limit on 1032 (there are 144 customers who has 0 credit limit, we will assume that their credit application has not approved yet). The frequency goes lower along with the increment of Credit Limit, even there are some small peaks again at 6196 - 7229."
   ]
  },
  {
   "cell_type": "code",
   "execution_count": 19,
   "metadata": {},
   "outputs": [
    {
     "data": {
      "image/png": "[encoded data removed]",
      "text/plain": [
       "<Figure size 720x540 with 1 Axes>"
      ]
     },
     "metadata": {
      "needs_background": "light"
     },
     "output_type": "display_data"
    }
   ],
   "source": [
    "# Tenure\n",
    "plt.hist(credit.TENURE, bins=12)\n",
    "plt.xlabel('Tenure')\n",
    "plt.ylabel('Frequency')\n",
    "plt.show()"
   ]
  },
  {
   "cell_type": "markdown",
   "metadata": {},
   "source": [
    "> Most of the customers have **12 months Tenure**, with significant numbers compared to other tenure."
   ]
  },
  {
   "cell_type": "markdown",
   "metadata": {},
   "source": [
    "___"
   ]
  },
  {
   "cell_type": "markdown",
   "metadata": {},
   "source": [
    "## DATA PREPARATION"
   ]
  },
  {
   "cell_type": "markdown",
   "metadata": {},
   "source": [
    "<h4> TREATING OUTLIERS"
   ]
  },
  {
   "cell_type": "code",
   "execution_count": 20,
   "metadata": {},
   "outputs": [],
   "source": [
    "# clipping outliers with p5 and p95\n",
    "credit = credit.apply(lambda x: x.clip(lower=x.dropna().quantile(.05), upper=x.quantile(.95)))"
   ]
  },
  {
   "cell_type": "markdown",
   "metadata": {},
   "source": [
    "<H4> TREATING MISSING VALUES"
   ]
  },
  {
   "cell_type": "code",
   "execution_count": 21,
   "metadata": {},
   "outputs": [],
   "source": [
    "# creating a UDF to treat missing values\n",
    "def missing_imputation(x, stats = 'mean'):\n",
    "    if (x.dtype == 'float64') | (x.dtype == 'int64'):\n",
    "        x = x.fillna(x.mean()) if stats == 'mean' else x.fillna(x.median)\n",
    "    else:\n",
    "        x = x.fillna(x.mode())\n",
    "    return x"
   ]
  },
  {
   "cell_type": "code",
   "execution_count": 22,
   "metadata": {},
   "outputs": [],
   "source": [
    "# imputing missing values\n",
    "credit = credit.apply(missing_imputation)"
   ]
  },
  {
   "cell_type": "markdown",
   "metadata": {},
   "source": [
    "## DERIVING NEW KEY PERFORMANCE INDICATORS ( KPIs )"
   ]
  },
  {
   "cell_type": "markdown",
   "metadata": {},
   "source": [
    "<h4>  MONTHLY AVERAGE PURCHASE"
   ]
  },
  {
   "cell_type": "markdown",
   "metadata": {},
   "source": [
    "- To find the monthly average amount of purchases made from account"
   ]
  },
  {
   "cell_type": "code",
   "execution_count": 23,
   "metadata": {},
   "outputs": [],
   "source": [
    "# calculating Monthly average purchase\n",
    "credit['Monthly_avg_purchase'] = credit['PURCHASES'] / credit['TENURE']"
   ]
  },
  {
   "cell_type": "markdown",
   "metadata": {},
   "source": [
    "<H4> MONTHLY CASH ADVANCE AMOUNT"
   ]
  },
  {
   "cell_type": "markdown",
   "metadata": {},
   "source": [
    "- To find the monthly Cash in advance given by the user"
   ]
  },
  {
   "cell_type": "code",
   "execution_count": 24,
   "metadata": {},
   "outputs": [],
   "source": [
    "# calculating monthly cash advance amount\n",
    "credit['Monthly_cash_advance'] = credit['CASH_ADVANCE'] / credit['TENURE']"
   ]
  },
  {
   "cell_type": "markdown",
   "metadata": {},
   "source": [
    "<H4> PURCHASES BY TYPE"
   ]
  },
  {
   "cell_type": "markdown",
   "metadata": {},
   "source": [
    "- To find what type of purchases customers are making on credit card"
   ]
  },
  {
   "cell_type": "code",
   "execution_count": 25,
   "metadata": {},
   "outputs": [],
   "source": [
    "# creating a UDF to create a new KPI 'Purchase_by_type'\n",
    "def purchase_type(credit):\n",
    "    if (credit['ONEOFF_PURCHASES'] == 0) & (credit['INSTALLMENTS_PURCHASES'] == 0):\n",
    "        return 'None'\n",
    "    if (credit['ONEOFF_PURCHASES'] > 0) & (credit['INSTALLMENTS_PURCHASES'] > 0):\n",
    "         return 'Both'\n",
    "    if (credit['ONEOFF_PURCHASES'] > 0) & (credit['INSTALLMENTS_PURCHASES'] == 0):\n",
    "        return 'One_off'\n",
    "    if (credit['ONEOFF_PURCHASES'] == 0) & (credit['INSTALLMENTS_PURCHASES'] > 0):\n",
    "        return 'Installment_purchases'\n",
    "\n",
    "credit['Purchase_type'] = credit.apply(purchase_type, axis=1)"
   ]
  },
  {
   "cell_type": "markdown",
   "metadata": {},
   "source": [
    "<H4> LIMIT USAGE (BALANCE TO CREDIT LIMIT RATIO)"
   ]
  },
  {
   "cell_type": "markdown",
   "metadata": {},
   "source": [
    "- To find the credit score of customers.\n",
    "- Lower value implies cutomers are maintaing thier balance properly."
   ]
  },
  {
   "cell_type": "code",
   "execution_count": 26,
   "metadata": {},
   "outputs": [],
   "source": [
    "# limit usage\n",
    "credit['Limit_usage'] = credit.apply(lambda x: x['BALANCE'] / x['CREDIT_LIMIT'], axis=1)"
   ]
  },
  {
   "cell_type": "markdown",
   "metadata": {},
   "source": [
    "<H4> PAYMENTS TO MINIMUM PAYMENT RATIO"
   ]
  },
  {
   "cell_type": "markdown",
   "metadata": {},
   "source": [
    "- To find the Amount of Payment done by user with respect to mininmum payment needs to be done by the user."
   ]
  },
  {
   "cell_type": "code",
   "execution_count": 27,
   "metadata": {},
   "outputs": [],
   "source": [
    "# payment to minimum payment ratio\n",
    "credit['Payment_minpay'] = credit.apply(lambda x: x['PAYMENTS'] / x['MINIMUM_PAYMENTS'], axis=1)"
   ]
  },
  {
   "cell_type": "markdown",
   "metadata": {},
   "source": [
    "<h2> INSIGHTS - ADVANCED REPORTING"
   ]
  },
  {
   "cell_type": "markdown",
   "metadata": {},
   "source": [
    "<h3> KPI ONE"
   ]
  },
  {
   "cell_type": "code",
   "execution_count": 28,
   "metadata": {},
   "outputs": [
    {
     "data": {
      "image/png": "[encoded data removed]",
      "text/plain": [
       "<Figure size 720x540 with 1 Axes>"
      ]
     },
     "metadata": {
      "needs_background": "light"
     },
     "output_type": "display_data"
    }
   ],
   "source": [
    "# graphical representation of Mean payment to minimum payment ratio for each purchse type\n",
    "credit.groupby('Purchase_type')['Payment_minpay'].mean().plot.barh()\n",
    "plt.title('Mean payment_minpayment ratio for each purchse type')\n",
    "plt.xlabel('Payment to Minimum Payment ratio')\n",
    "plt.ylabel('Type of purchase')\n",
    "plt.show()"
   ]
  },
  {
   "cell_type": "markdown",
   "metadata": {},
   "source": [
    "> It seems that customers who are doing **both the purchases** i.e. oneoff purchase and installments purchase are **paying dues on time** as compared to those who are doing the transactions separately."
   ]
  },
  {
   "cell_type": "markdown",
   "metadata": {},
   "source": [
    "<h3> KPI TWO"
   ]
  },
  {
   "cell_type": "code",
   "execution_count": 29,
   "metadata": {},
   "outputs": [
    {
     "data": {
      "image/png": "[encoded data removed]",
      "text/plain": [
       "<Figure size 720x540 with 1 Axes>"
      ]
     },
     "metadata": {
      "needs_background": "light"
     },
     "output_type": "display_data"
    }
   ],
   "source": [
    "# graphical representation of average cash advance taken by customers of different Purchase type\n",
    "credit.groupby('Purchase_type')['Monthly_cash_advance'].mean().plot.barh()\n",
    "plt.title('Average cash advance taken by customers of different Purchase type')\n",
    "plt.xlabel('monthly Cash in advance given by the user')\n",
    "plt.ylabel('Type of purchase')\n",
    "plt.show()"
   ]
  },
  {
   "cell_type": "markdown",
   "metadata": {},
   "source": [
    "> Customers who do **neither one-off nor installment** purchases take more **cash on advance**."
   ]
  },
  {
   "cell_type": "markdown",
   "metadata": {},
   "source": [
    "<h3> KPI THREE"
   ]
  },
  {
   "cell_type": "code",
   "execution_count": 30,
   "metadata": {},
   "outputs": [
    {
     "data": {
      "image/png": "[encoded data removed]",
      "text/plain": [
       "<Figure size 720x540 with 1 Axes>"
      ]
     },
     "metadata": {
      "needs_background": "light"
     },
     "output_type": "display_data"
    }
   ],
   "source": [
    "# graphical representation of limit used by the customers of different purchase type\n",
    "credit.groupby('Purchase_type')['Limit_usage'].mean().plot.barh()\n",
    "plt.title('Limit used by the customers of different purchase type')\n",
    "plt.xlabel('Limit_usage')\n",
    "plt.ylabel('Type of purchase')\n",
    "plt.show()"
   ]
  },
  {
   "cell_type": "markdown",
   "metadata": {},
   "source": [
    "> - Lower value implies customers are maintaing thier balance properly. Lower value means good credit score.\n",
    "> - Hence, Customers with **Installment purchases** have **good credit score**."
   ]
  },
  {
   "cell_type": "markdown",
   "metadata": {},
   "source": [
    "### CREATING DUMMY VARIBALES"
   ]
  },
  {
   "cell_type": "code",
   "execution_count": 31,
   "metadata": {},
   "outputs": [],
   "source": [
    "# creating dummy variables of 'Purchase_by_type' variable for model building\n",
    "col_dummies = pd.get_dummies(credit['Purchase_type'])\n",
    "credit = pd.concat([credit, col_dummies], axis = 1)\n",
    "credit.drop('Purchase_type', axis = 1, inplace = True)"
   ]
  },
  {
   "cell_type": "markdown",
   "metadata": {},
   "source": [
    "___"
   ]
  },
  {
   "cell_type": "markdown",
   "metadata": {},
   "source": [
    "<H2> ONE FINAL CONSOLIDATED TABLE"
   ]
  },
  {
   "cell_type": "code",
   "execution_count": 32,
   "metadata": {},
   "outputs": [
    {
     "data": {
      "text/html": [
       "<div>\n",
       "<style scoped>\n",
       "    .dataframe tbody tr th:only-of-type {\n",
       "        vertical-align: middle;\n",
       "    }\n",
       "\n",
       "    .dataframe tbody tr th {\n",
       "        vertical-align: top;\n",
       "    }\n",
       "\n",
       "    .dataframe thead th {\n",
       "        text-align: right;\n",
       "    }\n",
       "</style>\n",
       "<table border=\"1\" class=\"dataframe\">\n",
       "  <thead>\n",
       "    <tr style=\"text-align: right;\">\n",
       "      <th></th>\n",
       "      <th>BALANCE</th>\n",
       "      <th>BALANCE_FREQUENCY</th>\n",
       "      <th>PURCHASES</th>\n",
       "      <th>ONEOFF_PURCHASES</th>\n",
       "      <th>INSTALLMENTS_PURCHASES</th>\n",
       "      <th>CASH_ADVANCE</th>\n",
       "      <th>PURCHASES_FREQUENCY</th>\n",
       "      <th>ONEOFF_PURCHASES_FREQUENCY</th>\n",
       "      <th>PURCHASES_INSTALLMENTS_FREQUENCY</th>\n",
       "      <th>CASH_ADVANCE_FREQUENCY</th>\n",
       "      <th>...</th>\n",
       "      <th>PRC_FULL_PAYMENT</th>\n",
       "      <th>TENURE</th>\n",
       "      <th>Monthly_avg_purchase</th>\n",
       "      <th>Monthly_cash_advance</th>\n",
       "      <th>Limit_usage</th>\n",
       "      <th>Payment_minpay</th>\n",
       "      <th>Both</th>\n",
       "      <th>Installment_purchases</th>\n",
       "      <th>None</th>\n",
       "      <th>One_off</th>\n",
       "    </tr>\n",
       "  </thead>\n",
       "  <tbody>\n",
       "    <tr>\n",
       "      <td>0</td>\n",
       "      <td>40.900749</td>\n",
       "      <td>0.818182</td>\n",
       "      <td>95.40</td>\n",
       "      <td>0.00</td>\n",
       "      <td>95.4</td>\n",
       "      <td>0.000000</td>\n",
       "      <td>0.166667</td>\n",
       "      <td>0.000000</td>\n",
       "      <td>0.083333</td>\n",
       "      <td>0.000000</td>\n",
       "      <td>...</td>\n",
       "      <td>0.000000</td>\n",
       "      <td>12</td>\n",
       "      <td>7.950000</td>\n",
       "      <td>0.000000</td>\n",
       "      <td>0.040901</td>\n",
       "      <td>1.446508</td>\n",
       "      <td>0</td>\n",
       "      <td>1</td>\n",
       "      <td>0</td>\n",
       "      <td>0</td>\n",
       "    </tr>\n",
       "    <tr>\n",
       "      <td>1</td>\n",
       "      <td>3202.467416</td>\n",
       "      <td>0.909091</td>\n",
       "      <td>0.00</td>\n",
       "      <td>0.00</td>\n",
       "      <td>0.0</td>\n",
       "      <td>4647.169122</td>\n",
       "      <td>0.000000</td>\n",
       "      <td>0.000000</td>\n",
       "      <td>0.000000</td>\n",
       "      <td>0.250000</td>\n",
       "      <td>...</td>\n",
       "      <td>0.222222</td>\n",
       "      <td>12</td>\n",
       "      <td>0.000000</td>\n",
       "      <td>387.264093</td>\n",
       "      <td>0.457495</td>\n",
       "      <td>3.826241</td>\n",
       "      <td>0</td>\n",
       "      <td>0</td>\n",
       "      <td>1</td>\n",
       "      <td>0</td>\n",
       "    </tr>\n",
       "    <tr>\n",
       "      <td>2</td>\n",
       "      <td>2495.148862</td>\n",
       "      <td>1.000000</td>\n",
       "      <td>773.17</td>\n",
       "      <td>773.17</td>\n",
       "      <td>0.0</td>\n",
       "      <td>0.000000</td>\n",
       "      <td>1.000000</td>\n",
       "      <td>1.000000</td>\n",
       "      <td>0.000000</td>\n",
       "      <td>0.000000</td>\n",
       "      <td>...</td>\n",
       "      <td>0.000000</td>\n",
       "      <td>12</td>\n",
       "      <td>64.430833</td>\n",
       "      <td>0.000000</td>\n",
       "      <td>0.332687</td>\n",
       "      <td>0.991682</td>\n",
       "      <td>0</td>\n",
       "      <td>0</td>\n",
       "      <td>0</td>\n",
       "      <td>1</td>\n",
       "    </tr>\n",
       "    <tr>\n",
       "      <td>3</td>\n",
       "      <td>1666.670542</td>\n",
       "      <td>0.636364</td>\n",
       "      <td>1499.00</td>\n",
       "      <td>1499.00</td>\n",
       "      <td>0.0</td>\n",
       "      <td>205.788017</td>\n",
       "      <td>0.083333</td>\n",
       "      <td>0.083333</td>\n",
       "      <td>0.000000</td>\n",
       "      <td>0.083333</td>\n",
       "      <td>...</td>\n",
       "      <td>0.000000</td>\n",
       "      <td>12</td>\n",
       "      <td>124.916667</td>\n",
       "      <td>17.149001</td>\n",
       "      <td>0.222223</td>\n",
       "      <td>0.139867</td>\n",
       "      <td>0</td>\n",
       "      <td>0</td>\n",
       "      <td>0</td>\n",
       "      <td>1</td>\n",
       "    </tr>\n",
       "    <tr>\n",
       "      <td>4</td>\n",
       "      <td>817.714335</td>\n",
       "      <td>1.000000</td>\n",
       "      <td>16.00</td>\n",
       "      <td>16.00</td>\n",
       "      <td>0.0</td>\n",
       "      <td>0.000000</td>\n",
       "      <td>0.083333</td>\n",
       "      <td>0.083333</td>\n",
       "      <td>0.000000</td>\n",
       "      <td>0.000000</td>\n",
       "      <td>...</td>\n",
       "      <td>0.000000</td>\n",
       "      <td>12</td>\n",
       "      <td>1.333333</td>\n",
       "      <td>0.000000</td>\n",
       "      <td>0.681429</td>\n",
       "      <td>2.771075</td>\n",
       "      <td>0</td>\n",
       "      <td>0</td>\n",
       "      <td>0</td>\n",
       "      <td>1</td>\n",
       "    </tr>\n",
       "  </tbody>\n",
       "</table>\n",
       "<p>5 rows × 25 columns</p>\n",
       "</div>"
      ],
      "text/plain": [
       "       BALANCE  BALANCE_FREQUENCY  PURCHASES  ONEOFF_PURCHASES  \\\n",
       "0    40.900749           0.818182      95.40              0.00   \n",
       "1  3202.467416           0.909091       0.00              0.00   \n",
       "2  2495.148862           1.000000     773.17            773.17   \n",
       "3  1666.670542           0.636364    1499.00           1499.00   \n",
       "4   817.714335           1.000000      16.00             16.00   \n",
       "\n",
       "   INSTALLMENTS_PURCHASES  CASH_ADVANCE  PURCHASES_FREQUENCY  \\\n",
       "0                    95.4      0.000000             0.166667   \n",
       "1                     0.0   4647.169122             0.000000   \n",
       "2                     0.0      0.000000             1.000000   \n",
       "3                     0.0    205.788017             0.083333   \n",
       "4                     0.0      0.000000             0.083333   \n",
       "\n",
       "   ONEOFF_PURCHASES_FREQUENCY  PURCHASES_INSTALLMENTS_FREQUENCY  \\\n",
       "0                    0.000000                          0.083333   \n",
       "1                    0.000000                          0.000000   \n",
       "2                    1.000000                          0.000000   \n",
       "3                    0.083333                          0.000000   \n",
       "4                    0.083333                          0.000000   \n",
       "\n",
       "   CASH_ADVANCE_FREQUENCY  ...  PRC_FULL_PAYMENT  TENURE  \\\n",
       "0                0.000000  ...          0.000000      12   \n",
       "1                0.250000  ...          0.222222      12   \n",
       "2                0.000000  ...          0.000000      12   \n",
       "3                0.083333  ...          0.000000      12   \n",
       "4                0.000000  ...          0.000000      12   \n",
       "\n",
       "   Monthly_avg_purchase  Monthly_cash_advance  Limit_usage  Payment_minpay  \\\n",
       "0              7.950000              0.000000     0.040901        1.446508   \n",
       "1              0.000000            387.264093     0.457495        3.826241   \n",
       "2             64.430833              0.000000     0.332687        0.991682   \n",
       "3            124.916667             17.149001     0.222223        0.139867   \n",
       "4              1.333333              0.000000     0.681429        2.771075   \n",
       "\n",
       "   Both  Installment_purchases  None  One_off  \n",
       "0     0                      1     0        0  \n",
       "1     0                      0     1        0  \n",
       "2     0                      0     0        1  \n",
       "3     0                      0     0        1  \n",
       "4     0                      0     0        1  \n",
       "\n",
       "[5 rows x 25 columns]"
      ]
     },
     "execution_count": 32,
     "metadata": {},
     "output_type": "execute_result"
    }
   ],
   "source": [
    "# first five rows of the final dataset\n",
    "credit.head()"
   ]
  },
  {
   "cell_type": "code",
   "execution_count": 33,
   "metadata": {},
   "outputs": [
    {
     "data": {
      "text/plain": [
       "(8950, 25)"
      ]
     },
     "execution_count": 33,
     "metadata": {},
     "output_type": "execute_result"
    }
   ],
   "source": [
    "# shape of the final dataset\n",
    "credit.shape"
   ]
  },
  {
   "cell_type": "code",
   "execution_count": 34,
   "metadata": {},
   "outputs": [
    {
     "name": "stdout",
     "output_type": "stream",
     "text": [
      "<class 'pandas.core.frame.DataFrame'>\n",
      "RangeIndex: 8950 entries, 0 to 8949\n",
      "Data columns (total 25 columns):\n",
      "BALANCE                             float64\n",
      "BALANCE_FREQUENCY                   float64\n",
      "PURCHASES                           float64\n",
      "ONEOFF_PURCHASES                    float64\n",
      "INSTALLMENTS_PURCHASES              float64\n",
      "CASH_ADVANCE                        float64\n",
      "PURCHASES_FREQUENCY                 float64\n",
      "ONEOFF_PURCHASES_FREQUENCY          float64\n",
      "PURCHASES_INSTALLMENTS_FREQUENCY    float64\n",
      "CASH_ADVANCE_FREQUENCY              float64\n",
      "CASH_ADVANCE_TRX                    int64\n",
      "PURCHASES_TRX                       int64\n",
      "CREDIT_LIMIT                        float64\n",
      "PAYMENTS                            float64\n",
      "MINIMUM_PAYMENTS                    float64\n",
      "PRC_FULL_PAYMENT                    float64\n",
      "TENURE                              int64\n",
      "Monthly_avg_purchase                float64\n",
      "Monthly_cash_advance                float64\n",
      "Limit_usage                         float64\n",
      "Payment_minpay                      float64\n",
      "Both                                uint8\n",
      "Installment_purchases               uint8\n",
      "None                                uint8\n",
      "One_off                             uint8\n",
      "dtypes: float64(18), int64(3), uint8(4)\n",
      "memory usage: 1.5 MB\n"
     ]
    }
   ],
   "source": [
    "# a concise summary of the final dataset\n",
    "credit.info(null_counts=False)"
   ]
  },
  {
   "cell_type": "code",
   "execution_count": 35,
   "metadata": {},
   "outputs": [
    {
     "data": {
      "text/plain": [
       "0"
      ]
     },
     "execution_count": 35,
     "metadata": {},
     "output_type": "execute_result"
    }
   ],
   "source": [
    "# number of missing values in the final dataset\n",
    "credit.isna().sum().sum()"
   ]
  },
  {
   "cell_type": "markdown",
   "metadata": {},
   "source": [
    "___"
   ]
  },
  {
   "cell_type": "markdown",
   "metadata": {},
   "source": [
    "Before determine the cluster of Customers, we need to conduct PCA to reduce the dimensionality but maintain information as much as possible. Therefore, we need to determine which PCs that we are going to select based on the proportion of variance. But first, we will need to scale the credit dataset."
   ]
  },
  {
   "cell_type": "markdown",
   "metadata": {},
   "source": [
    "### STANDARIZING THE DATA"
   ]
  },
  {
   "cell_type": "markdown",
   "metadata": {},
   "source": [
    ">- Standardization is performed to prevent features with wider ranges from dominating the distance metric. <br><br>\n",
    "- Standardizing the features around the center and 0 with a standard deviation of 1 is important when we compare measurements that have different units. Variables that are measured at different scales do not contribute equally to the analysis and might end up creating a bais. <br><br>\n",
    "- For example, A variable that ranges between 0 and 1000 will outweigh a variable that ranges between 0 and 1. Using these variables without standardization will give the variable with the larger range weight of 1000 in the analysis. Transforming the data to comparable scales can prevent this problem. Typical data standardization procedures equalize the range and/or data variability."
   ]
  },
  {
   "cell_type": "code",
   "execution_count": 36,
   "metadata": {},
   "outputs": [],
   "source": [
    "# importing required library for standardization\n",
    "from sklearn.preprocessing import StandardScaler\n",
    "\n",
    "# standard scaling\n",
    "sc = StandardScaler()\n",
    "credit_scaled = sc.fit_transform(credit)"
   ]
  },
  {
   "cell_type": "markdown",
   "metadata": {},
   "source": [
    "### APPLYING PCA - PRINCIPAL COMPONENT ANALYSIS"
   ]
  },
  {
   "cell_type": "markdown",
   "metadata": {},
   "source": [
    "> - In order to handle “curse of dimensionality” and avoid issues like over-fitting in high dimensional space, methods like Principal Component analysis is used.<br><br>\n",
    "- PCA is a method used to reduce number of variables in the data by extracting important one from a large pool. It reduces the dimension of the data with the aim of retaining as much information as possible. In other words, this method combines highly correlated variables together to form a smaller number of an artificial set of variables which is called “principal components” that account for most variance in the data."
   ]
  },
  {
   "cell_type": "code",
   "execution_count": 37,
   "metadata": {},
   "outputs": [],
   "source": [
    "# importing required library to perform Principal component analysis\n",
    "from sklearn.decomposition import PCA\n",
    "\n",
    "var_ratio = {}\n",
    "\n",
    "# applying PCA\n",
    "for n in range(1, 25):\n",
    "    pc = PCA(n_components=n)\n",
    "    credit_pca = pc.fit(credit_scaled)\n",
    "    var_ratio[n] = sum(credit_pca.explained_variance_ratio_)"
   ]
  },
  {
   "cell_type": "code",
   "execution_count": 38,
   "metadata": {},
   "outputs": [
    {
     "data": {
      "text/plain": [
       "{1: 0.28582116626708787,\n",
       " 2: 0.4902682567108865,\n",
       " 3: 0.5879169721392071,\n",
       " 4: 0.6682554341106353,\n",
       " 5: 0.7194610878747649,\n",
       " 6: 0.7673876856909397,\n",
       " 7: 0.8041824237605532,\n",
       " 8: 0.8401367154041129,\n",
       " 9: 0.8697143429932384,\n",
       " 10: 0.8911956202116906,\n",
       " 11: 0.9124200214202054,\n",
       " 12: 0.9302365184075443,\n",
       " 13: 0.9450716516899168,\n",
       " 14: 0.9584137056862152,\n",
       " 15: 0.9684882961141352,\n",
       " 16: 0.9764767579317009,\n",
       " 17: 0.9837697256387621,\n",
       " 18: 0.9892865087844769,\n",
       " 19: 0.9937852281032767,\n",
       " 20: 0.9968223142724596,\n",
       " 21: 0.9985009509548277,\n",
       " 22: 0.9995219770777451,\n",
       " 23: 0.9998640376463543,\n",
       " 24: 1.0}"
      ]
     },
     "execution_count": 38,
     "metadata": {},
     "output_type": "execute_result"
    }
   ],
   "source": [
    "# percentage of variance explained by each of the selected components.\n",
    "var_ratio"
   ]
  },
  {
   "cell_type": "code",
   "execution_count": 39,
   "metadata": {},
   "outputs": [
    {
     "data": {
      "text/plain": [
       "<matplotlib.axes._subplots.AxesSubplot at 0x1a1a3c22d0>"
      ]
     },
     "execution_count": 39,
     "metadata": {},
     "output_type": "execute_result"
    },
    {
     "data": {
      "image/png": "[encoded data removed]",
      "text/plain": [
       "<Figure size 720x540 with 2 Axes>"
      ]
     },
     "metadata": {
      "needs_background": "light"
     },
     "output_type": "display_data"
    }
   ],
   "source": [
    "# plotting heatmap of Principal axes in feature space, representing the directions of maximum variance in the data.\n",
    "sns.heatmap(pd.DataFrame(pc.components_, columns = credit.columns).T)"
   ]
  },
  {
   "cell_type": "code",
   "execution_count": 40,
   "metadata": {},
   "outputs": [
    {
     "data": {
      "text/plain": [
       "<matplotlib.axes._subplots.AxesSubplot at 0x1a1ad45a10>"
      ]
     },
     "execution_count": 40,
     "metadata": {},
     "output_type": "execute_result"
    },
    {
     "data": {
      "image/png": "[encoded data removed]",
      "text/plain": [
       "<Figure size 720x540 with 1 Axes>"
      ]
     },
     "metadata": {
      "needs_background": "light"
     },
     "output_type": "display_data"
    }
   ],
   "source": [
    "# graphical representation of percentage of variance explained by each of the selected components.\n",
    "pd.Series(var_ratio).plot(kind='line', grid=True)"
   ]
  },
  {
   "cell_type": "markdown",
   "metadata": {},
   "source": [
    "> As we can see from the above line graph of percentage of variance explained by each of the selected components. we can conclude that **10 components** explains **89%** of the overall customer information.."
   ]
  },
  {
   "cell_type": "code",
   "execution_count": 41,
   "metadata": {},
   "outputs": [],
   "source": [
    "# Hence, applying n_components as 10\n",
    "pc = PCA(n_components = 10)\n",
    "credit_pca = pc.fit(credit_scaled)"
   ]
  },
  {
   "cell_type": "code",
   "execution_count": 42,
   "metadata": {},
   "outputs": [
    {
     "data": {
      "text/html": [
       "<div>\n",
       "<style scoped>\n",
       "    .dataframe tbody tr th:only-of-type {\n",
       "        vertical-align: middle;\n",
       "    }\n",
       "\n",
       "    .dataframe tbody tr th {\n",
       "        vertical-align: top;\n",
       "    }\n",
       "\n",
       "    .dataframe thead th {\n",
       "        text-align: right;\n",
       "    }\n",
       "</style>\n",
       "<table border=\"1\" class=\"dataframe\">\n",
       "  <thead>\n",
       "    <tr style=\"text-align: right;\">\n",
       "      <th></th>\n",
       "      <th>PC_0</th>\n",
       "      <th>PC_1</th>\n",
       "      <th>PC_2</th>\n",
       "      <th>PC_3</th>\n",
       "      <th>PC_4</th>\n",
       "      <th>PC_5</th>\n",
       "      <th>PC_6</th>\n",
       "      <th>PC_7</th>\n",
       "      <th>PC_8</th>\n",
       "      <th>PC_9</th>\n",
       "    </tr>\n",
       "  </thead>\n",
       "  <tbody>\n",
       "    <tr>\n",
       "      <td>BALANCE</td>\n",
       "      <td>-0.047401</td>\n",
       "      <td>0.364367</td>\n",
       "      <td>-0.137648</td>\n",
       "      <td>-0.146822</td>\n",
       "      <td>0.195124</td>\n",
       "      <td>-0.127710</td>\n",
       "      <td>-0.121188</td>\n",
       "      <td>0.131705</td>\n",
       "      <td>-0.151061</td>\n",
       "      <td>0.098493</td>\n",
       "    </tr>\n",
       "    <tr>\n",
       "      <td>BALANCE_FREQUENCY</td>\n",
       "      <td>0.053882</td>\n",
       "      <td>0.182520</td>\n",
       "      <td>-0.215134</td>\n",
       "      <td>-0.239843</td>\n",
       "      <td>-0.167596</td>\n",
       "      <td>0.030516</td>\n",
       "      <td>0.361055</td>\n",
       "      <td>-0.325977</td>\n",
       "      <td>-0.500454</td>\n",
       "      <td>-0.090788</td>\n",
       "    </tr>\n",
       "    <tr>\n",
       "      <td>PURCHASES</td>\n",
       "      <td>0.328937</td>\n",
       "      <td>0.141695</td>\n",
       "      <td>0.082936</td>\n",
       "      <td>-0.028400</td>\n",
       "      <td>-0.015669</td>\n",
       "      <td>-0.009472</td>\n",
       "      <td>0.081186</td>\n",
       "      <td>0.201252</td>\n",
       "      <td>0.038460</td>\n",
       "      <td>-0.240384</td>\n",
       "    </tr>\n",
       "    <tr>\n",
       "      <td>ONEOFF_PURCHASES</td>\n",
       "      <td>0.267718</td>\n",
       "      <td>0.151998</td>\n",
       "      <td>0.259076</td>\n",
       "      <td>-0.143272</td>\n",
       "      <td>-0.018181</td>\n",
       "      <td>0.060773</td>\n",
       "      <td>0.042071</td>\n",
       "      <td>0.126368</td>\n",
       "      <td>-0.014806</td>\n",
       "      <td>-0.256598</td>\n",
       "    </tr>\n",
       "    <tr>\n",
       "      <td>INSTALLMENTS_PURCHASES</td>\n",
       "      <td>0.278818</td>\n",
       "      <td>0.061231</td>\n",
       "      <td>-0.225803</td>\n",
       "      <td>0.145063</td>\n",
       "      <td>-0.035860</td>\n",
       "      <td>-0.079109</td>\n",
       "      <td>0.047414</td>\n",
       "      <td>0.164322</td>\n",
       "      <td>0.112873</td>\n",
       "      <td>-0.082420</td>\n",
       "    </tr>\n",
       "    <tr>\n",
       "      <td>CASH_ADVANCE</td>\n",
       "      <td>-0.148502</td>\n",
       "      <td>0.333146</td>\n",
       "      <td>0.006418</td>\n",
       "      <td>0.264192</td>\n",
       "      <td>0.086448</td>\n",
       "      <td>0.120122</td>\n",
       "      <td>-0.044327</td>\n",
       "      <td>-0.096185</td>\n",
       "      <td>0.060444</td>\n",
       "      <td>0.012307</td>\n",
       "    </tr>\n",
       "    <tr>\n",
       "      <td>PURCHASES_FREQUENCY</td>\n",
       "      <td>0.306143</td>\n",
       "      <td>-0.022151</td>\n",
       "      <td>-0.234055</td>\n",
       "      <td>0.035735</td>\n",
       "      <td>0.083739</td>\n",
       "      <td>0.227586</td>\n",
       "      <td>0.011815</td>\n",
       "      <td>-0.177936</td>\n",
       "      <td>-0.027457</td>\n",
       "      <td>0.076568</td>\n",
       "    </tr>\n",
       "    <tr>\n",
       "      <td>ONEOFF_PURCHASES_FREQUENCY</td>\n",
       "      <td>0.249454</td>\n",
       "      <td>0.117873</td>\n",
       "      <td>0.246201</td>\n",
       "      <td>-0.194323</td>\n",
       "      <td>-0.034869</td>\n",
       "      <td>0.184056</td>\n",
       "      <td>-0.035288</td>\n",
       "      <td>-0.175904</td>\n",
       "      <td>-0.123492</td>\n",
       "      <td>-0.006581</td>\n",
       "    </tr>\n",
       "    <tr>\n",
       "      <td>PURCHASES_INSTALLMENTS_FREQUENCY</td>\n",
       "      <td>0.258223</td>\n",
       "      <td>-0.035837</td>\n",
       "      <td>-0.389788</td>\n",
       "      <td>0.156449</td>\n",
       "      <td>-0.005902</td>\n",
       "      <td>0.081141</td>\n",
       "      <td>-0.026258</td>\n",
       "      <td>-0.069119</td>\n",
       "      <td>0.077330</td>\n",
       "      <td>0.044538</td>\n",
       "    </tr>\n",
       "    <tr>\n",
       "      <td>CASH_ADVANCE_FREQUENCY</td>\n",
       "      <td>-0.170773</td>\n",
       "      <td>0.307674</td>\n",
       "      <td>-0.012959</td>\n",
       "      <td>0.156184</td>\n",
       "      <td>-0.108603</td>\n",
       "      <td>0.212362</td>\n",
       "      <td>0.105513</td>\n",
       "      <td>-0.185786</td>\n",
       "      <td>0.106035</td>\n",
       "      <td>-0.181434</td>\n",
       "    </tr>\n",
       "    <tr>\n",
       "      <td>CASH_ADVANCE_TRX</td>\n",
       "      <td>-0.153093</td>\n",
       "      <td>0.314884</td>\n",
       "      <td>-0.020335</td>\n",
       "      <td>0.180106</td>\n",
       "      <td>-0.049851</td>\n",
       "      <td>0.201603</td>\n",
       "      <td>0.092443</td>\n",
       "      <td>-0.235053</td>\n",
       "      <td>0.160911</td>\n",
       "      <td>-0.156224</td>\n",
       "    </tr>\n",
       "    <tr>\n",
       "      <td>PURCHASES_TRX</td>\n",
       "      <td>0.323321</td>\n",
       "      <td>0.106543</td>\n",
       "      <td>-0.085957</td>\n",
       "      <td>-0.016823</td>\n",
       "      <td>-0.062560</td>\n",
       "      <td>0.051990</td>\n",
       "      <td>0.005012</td>\n",
       "      <td>-0.014972</td>\n",
       "      <td>0.056212</td>\n",
       "      <td>-0.111281</td>\n",
       "    </tr>\n",
       "    <tr>\n",
       "      <td>CREDIT_LIMIT</td>\n",
       "      <td>0.098076</td>\n",
       "      <td>0.227350</td>\n",
       "      <td>0.104555</td>\n",
       "      <td>0.098952</td>\n",
       "      <td>0.334036</td>\n",
       "      <td>-0.244227</td>\n",
       "      <td>-0.477411</td>\n",
       "      <td>-0.080940</td>\n",
       "      <td>-0.347745</td>\n",
       "      <td>-0.122540</td>\n",
       "    </tr>\n",
       "    <tr>\n",
       "      <td>PAYMENTS</td>\n",
       "      <td>0.135379</td>\n",
       "      <td>0.261903</td>\n",
       "      <td>0.153120</td>\n",
       "      <td>0.228461</td>\n",
       "      <td>0.097569</td>\n",
       "      <td>-0.244456</td>\n",
       "      <td>0.253608</td>\n",
       "      <td>0.115344</td>\n",
       "      <td>0.110443</td>\n",
       "      <td>0.228733</td>\n",
       "    </tr>\n",
       "    <tr>\n",
       "      <td>MINIMUM_PAYMENTS</td>\n",
       "      <td>-0.033643</td>\n",
       "      <td>0.290147</td>\n",
       "      <td>-0.221142</td>\n",
       "      <td>-0.180896</td>\n",
       "      <td>0.261026</td>\n",
       "      <td>-0.159805</td>\n",
       "      <td>-0.016649</td>\n",
       "      <td>0.260844</td>\n",
       "      <td>-0.006246</td>\n",
       "      <td>0.321976</td>\n",
       "    </tr>\n",
       "    <tr>\n",
       "      <td>PRC_FULL_PAYMENT</td>\n",
       "      <td>0.142465</td>\n",
       "      <td>-0.127850</td>\n",
       "      <td>0.097558</td>\n",
       "      <td>0.334188</td>\n",
       "      <td>0.046636</td>\n",
       "      <td>-0.012198</td>\n",
       "      <td>0.201435</td>\n",
       "      <td>-0.147260</td>\n",
       "      <td>-0.553734</td>\n",
       "      <td>0.309352</td>\n",
       "    </tr>\n",
       "    <tr>\n",
       "      <td>TENURE</td>\n",
       "      <td>0.063811</td>\n",
       "      <td>0.020563</td>\n",
       "      <td>-0.035052</td>\n",
       "      <td>-0.135753</td>\n",
       "      <td>0.133905</td>\n",
       "      <td>-0.631735</td>\n",
       "      <td>0.127932</td>\n",
       "      <td>-0.573053</td>\n",
       "      <td>0.298703</td>\n",
       "      <td>-0.157593</td>\n",
       "    </tr>\n",
       "    <tr>\n",
       "      <td>Monthly_avg_purchase</td>\n",
       "      <td>0.326102</td>\n",
       "      <td>0.140337</td>\n",
       "      <td>0.086129</td>\n",
       "      <td>-0.024615</td>\n",
       "      <td>-0.018610</td>\n",
       "      <td>0.030140</td>\n",
       "      <td>0.077670</td>\n",
       "      <td>0.233680</td>\n",
       "      <td>0.022445</td>\n",
       "      <td>-0.231764</td>\n",
       "    </tr>\n",
       "    <tr>\n",
       "      <td>Monthly_cash_advance</td>\n",
       "      <td>-0.150643</td>\n",
       "      <td>0.324381</td>\n",
       "      <td>0.009495</td>\n",
       "      <td>0.271270</td>\n",
       "      <td>0.067132</td>\n",
       "      <td>0.184972</td>\n",
       "      <td>-0.061333</td>\n",
       "      <td>-0.036664</td>\n",
       "      <td>0.030028</td>\n",
       "      <td>0.022952</td>\n",
       "    </tr>\n",
       "    <tr>\n",
       "      <td>Limit_usage</td>\n",
       "      <td>-0.118823</td>\n",
       "      <td>0.219106</td>\n",
       "      <td>-0.219964</td>\n",
       "      <td>-0.340768</td>\n",
       "      <td>-0.140302</td>\n",
       "      <td>-0.008730</td>\n",
       "      <td>0.355599</td>\n",
       "      <td>0.172446</td>\n",
       "      <td>0.051288</td>\n",
       "      <td>0.241575</td>\n",
       "    </tr>\n",
       "    <tr>\n",
       "      <td>Payment_minpay</td>\n",
       "      <td>0.144251</td>\n",
       "      <td>-0.008024</td>\n",
       "      <td>0.315804</td>\n",
       "      <td>0.350992</td>\n",
       "      <td>-0.082350</td>\n",
       "      <td>-0.179584</td>\n",
       "      <td>0.331316</td>\n",
       "      <td>0.047736</td>\n",
       "      <td>0.127481</td>\n",
       "      <td>0.254722</td>\n",
       "    </tr>\n",
       "    <tr>\n",
       "      <td>Both</td>\n",
       "      <td>0.247765</td>\n",
       "      <td>0.112829</td>\n",
       "      <td>-0.024666</td>\n",
       "      <td>-0.057035</td>\n",
       "      <td>-0.362549</td>\n",
       "      <td>0.036980</td>\n",
       "      <td>-0.377382</td>\n",
       "      <td>-0.201364</td>\n",
       "      <td>0.169971</td>\n",
       "      <td>0.413359</td>\n",
       "    </tr>\n",
       "    <tr>\n",
       "      <td>Installment_purchases</td>\n",
       "      <td>0.009295</td>\n",
       "      <td>-0.196326</td>\n",
       "      <td>-0.378232</td>\n",
       "      <td>0.237715</td>\n",
       "      <td>0.373627</td>\n",
       "      <td>0.028775</td>\n",
       "      <td>0.188711</td>\n",
       "      <td>0.096168</td>\n",
       "      <td>-0.009313</td>\n",
       "      <td>-0.241933</td>\n",
       "    </tr>\n",
       "    <tr>\n",
       "      <td>None</td>\n",
       "      <td>-0.231940</td>\n",
       "      <td>0.096637</td>\n",
       "      <td>0.059066</td>\n",
       "      <td>0.093250</td>\n",
       "      <td>-0.426061</td>\n",
       "      <td>-0.315839</td>\n",
       "      <td>0.010351</td>\n",
       "      <td>0.207157</td>\n",
       "      <td>-0.250026</td>\n",
       "      <td>-0.267152</td>\n",
       "    </tr>\n",
       "    <tr>\n",
       "      <td>One_off</td>\n",
       "      <td>-0.052326</td>\n",
       "      <td>-0.018282</td>\n",
       "      <td>0.370990</td>\n",
       "      <td>-0.285180</td>\n",
       "      <td>0.452572</td>\n",
       "      <td>0.252996</td>\n",
       "      <td>0.216771</td>\n",
       "      <td>-0.087468</td>\n",
       "      <td>0.074623</td>\n",
       "      <td>0.064028</td>\n",
       "    </tr>\n",
       "  </tbody>\n",
       "</table>\n",
       "</div>"
      ],
      "text/plain": [
       "                                      PC_0      PC_1      PC_2      PC_3  \\\n",
       "BALANCE                          -0.047401  0.364367 -0.137648 -0.146822   \n",
       "BALANCE_FREQUENCY                 0.053882  0.182520 -0.215134 -0.239843   \n",
       "PURCHASES                         0.328937  0.141695  0.082936 -0.028400   \n",
       "ONEOFF_PURCHASES                  0.267718  0.151998  0.259076 -0.143272   \n",
       "INSTALLMENTS_PURCHASES            0.278818  0.061231 -0.225803  0.145063   \n",
       "CASH_ADVANCE                     -0.148502  0.333146  0.006418  0.264192   \n",
       "PURCHASES_FREQUENCY               0.306143 -0.022151 -0.234055  0.035735   \n",
       "ONEOFF_PURCHASES_FREQUENCY        0.249454  0.117873  0.246201 -0.194323   \n",
       "PURCHASES_INSTALLMENTS_FREQUENCY  0.258223 -0.035837 -0.389788  0.156449   \n",
       "CASH_ADVANCE_FREQUENCY           -0.170773  0.307674 -0.012959  0.156184   \n",
       "CASH_ADVANCE_TRX                 -0.153093  0.314884 -0.020335  0.180106   \n",
       "PURCHASES_TRX                     0.323321  0.106543 -0.085957 -0.016823   \n",
       "CREDIT_LIMIT                      0.098076  0.227350  0.104555  0.098952   \n",
       "PAYMENTS                          0.135379  0.261903  0.153120  0.228461   \n",
       "MINIMUM_PAYMENTS                 -0.033643  0.290147 -0.221142 -0.180896   \n",
       "PRC_FULL_PAYMENT                  0.142465 -0.127850  0.097558  0.334188   \n",
       "TENURE                            0.063811  0.020563 -0.035052 -0.135753   \n",
       "Monthly_avg_purchase              0.326102  0.140337  0.086129 -0.024615   \n",
       "Monthly_cash_advance             -0.150643  0.324381  0.009495  0.271270   \n",
       "Limit_usage                      -0.118823  0.219106 -0.219964 -0.340768   \n",
       "Payment_minpay                    0.144251 -0.008024  0.315804  0.350992   \n",
       "Both                              0.247765  0.112829 -0.024666 -0.057035   \n",
       "Installment_purchases             0.009295 -0.196326 -0.378232  0.237715   \n",
       "None                             -0.231940  0.096637  0.059066  0.093250   \n",
       "One_off                          -0.052326 -0.018282  0.370990 -0.285180   \n",
       "\n",
       "                                      PC_4      PC_5      PC_6      PC_7  \\\n",
       "BALANCE                           0.195124 -0.127710 -0.121188  0.131705   \n",
       "BALANCE_FREQUENCY                -0.167596  0.030516  0.361055 -0.325977   \n",
       "PURCHASES                        -0.015669 -0.009472  0.081186  0.201252   \n",
       "ONEOFF_PURCHASES                 -0.018181  0.060773  0.042071  0.126368   \n",
       "INSTALLMENTS_PURCHASES           -0.035860 -0.079109  0.047414  0.164322   \n",
       "CASH_ADVANCE                      0.086448  0.120122 -0.044327 -0.096185   \n",
       "PURCHASES_FREQUENCY               0.083739  0.227586  0.011815 -0.177936   \n",
       "ONEOFF_PURCHASES_FREQUENCY       -0.034869  0.184056 -0.035288 -0.175904   \n",
       "PURCHASES_INSTALLMENTS_FREQUENCY -0.005902  0.081141 -0.026258 -0.069119   \n",
       "CASH_ADVANCE_FREQUENCY           -0.108603  0.212362  0.105513 -0.185786   \n",
       "CASH_ADVANCE_TRX                 -0.049851  0.201603  0.092443 -0.235053   \n",
       "PURCHASES_TRX                    -0.062560  0.051990  0.005012 -0.014972   \n",
       "CREDIT_LIMIT                      0.334036 -0.244227 -0.477411 -0.080940   \n",
       "PAYMENTS                          0.097569 -0.244456  0.253608  0.115344   \n",
       "MINIMUM_PAYMENTS                  0.261026 -0.159805 -0.016649  0.260844   \n",
       "PRC_FULL_PAYMENT                  0.046636 -0.012198  0.201435 -0.147260   \n",
       "TENURE                            0.133905 -0.631735  0.127932 -0.573053   \n",
       "Monthly_avg_purchase             -0.018610  0.030140  0.077670  0.233680   \n",
       "Monthly_cash_advance              0.067132  0.184972 -0.061333 -0.036664   \n",
       "Limit_usage                      -0.140302 -0.008730  0.355599  0.172446   \n",
       "Payment_minpay                   -0.082350 -0.179584  0.331316  0.047736   \n",
       "Both                             -0.362549  0.036980 -0.377382 -0.201364   \n",
       "Installment_purchases             0.373627  0.028775  0.188711  0.096168   \n",
       "None                             -0.426061 -0.315839  0.010351  0.207157   \n",
       "One_off                           0.452572  0.252996  0.216771 -0.087468   \n",
       "\n",
       "                                      PC_8      PC_9  \n",
       "BALANCE                          -0.151061  0.098493  \n",
       "BALANCE_FREQUENCY                -0.500454 -0.090788  \n",
       "PURCHASES                         0.038460 -0.240384  \n",
       "ONEOFF_PURCHASES                 -0.014806 -0.256598  \n",
       "INSTALLMENTS_PURCHASES            0.112873 -0.082420  \n",
       "CASH_ADVANCE                      0.060444  0.012307  \n",
       "PURCHASES_FREQUENCY              -0.027457  0.076568  \n",
       "ONEOFF_PURCHASES_FREQUENCY       -0.123492 -0.006581  \n",
       "PURCHASES_INSTALLMENTS_FREQUENCY  0.077330  0.044538  \n",
       "CASH_ADVANCE_FREQUENCY            0.106035 -0.181434  \n",
       "CASH_ADVANCE_TRX                  0.160911 -0.156224  \n",
       "PURCHASES_TRX                     0.056212 -0.111281  \n",
       "CREDIT_LIMIT                     -0.347745 -0.122540  \n",
       "PAYMENTS                          0.110443  0.228733  \n",
       "MINIMUM_PAYMENTS                 -0.006246  0.321976  \n",
       "PRC_FULL_PAYMENT                 -0.553734  0.309352  \n",
       "TENURE                            0.298703 -0.157593  \n",
       "Monthly_avg_purchase              0.022445 -0.231764  \n",
       "Monthly_cash_advance              0.030028  0.022952  \n",
       "Limit_usage                       0.051288  0.241575  \n",
       "Payment_minpay                    0.127481  0.254722  \n",
       "Both                              0.169971  0.413359  \n",
       "Installment_purchases            -0.009313 -0.241933  \n",
       "None                             -0.250026 -0.267152  \n",
       "One_off                           0.074623  0.064028  "
      ]
     },
     "execution_count": 42,
     "metadata": {},
     "output_type": "execute_result"
    }
   ],
   "source": [
    "# principal axes in feature space, representing the directions of maximum variance in the data.\n",
    "pd.DataFrame(credit_pca.components_.T, columns = ['PC_' + str(i) for i in range(10)], index = credit.columns)"
   ]
  },
  {
   "cell_type": "code",
   "execution_count": 43,
   "metadata": {},
   "outputs": [
    {
     "data": {
      "text/plain": [
       "PC_0    0.285821\n",
       "PC_1    0.204447\n",
       "PC_2    0.097649\n",
       "PC_3    0.080338\n",
       "PC_4    0.051206\n",
       "PC_5    0.047927\n",
       "PC_6    0.036795\n",
       "PC_7    0.035954\n",
       "PC_8    0.029578\n",
       "PC_9    0.021481\n",
       "dtype: float64"
      ]
     },
     "execution_count": 43,
     "metadata": {},
     "output_type": "execute_result"
    }
   ],
   "source": [
    "# Factor Analysis : variance explained by each component\n",
    "pd.Series(credit_pca.explained_variance_ratio_,index=['PC_'+ str(i) for i in range(10)])"
   ]
  },
  {
   "cell_type": "markdown",
   "metadata": {},
   "source": [
    " Based on interepertations from above, we decided to take only **10 dimensions** and put it to new dataset called **credit_new**."
   ]
  },
  {
   "cell_type": "code",
   "execution_count": 44,
   "metadata": {},
   "outputs": [],
   "source": [
    "# deriving dataframe from pca to perform clustering\n",
    "reduced_credit = credit_pca.fit_transform(credit_scaled)\n",
    "credit_new = pd.DataFrame(reduced_credit)"
   ]
  },
  {
   "cell_type": "code",
   "execution_count": 45,
   "metadata": {},
   "outputs": [
    {
     "data": {
      "text/plain": [
       "(8950, 10)"
      ]
     },
     "execution_count": 45,
     "metadata": {},
     "output_type": "execute_result"
    }
   ],
   "source": [
    "# shape of the new dataframe\n",
    "credit_new.shape"
   ]
  },
  {
   "cell_type": "code",
   "execution_count": 46,
   "metadata": {},
   "outputs": [
    {
     "data": {
      "text/html": [
       "<div>\n",
       "<style scoped>\n",
       "    .dataframe tbody tr th:only-of-type {\n",
       "        vertical-align: middle;\n",
       "    }\n",
       "\n",
       "    .dataframe tbody tr th {\n",
       "        vertical-align: top;\n",
       "    }\n",
       "\n",
       "    .dataframe thead th {\n",
       "        text-align: right;\n",
       "    }\n",
       "</style>\n",
       "<table border=\"1\" class=\"dataframe\">\n",
       "  <thead>\n",
       "    <tr style=\"text-align: right;\">\n",
       "      <th></th>\n",
       "      <th>0</th>\n",
       "      <th>1</th>\n",
       "      <th>2</th>\n",
       "      <th>3</th>\n",
       "      <th>4</th>\n",
       "      <th>5</th>\n",
       "      <th>6</th>\n",
       "      <th>7</th>\n",
       "      <th>8</th>\n",
       "      <th>9</th>\n",
       "    </tr>\n",
       "  </thead>\n",
       "  <tbody>\n",
       "    <tr>\n",
       "      <td>0</td>\n",
       "      <td>-1.313513</td>\n",
       "      <td>-2.838654</td>\n",
       "      <td>-0.542384</td>\n",
       "      <td>0.025271</td>\n",
       "      <td>0.431845</td>\n",
       "      <td>-0.290160</td>\n",
       "      <td>0.009593</td>\n",
       "      <td>-0.060717</td>\n",
       "      <td>0.512050</td>\n",
       "      <td>-0.789461</td>\n",
       "    </tr>\n",
       "    <tr>\n",
       "      <td>1</td>\n",
       "      <td>-3.174895</td>\n",
       "      <td>3.083190</td>\n",
       "      <td>0.553046</td>\n",
       "      <td>1.884478</td>\n",
       "      <td>0.187044</td>\n",
       "      <td>-1.296895</td>\n",
       "      <td>-0.206185</td>\n",
       "      <td>-0.000559</td>\n",
       "      <td>-0.691925</td>\n",
       "      <td>0.386282</td>\n",
       "    </tr>\n",
       "    <tr>\n",
       "      <td>2</td>\n",
       "      <td>0.860594</td>\n",
       "      <td>-0.093187</td>\n",
       "      <td>1.535339</td>\n",
       "      <td>-2.641136</td>\n",
       "      <td>1.580645</td>\n",
       "      <td>0.637443</td>\n",
       "      <td>-0.352804</td>\n",
       "      <td>-0.978637</td>\n",
       "      <td>-1.015126</td>\n",
       "      <td>-0.269088</td>\n",
       "    </tr>\n",
       "    <tr>\n",
       "      <td>3</td>\n",
       "      <td>-0.395109</td>\n",
       "      <td>-0.465372</td>\n",
       "      <td>2.128858</td>\n",
       "      <td>-1.636651</td>\n",
       "      <td>1.672140</td>\n",
       "      <td>-0.105706</td>\n",
       "      <td>-0.856438</td>\n",
       "      <td>0.607515</td>\n",
       "      <td>0.352004</td>\n",
       "      <td>-1.096478</td>\n",
       "    </tr>\n",
       "    <tr>\n",
       "      <td>4</td>\n",
       "      <td>-1.756117</td>\n",
       "      <td>-1.559736</td>\n",
       "      <td>0.908750</td>\n",
       "      <td>-2.131489</td>\n",
       "      <td>0.431850</td>\n",
       "      <td>0.068187</td>\n",
       "      <td>1.097879</td>\n",
       "      <td>-0.365269</td>\n",
       "      <td>0.286701</td>\n",
       "      <td>0.527100</td>\n",
       "    </tr>\n",
       "  </tbody>\n",
       "</table>\n",
       "</div>"
      ],
      "text/plain": [
       "          0         1         2         3         4         5         6  \\\n",
       "0 -1.313513 -2.838654 -0.542384  0.025271  0.431845 -0.290160  0.009593   \n",
       "1 -3.174895  3.083190  0.553046  1.884478  0.187044 -1.296895 -0.206185   \n",
       "2  0.860594 -0.093187  1.535339 -2.641136  1.580645  0.637443 -0.352804   \n",
       "3 -0.395109 -0.465372  2.128858 -1.636651  1.672140 -0.105706 -0.856438   \n",
       "4 -1.756117 -1.559736  0.908750 -2.131489  0.431850  0.068187  1.097879   \n",
       "\n",
       "          7         8         9  \n",
       "0 -0.060717  0.512050 -0.789461  \n",
       "1 -0.000559 -0.691925  0.386282  \n",
       "2 -0.978637 -1.015126 -0.269088  \n",
       "3  0.607515  0.352004 -1.096478  \n",
       "4 -0.365269  0.286701  0.527100  "
      ]
     },
     "execution_count": 46,
     "metadata": {},
     "output_type": "execute_result"
    }
   ],
   "source": [
    "# first five rows of the new dataframe\n",
    "credit_new.head()"
   ]
  },
  {
   "cell_type": "markdown",
   "metadata": {},
   "source": [
    "___"
   ]
  },
  {
   "cell_type": "markdown",
   "metadata": {},
   "source": [
    "After defining which dimensions that are going to used in **Clustering**, now we will use **K-Means** to determine how many **Clusters** do we need to divide Customers, which may represents their profile and we will determine what kind of **treatment** should be given to them."
   ]
  },
  {
   "cell_type": "markdown",
   "metadata": {},
   "source": [
    "## CLUSTERING"
   ]
  },
  {
   "cell_type": "markdown",
   "metadata": {},
   "source": [
    "> Clustering is the task of dividing the population or data points into a number of groups such that data points in the same groups are more similar to other data points in the same group than those in other groups. In simple words, the aim is to segregate groups with similar traits and assign them into clusters."
   ]
  },
  {
   "cell_type": "markdown",
   "metadata": {},
   "source": [
    "- ## K-Means\n",
    "> **K-means clustering algorithm** – It is the simplest unsupervised learning algorithm that solves clustering problem. K-means algorithm partition n observations into k clusters where each observation belongs to the cluster with the nearest mean serving as a prototype of the cluster ."
   ]
  },
  {
   "cell_type": "code",
   "execution_count": 47,
   "metadata": {},
   "outputs": [],
   "source": [
    "# for clustering\n",
    "from sklearn.cluster import KMeans\n",
    "\n",
    "# to check performance matrix\n",
    "from sklearn.metrics import silhouette_score\n",
    "\n",
    "wcss = []\n",
    "score = {}\n",
    "\n",
    "for n in range(2, 15):\n",
    "    kmeans = KMeans(n_clusters = n, init = 'k-means++', random_state = 42)\n",
    "    kmeans.fit(credit_new)\n",
    "    wcss.append(kmeans.inertia_)\n",
    "    score[n] = silhouette_score(credit_new, kmeans.labels_)"
   ]
  },
  {
   "cell_type": "code",
   "execution_count": 49,
   "metadata": {},
   "outputs": [
    {
     "data": {
      "image/png": "[encoded data removed]",
      "text/plain": [
       "<Figure size 720x540 with 1 Axes>"
      ]
     },
     "metadata": {
      "needs_background": "light"
     },
     "output_type": "display_data"
    }
   ],
   "source": [
    "# Plotting elbow curve\n",
    "plt.plot(range(2, 15), wcss)\n",
    "plt.title('The Elbow Method')\n",
    "plt.xlabel('Number of clusters')\n",
    "plt.ylabel('WCSS')\n",
    "plt.show()"
   ]
  },
  {
   "cell_type": "markdown",
   "metadata": {},
   "source": [
    ">Based on the **Elbow Method**, we can say that the potential number of cluster (k) that may represents the customer segmentation is 6 because the line steadily declined after the **6 clusters**."
   ]
  },
  {
   "cell_type": "code",
   "execution_count": 50,
   "metadata": {},
   "outputs": [
    {
     "data": {
      "image/png": "[encoded data removed]",
      "text/plain": [
       "<Figure size 720x540 with 1 Axes>"
      ]
     },
     "metadata": {
      "needs_background": "light"
     },
     "output_type": "display_data"
    }
   ],
   "source": [
    "# plotting silhouette score\n",
    "pd.Series(score).plot()\n",
    "plt.title('silhouette method for optimal k')\n",
    "plt.xlabel('k')\n",
    "plt.ylabel('silhouette score')\n",
    "plt.show()"
   ]
  },
  {
   "cell_type": "markdown",
   "metadata": {},
   "source": [
    "> - The silhouette value is a measure of how similar an object is to its own cluster (cohesion) compared to other clusters (separation). <br><br>\n",
    "- The silhouette ranges from −1 to +1, where a high value indicates that the object is well matched to its own cluster and poorly matched to neighboring clusters. <br><br>\n",
    "- Hence, **silhouette score** also suggests that **k=6** should be chosen for the number of clusters."
   ]
  },
  {
   "cell_type": "markdown",
   "metadata": {},
   "source": [
    "### FINDING BEHAVIOUR WITH 6 CLUSTERS"
   ]
  },
  {
   "cell_type": "code",
   "execution_count": 51,
   "metadata": {},
   "outputs": [
    {
     "data": {
      "image/png": "[encoded data removed]",
      "text/plain": [
       "<Figure size 576x576 with 1 Axes>"
      ]
     },
     "metadata": {
      "needs_background": "light"
     },
     "output_type": "display_data"
    }
   ],
   "source": [
    "# creating 6 clusters\n",
    "kmeans_6 = KMeans(n_clusters=6, random_state=42).fit(credit_new)\n",
    "\n",
    "# cluster visualisation\n",
    "color_map = {0:'r', 1:'b', 2:'y', 3:'c', 4:'m', 5:'k'}\n",
    "label_color = [color_map[l] for l in kmeans_6.labels_]\n",
    "plt.figure(figsize = (8, 8))\n",
    "plt.scatter(credit_new.iloc[:, 0], credit_new.iloc[:, 1], c=label_color, cmap='Spectral', alpha=0.5)\n",
    "plt.show()"
   ]
  },
  {
   "cell_type": "code",
   "execution_count": 52,
   "metadata": {},
   "outputs": [
    {
     "data": {
      "image/png": "[encoded data removed]",
      "text/plain": [
       "<Figure size 720x540 with 1 Axes>"
      ]
     },
     "metadata": {
      "needs_background": "light"
     },
     "output_type": "display_data"
    }
   ],
   "source": [
    "# graphical representation of frequency count of each cluster\n",
    "ax = sns.countplot(kmeans_6.labels_)\n",
    "for p in ax.patches:\n",
    "    ax.annotate('{:.2f}'.format(p.get_height()), (p.get_x()+0.15, p.get_height()+20))"
   ]
  },
  {
   "cell_type": "code",
   "execution_count": 53,
   "metadata": {},
   "outputs": [],
   "source": [
    "# Key performace variable selection . Here I am dropping varibales which were used in derving new KPI\n",
    "col_kpi = ['PURCHASES_TRX','CREDIT_LIMIT', 'CASH_ADVANCE_TRX', 'Monthly_avg_purchase', 'Monthly_cash_advance', \n",
    "           'Limit_usage', 'Payment_minpay', 'Both', 'Installment_purchases', 'None', 'One_off']"
   ]
  },
  {
   "cell_type": "code",
   "execution_count": 54,
   "metadata": {},
   "outputs": [
    {
     "data": {
      "text/html": [
       "<div>\n",
       "<style scoped>\n",
       "    .dataframe tbody tr th:only-of-type {\n",
       "        vertical-align: middle;\n",
       "    }\n",
       "\n",
       "    .dataframe tbody tr th {\n",
       "        vertical-align: top;\n",
       "    }\n",
       "\n",
       "    .dataframe thead th {\n",
       "        text-align: right;\n",
       "    }\n",
       "</style>\n",
       "<table border=\"1\" class=\"dataframe\">\n",
       "  <thead>\n",
       "    <tr style=\"text-align: right;\">\n",
       "      <th></th>\n",
       "      <th>PURCHASES_TRX</th>\n",
       "      <th>CREDIT_LIMIT</th>\n",
       "      <th>CASH_ADVANCE_TRX</th>\n",
       "      <th>Monthly_avg_purchase</th>\n",
       "      <th>Monthly_cash_advance</th>\n",
       "      <th>Limit_usage</th>\n",
       "      <th>Payment_minpay</th>\n",
       "      <th>Both</th>\n",
       "      <th>Installment_purchases</th>\n",
       "      <th>None</th>\n",
       "      <th>One_off</th>\n",
       "      <th>Cluster_6</th>\n",
       "    </tr>\n",
       "  </thead>\n",
       "  <tbody>\n",
       "    <tr>\n",
       "      <td>0</td>\n",
       "      <td>2</td>\n",
       "      <td>1000.0</td>\n",
       "      <td>0</td>\n",
       "      <td>7.950000</td>\n",
       "      <td>0.000000</td>\n",
       "      <td>0.040901</td>\n",
       "      <td>1.446508</td>\n",
       "      <td>0</td>\n",
       "      <td>1</td>\n",
       "      <td>0</td>\n",
       "      <td>0</td>\n",
       "      <td>0</td>\n",
       "    </tr>\n",
       "    <tr>\n",
       "      <td>1</td>\n",
       "      <td>0</td>\n",
       "      <td>7000.0</td>\n",
       "      <td>4</td>\n",
       "      <td>0.000000</td>\n",
       "      <td>387.264093</td>\n",
       "      <td>0.457495</td>\n",
       "      <td>3.826241</td>\n",
       "      <td>0</td>\n",
       "      <td>0</td>\n",
       "      <td>1</td>\n",
       "      <td>0</td>\n",
       "      <td>5</td>\n",
       "    </tr>\n",
       "    <tr>\n",
       "      <td>2</td>\n",
       "      <td>12</td>\n",
       "      <td>7500.0</td>\n",
       "      <td>0</td>\n",
       "      <td>64.430833</td>\n",
       "      <td>0.000000</td>\n",
       "      <td>0.332687</td>\n",
       "      <td>0.991682</td>\n",
       "      <td>0</td>\n",
       "      <td>0</td>\n",
       "      <td>0</td>\n",
       "      <td>1</td>\n",
       "      <td>2</td>\n",
       "    </tr>\n",
       "    <tr>\n",
       "      <td>3</td>\n",
       "      <td>1</td>\n",
       "      <td>7500.0</td>\n",
       "      <td>1</td>\n",
       "      <td>124.916667</td>\n",
       "      <td>17.149001</td>\n",
       "      <td>0.222223</td>\n",
       "      <td>0.139867</td>\n",
       "      <td>0</td>\n",
       "      <td>0</td>\n",
       "      <td>0</td>\n",
       "      <td>1</td>\n",
       "      <td>2</td>\n",
       "    </tr>\n",
       "    <tr>\n",
       "      <td>4</td>\n",
       "      <td>1</td>\n",
       "      <td>1200.0</td>\n",
       "      <td>0</td>\n",
       "      <td>1.333333</td>\n",
       "      <td>0.000000</td>\n",
       "      <td>0.681429</td>\n",
       "      <td>2.771075</td>\n",
       "      <td>0</td>\n",
       "      <td>0</td>\n",
       "      <td>0</td>\n",
       "      <td>1</td>\n",
       "      <td>2</td>\n",
       "    </tr>\n",
       "  </tbody>\n",
       "</table>\n",
       "</div>"
      ],
      "text/plain": [
       "   PURCHASES_TRX  CREDIT_LIMIT  CASH_ADVANCE_TRX  Monthly_avg_purchase  \\\n",
       "0              2        1000.0                 0              7.950000   \n",
       "1              0        7000.0                 4              0.000000   \n",
       "2             12        7500.0                 0             64.430833   \n",
       "3              1        7500.0                 1            124.916667   \n",
       "4              1        1200.0                 0              1.333333   \n",
       "\n",
       "   Monthly_cash_advance  Limit_usage  Payment_minpay  Both  \\\n",
       "0              0.000000     0.040901        1.446508     0   \n",
       "1            387.264093     0.457495        3.826241     0   \n",
       "2              0.000000     0.332687        0.991682     0   \n",
       "3             17.149001     0.222223        0.139867     0   \n",
       "4              0.000000     0.681429        2.771075     0   \n",
       "\n",
       "   Installment_purchases  None  One_off  Cluster_6  \n",
       "0                      1     0        0          0  \n",
       "1                      0     1        0          5  \n",
       "2                      0     0        1          2  \n",
       "3                      0     0        1          2  \n",
       "4                      0     0        1          2  "
      ]
     },
     "execution_count": 54,
     "metadata": {},
     "output_type": "execute_result"
    }
   ],
   "source": [
    "# Conactenating labels found through Kmeans with data \n",
    "cluster_df_6 = pd.concat([credit[col_kpi], pd.Series(kmeans_6.labels_, name = 'Cluster_6')], axis=1)\n",
    "cluster_df_6.head()"
   ]
  },
  {
   "cell_type": "code",
   "execution_count": 55,
   "metadata": {},
   "outputs": [
    {
     "data": {
      "text/html": [
       "<div>\n",
       "<style scoped>\n",
       "    .dataframe tbody tr th:only-of-type {\n",
       "        vertical-align: middle;\n",
       "    }\n",
       "\n",
       "    .dataframe tbody tr th {\n",
       "        vertical-align: top;\n",
       "    }\n",
       "\n",
       "    .dataframe thead th {\n",
       "        text-align: right;\n",
       "    }\n",
       "</style>\n",
       "<table border=\"1\" class=\"dataframe\">\n",
       "  <thead>\n",
       "    <tr style=\"text-align: right;\">\n",
       "      <th>Cluster_6</th>\n",
       "      <th>0</th>\n",
       "      <th>1</th>\n",
       "      <th>2</th>\n",
       "      <th>3</th>\n",
       "      <th>4</th>\n",
       "      <th>5</th>\n",
       "    </tr>\n",
       "  </thead>\n",
       "  <tbody>\n",
       "    <tr>\n",
       "      <td>PURCHASES_TRX</td>\n",
       "      <td>11.367021</td>\n",
       "      <td>0.056860</td>\n",
       "      <td>5.732543</td>\n",
       "      <td>18.588382</td>\n",
       "      <td>42.681774</td>\n",
       "      <td>6.498195</td>\n",
       "    </tr>\n",
       "    <tr>\n",
       "      <td>CREDIT_LIMIT</td>\n",
       "      <td>2980.688290</td>\n",
       "      <td>2957.468059</td>\n",
       "      <td>3850.678924</td>\n",
       "      <td>4162.999956</td>\n",
       "      <td>7344.069431</td>\n",
       "      <td>7225.816377</td>\n",
       "    </tr>\n",
       "    <tr>\n",
       "      <td>CASH_ADVANCE_TRX</td>\n",
       "      <td>0.443907</td>\n",
       "      <td>4.129172</td>\n",
       "      <td>1.214756</td>\n",
       "      <td>1.158651</td>\n",
       "      <td>1.688525</td>\n",
       "      <td>10.288809</td>\n",
       "    </tr>\n",
       "    <tr>\n",
       "      <td>Monthly_avg_purchase</td>\n",
       "      <td>42.276995</td>\n",
       "      <td>0.173424</td>\n",
       "      <td>50.207862</td>\n",
       "      <td>85.053448</td>\n",
       "      <td>281.146611</td>\n",
       "      <td>35.848877</td>\n",
       "    </tr>\n",
       "    <tr>\n",
       "      <td>Monthly_cash_advance</td>\n",
       "      <td>11.557049</td>\n",
       "      <td>96.376774</td>\n",
       "      <td>24.007029</td>\n",
       "      <td>20.392584</td>\n",
       "      <td>44.294111</td>\n",
       "      <td>321.955605</td>\n",
       "    </tr>\n",
       "  </tbody>\n",
       "</table>\n",
       "</div>"
      ],
      "text/plain": [
       "Cluster_6                       0            1            2            3  \\\n",
       "PURCHASES_TRX           11.367021     0.056860     5.732543    18.588382   \n",
       "CREDIT_LIMIT          2980.688290  2957.468059  3850.678924  4162.999956   \n",
       "CASH_ADVANCE_TRX         0.443907     4.129172     1.214756     1.158651   \n",
       "Monthly_avg_purchase    42.276995     0.173424    50.207862    85.053448   \n",
       "Monthly_cash_advance    11.557049    96.376774    24.007029    20.392584   \n",
       "\n",
       "Cluster_6                       4            5  \n",
       "PURCHASES_TRX           42.681774     6.498195  \n",
       "CREDIT_LIMIT          7344.069431  7225.816377  \n",
       "CASH_ADVANCE_TRX         1.688525    10.288809  \n",
       "Monthly_avg_purchase   281.146611    35.848877  \n",
       "Monthly_cash_advance    44.294111   321.955605  "
      ]
     },
     "execution_count": 55,
     "metadata": {},
     "output_type": "execute_result"
    }
   ],
   "source": [
    "# finding mean value for each variable for each cluster\n",
    "six_cluster = cluster_df_6.groupby('Cluster_6')[col_kpi].mean().T\n",
    "six_cluster.head()"
   ]
  },
  {
   "cell_type": "code",
   "execution_count": 56,
   "metadata": {},
   "outputs": [
    {
     "data": {
      "image/png": "[encoded data removed]",
      "text/plain": [
       "<Figure size 1080x720 with 1 Axes>"
      ]
     },
     "metadata": {
      "needs_background": "light"
     },
     "output_type": "display_data"
    }
   ],
   "source": [
    "fig,ax = plt.subplots(figsize=(15, 10))\n",
    "index = np.arange(len(six_cluster.columns))\n",
    "\n",
    "cash_advance = np.log(six_cluster.loc['Monthly_cash_advance',:].values)\n",
    "credit_score = (six_cluster.loc['Limit_usage',:].values)\n",
    "purchase = np.log(six_cluster.loc['Monthly_avg_purchase',:].values)\n",
    "payment = six_cluster.loc['Payment_minpay',:].values\n",
    "installment = six_cluster.loc['Installment_purchases',:].values\n",
    "one_off = six_cluster.loc['One_off',:].values\n",
    "both = six_cluster.loc['Both',:].values\n",
    "none = six_cluster.loc['None',:].values\n",
    "\n",
    "bar_width = .10\n",
    "b1 = plt.bar(index, cash_advance, color='b', label='Monthly cash advance', width=bar_width)\n",
    "b2 = plt.bar(index + bar_width, credit_score, color = 'm', label='Credit_score', width=bar_width)\n",
    "b3 = plt.bar(index + 2 * bar_width, purchase, color='k', label='Avg purchase', width=bar_width)\n",
    "b4 = plt.bar(index + 3 * bar_width, payment, color='c', label='Payment-minpayment ratio', width=bar_width)\n",
    "b5 = plt.bar(index + 4 * bar_width, installment, color='r', label='Installment', width=bar_width)\n",
    "b6 = plt.bar(index + 5 * bar_width, one_off, color='g', label='One_off purchase', width=bar_width)\n",
    "b7 = plt.bar(index + 6 * bar_width, both, color='y', label='Both', width=bar_width)\n",
    "b8 = plt.bar(index + 6 * bar_width, none, color='#808080', label='None', width=bar_width)\n",
    "\n",
    "plt.xlabel(\"Clusters\")\n",
    "plt.title(\"Insights\")\n",
    "plt.xticks(index + bar_width, ('Cluster-0', 'Cluster-1', 'Cluster-2', 'Cluster-3','Cluster-4','Cluster-5'))\n",
    "plt.legend()\n",
    "plt.show()"
   ]
  },
  {
   "cell_type": "markdown",
   "metadata": {},
   "source": [
    "## INSIGHTS OF CLUSTERS"
   ]
  },
  {
   "cell_type": "markdown",
   "metadata": {},
   "source": [
    "- **Cluster 0** with 2068 customers: Customers on this cluster give lowest cash in advance but has highest credit score and are doing maximum installment purchase transactions. **This group is about 23% of the total customer base**. <br><br>\n",
    "\n",
    "- **Cluster 1** with 1618 customers: These customers give a lot of cash in advance, but unfortunatley there is no spending on Purchases and comparitively have poor credit score. **This group is about 18% of the total customer base**.<br><br>\n",
    "\n",
    "- **Cluster 2** with 1518 customers: Customers in this cluster give less cash in advance and has maximum one off purchase transactions i.e. Maximum purchase amount done in one-go. **This group is about 17% of the total customer base**.<br><br>\n",
    "\n",
    "- **Cluster 3** with 1601 customers: Customers of this cluster have similar behaviour with customers of cluster 0. Customers of this cluster give low cash in advance and are doing both installment as well as one_off purchase transactions. **This group is about 18% of the total customer base**.<br><br>\n",
    "    \n",
    "- **Cluster 4** with 1037 customers: Customers in this cluster are doing maximum purchase transactions and paying dues on time. They have good credit score and are doing both installment as well as one_off purchase transactions. **This group is about 12% of the total customer base**.<br><br>\n",
    "    \n",
    "- **Cluster 5** with 1108 customers: Customers in this cluster give maximum cash in advance but has poorest credit score. Moreover, they are not doing transactions frequently. **This group is about 12% of the total customer base**."
   ]
  },
  {
   "cell_type": "markdown",
   "metadata": {},
   "source": [
    "___"
   ]
  },
  {
   "cell_type": "markdown",
   "metadata": {},
   "source": [
    "## MARKET STRATEGY SUGGESTED"
   ]
  },
  {
   "cell_type": "markdown",
   "metadata": {},
   "source": [
    "### CLUSTER 0\n",
    "    \n",
    "- These customers have maximum installment purchase with a good credit score.\n",
    "    - we can increase credit limit or can lower down interest rate.\n",
    "    - we can bring out **NO COST EMI** offers especially for this group.<br>\n",
    "\n",
    "\n",
    "### CLUSTER 1\n",
    "-  These customers give a lot cash in advance, but unfortunatley their spending on Purchases is still minimum. \n",
    "    - These customers are actually a quite potential Customers.\n",
    "    - We should attract them to apply installment even with the 0% interest at the beginning.<br>\n",
    "    \n",
    "\n",
    "### CLUSTER 2\n",
    "-  These customers give low cash in advance and using card for just oneoff transactions (may be for utility bills only). \n",
    "    - This group seems to be risky group.\n",
    "    - This indicates they are non-potential customers.<br>\n",
    "    \n",
    "\n",
    "### CLUSTER 3\n",
    "-  Customers in this Cluster are potential, since they spend Purchases in medium amount. \n",
    "    - A cash back program may attract them to use their credit card in bigger Purchase. \n",
    "    - We can even bring out some discount offers for this group.<br>\n",
    "    \n",
    "\n",
    "### CLUSTER 4\n",
    "-  These customers are our “Big Spenders”. They use their Credit Cards effectively with big Purchases.\n",
    "    - Giving reward points may keep them on using the Credit Card.\n",
    "    - We can give them PREMIUM CARD OR LOYALTY CARD to increase transactions. <br>\n",
    "    \n",
    "\n",
    "### CLUSTER 5\n",
    "-  These customers tend to keep their Credit Card and avoid to use it for transactions (Low Purchases)\n",
    "    - We could give them some gimmicks as the first user, so they will be attracted to use their Credit Card more often.\n",
    "    - We can bring out bumper offers especially for these users on credit card transactions."
   ]
  },
  {
   "cell_type": "markdown",
   "metadata": {},
   "source": [
    "<center> <h1> END"
   ]
  },
  {
   "cell_type": "markdown",
   "metadata": {},
   "source": [
    "___"
   ]
  }
 ],
 "metadata": {
  "kernelspec": {
   "display_name": "Python 3",
   "language": "python",
   "name": "python3"
  },
  "language_info": {
   "codemirror_mode": {
    "name": "ipython",
    "version": 3
   },
   "file_extension": ".py",
   "mimetype": "text/x-python",
   "name": "python",
   "nbconvert_exporter": "python",
   "pygments_lexer": "ipython3",
   "version": "3.7.4"
  }
 },
 "nbformat": 4,
 "nbformat_minor": 2
}
